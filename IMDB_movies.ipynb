{
 "cells": [
  {
   "cell_type": "code",
   "execution_count": 37,
   "id": "92eeea8d",
   "metadata": {},
   "outputs": [],
   "source": [
    "import pandas as pd"
   ]
  },
  {
   "cell_type": "code",
   "execution_count": 38,
   "id": "e1a8f5c8",
   "metadata": {},
   "outputs": [],
   "source": [
    "df = pd.read_csv(r'C:\\Codsoft\\IMDb Movies India.csv', encoding='latin1')\n"
   ]
  },
  {
   "cell_type": "code",
   "execution_count": 39,
   "id": "37cda104",
   "metadata": {},
   "outputs": [
    {
     "data": {
      "application/vnd.microsoft.datawrangler.viewer.v0+json": {
       "columns": [
        {
         "name": "index",
         "rawType": "int64",
         "type": "integer"
        },
        {
         "name": "Name",
         "rawType": "object",
         "type": "string"
        },
        {
         "name": "Year",
         "rawType": "object",
         "type": "unknown"
        },
        {
         "name": "Duration",
         "rawType": "object",
         "type": "unknown"
        },
        {
         "name": "Genre",
         "rawType": "object",
         "type": "unknown"
        },
        {
         "name": "Rating",
         "rawType": "float64",
         "type": "float"
        },
        {
         "name": "Votes",
         "rawType": "object",
         "type": "unknown"
        },
        {
         "name": "Director",
         "rawType": "object",
         "type": "unknown"
        },
        {
         "name": "Actor 1",
         "rawType": "object",
         "type": "unknown"
        },
        {
         "name": "Actor 2",
         "rawType": "object",
         "type": "unknown"
        },
        {
         "name": "Actor 3",
         "rawType": "object",
         "type": "unknown"
        }
       ],
       "ref": "7fd87680-6b61-40d5-b433-20f5c5403c6d",
       "rows": [
        [
         "0",
         " ",
         null,
         null,
         "Drama",
         null,
         null,
         "J.S. Randhawa",
         "Manmauji",
         "Birbal",
         "Rajendra Bhatia"
        ],
        [
         "1",
         "#Gadhvi (He thought he was Gandhi)",
         "(2019)",
         "109 min",
         "Drama",
         "7.0",
         "8",
         "Gaurav Bakshi",
         "Rasika Dugal",
         "Vivek Ghamande",
         "Arvind Jangid"
        ],
        [
         "2",
         "#Homecoming",
         "(2021)",
         "90 min",
         "Drama, Musical",
         null,
         null,
         "Soumyajit Majumdar",
         "Sayani Gupta",
         "Plabita Borthakur",
         "Roy Angana"
        ],
        [
         "3",
         "#Yaaram",
         "(2019)",
         "110 min",
         "Comedy, Romance",
         "4.4",
         "35",
         "Ovais Khan",
         "Prateik",
         "Ishita Raj",
         "Siddhant Kapoor"
        ],
        [
         "4",
         "...And Once Again",
         "(2010)",
         "105 min",
         "Drama",
         null,
         null,
         "Amol Palekar",
         "Rajat Kapoor",
         "Rituparna Sengupta",
         "Antara Mali"
        ],
        [
         "5",
         "...Aur Pyaar Ho Gaya",
         "(1997)",
         "147 min",
         "Comedy, Drama, Musical",
         "4.7",
         "827",
         "Rahul Rawail",
         "Bobby Deol",
         "Aishwarya Rai Bachchan",
         "Shammi Kapoor"
        ],
        [
         "6",
         "...Yahaan",
         "(2005)",
         "142 min",
         "Drama, Romance, War",
         "7.4",
         "1,086",
         "Shoojit Sircar",
         "Jimmy Sheirgill",
         "Minissha Lamba",
         "Yashpal Sharma"
        ],
        [
         "7",
         ".in for Motion",
         "(2008)",
         "59 min",
         "Documentary",
         null,
         null,
         "Anirban Datta",
         null,
         null,
         null
        ],
        [
         "8",
         "?: A Question Mark",
         "(2012)",
         "82 min",
         "Horror, Mystery, Thriller",
         "5.6",
         "326",
         "Allyson Patel",
         "Yash Dave",
         "Muntazir Ahmad",
         "Kiran Bhatia"
        ],
        [
         "9",
         "@Andheri",
         "(2014)",
         "116 min",
         "Action, Crime, Thriller",
         "4.0",
         "11",
         "Biju Bhaskar Nair",
         "Augustine",
         "Fathima Babu",
         "Byon"
        ],
        [
         "10",
         "1:1.6 An Ode to Lost Love",
         "(2004)",
         "96 min",
         "Drama",
         "6.2",
         "17",
         "Madhu Ambat",
         "Rati Agnihotri",
         "Gulshan Grover",
         "Atul Kulkarni"
        ],
        [
         "11",
         "1:13:7 Ek Tera Saath",
         "(2016)",
         "120 min",
         "Horror",
         "5.9",
         "59",
         "Arshad Siddiqui",
         "Pankaj Berry",
         "Anubhav Dhir",
         "Hritu Dudani"
        ],
        [
         "12",
         "100 Days",
         "(1991)",
         "161 min",
         "Horror, Romance, Thriller",
         "6.5",
         "983",
         "Partho Ghosh",
         "Jackie Shroff",
         "Madhuri Dixit",
         "Javed Jaffrey"
        ],
        [
         "13",
         "100% Love",
         "(2012)",
         "166 min",
         "Comedy, Drama, Romance",
         "5.7",
         "512",
         "Rabi Kinagi",
         "Jeet",
         "Koyel Mallick",
         "Sujoy Ghosh"
        ],
        [
         "14",
         "101 Ratein",
         "(1990)",
         null,
         "Thriller",
         null,
         null,
         "Harish",
         "Saraswati",
         "Disco Shanti",
         null
        ],
        [
         "15",
         "102 Not Out",
         "(2018)",
         "102 min",
         "Comedy, Drama",
         "7.4",
         "6,619",
         "Umesh Shukla",
         "Amitabh Bachchan",
         "Rishi Kapoor",
         "Vijay Raaz"
        ],
        [
         "16",
         "108 Limited",
         null,
         null,
         null,
         null,
         null,
         "Anand Anddy",
         "Vijay Raaz",
         "Sanjay Mishra",
         "Brahmanandam"
        ],
        [
         "17",
         "108 Teerthyatra",
         "(1987)",
         null,
         "Comedy, Drama, Fantasy",
         null,
         null,
         "Rajpati",
         "Pravin Anand",
         "Nayan Bhatt",
         "Jeetu"
        ],
        [
         "18",
         "10ml LOVE",
         "(2010)",
         "87 min",
         "Comedy, Drama, Romance",
         "6.3",
         "162",
         "Sharat Katariya",
         "Neil Bhoopalam",
         "Anusha Bose",
         "Manu Rishi Chadha"
        ],
        [
         "19",
         "11 O'Clock",
         "(1948)",
         null,
         null,
         null,
         null,
         "Homi Wadia",
         "Aftab",
         "Sayani Atish",
         "Austin Ki Bachchi"
        ],
        [
         "20",
         "12 Bulbule",
         "(2021)",
         null,
         "Comedy, Drama, Family",
         null,
         null,
         "Jagat Joon",
         "Sonu Sonkar",
         "Sunita Verman",
         "Anubhav Dixit"
        ],
        [
         "21",
         "12 O'Clock",
         "(1958)",
         "132 min",
         "Crime, Drama, Mystery",
         "7.2",
         "72",
         "Pramod Chakravorty",
         "Guru Dutt",
         "Waheeda Rehman",
         "Shashikala"
        ],
        [
         "22",
         "12 O'Clock",
         "(2021)",
         "105 min",
         "Horror, Thriller",
         "4.4",
         "63",
         "Ram Gopal Varma",
         "Mithun Chakraborty",
         "Makrand Deshpande",
         "Dalip Tahil"
        ],
        [
         "23",
         "12 Years",
         null,
         null,
         "Biography",
         null,
         null,
         "Sohail Tatari",
         null,
         null,
         null
        ],
        [
         "24",
         "124a",
         "(2021)",
         null,
         "Documentary",
         null,
         null,
         "Varrun Sukhraj",
         null,
         null,
         null
        ],
        [
         "25",
         "127 B",
         "(2017)",
         "116 min",
         "Comedy, Horror",
         "6.6",
         "26",
         "Seshu Kmr",
         "Mast Ali",
         "Aziz Naser",
         "Heena Shaik"
        ],
        [
         "26",
         "13 May Gulaabi Nagar",
         "(2010)",
         null,
         "Action",
         null,
         null,
         "N.K. Pareek",
         "Nirmal Pandey",
         "Khushi Rajpoot",
         "Raj Singh Verma"
        ],
        [
         "27",
         "13 Tribute of Love",
         "(2020)",
         "66 min",
         "Drama",
         null,
         null,
         "Rahul Tiwari",
         "Rahul Tiwari Adhiyari",
         "Anil Arora",
         "Asima Bhatt"
        ],
        [
         "28",
         "13B: Fear Has a New Address",
         "(2009)",
         "146 min",
         "Drama, Horror, Mystery",
         "7.3",
         "6,329",
         "Vikram K. Kumar",
         "Madhavan",
         "Neetu Chandra",
         "Poonam Dhillon"
        ],
        [
         "29",
         "14 Phere",
         "(2021)",
         null,
         "Comedy",
         null,
         null,
         "Devanshu Singh",
         "Vikrant Massey",
         "Kriti Kharbanda",
         "Gauahar Khan"
        ],
        [
         "30",
         "15 Park Avenue",
         "(2005)",
         "116 min",
         "Drama",
         "7.1",
         "1,002",
         "Aparna Sen",
         "Shabana Azmi",
         "Konkona Sen Sharma",
         "Rahul Bose"
        ],
        [
         "31",
         "150 Seconds Ago",
         "(2002)",
         "112 min",
         null,
         null,
         null,
         "Batul Mukhtiar",
         null,
         null,
         null
        ],
        [
         "32",
         "15th August",
         "(1993)",
         "168 min",
         "Drama",
         "5.6",
         "15",
         "Vicky Ranawat",
         "Ronit Roy",
         "Tisca Chopra",
         "Shakti Kapoor"
        ],
        [
         "33",
         "16 December",
         "(2002)",
         "158 min",
         "Action, Thriller",
         "6.9",
         "1,235",
         "Mani Shankar",
         "Milind Soman",
         "Danny Denzongpa",
         "Gulshan Grover"
        ],
        [
         "34",
         "18.11",
         "(2014)",
         "126 min",
         "Action",
         "3.5",
         "10",
         "Mohibul Haque",
         "Rehal Khan",
         "Gulshan Grover",
         "Mukesh Tiwari"
        ],
        [
         "35",
         "1857",
         "(1946)",
         null,
         "Drama, History",
         "5.0",
         "8",
         "Mohan Sinha",
         "Nigar Sultana",
         "Suraiya",
         "Menaka Devi"
        ],
        [
         "36",
         "19 Revolutions",
         "(2004)",
         "94 min",
         "Drama",
         "4.5",
         "16",
         "Sridhar Reddy",
         "Tarun Arora",
         "Gulshan Grover",
         "Vinay Pandey"
        ],
        [
         "37",
         "1911",
         null,
         null,
         "Drama, History, Sport",
         null,
         null,
         "Nikkhil Advani",
         "John Abraham",
         null,
         null
        ],
        [
         "38",
         "1920",
         "(2008)",
         "138 min",
         "Horror, Mystery, Romance",
         "6.4",
         "3,100",
         "Vikram Bhatt",
         "Rajniesh Duggall",
         "Adah Sharma",
         "Anjori Alagh"
        ],
        [
         "39",
         "1920 London",
         "(2016)",
         "120 min",
         "Horror, Mystery",
         "4.1",
         "1,559",
         "Dharmendra Suresh Desai",
         "Sharman Joshi",
         "Meera Chopra",
         "Vishal Karwal"
        ],
        [
         "40",
         "1920: Evil Returns",
         "(2012)",
         "124 min",
         "Drama, Horror, Romance",
         "4.8",
         "1,811",
         "Bhushan Patel",
         "Vicky Ahuja",
         "Tia Bajpai",
         "Tarakesh Chauhan"
        ],
        [
         "41",
         "1921",
         "(2018)",
         "144 min",
         "Horror, Mystery, Romance",
         "4.5",
         "1,069",
         "Vikram Bhatt",
         "Zareen Khan",
         "Karan Kundra",
         "Vikram Bhatt"
        ],
        [
         "42",
         "1942: A Love Story",
         "(1994)",
         "157 min",
         "Action, Drama, History",
         "7.2",
         "3,223",
         "Vidhu Vinod Chopra",
         "Anil Kapoor",
         "Jackie Shroff",
         "Manisha Koirala"
        ],
        [
         "43",
         "1971",
         "(2007)",
         "136 min",
         "Action, Drama, War",
         "8.1",
         "1,892",
         "Amrit Sagar",
         "Manoj Bajpayee",
         "Ravi Kishan",
         "Deepak Dobriyal"
        ],
        [
         "44",
         "1978: A Teen Night Out",
         "(2019)",
         "107 min",
         "Thriller",
         "4.0",
         "20",
         "Aziz Zee",
         "Abuzar Akhtar",
         "Apurva Godbole",
         "Vaishnavi Kadam"
        ],
        [
         "45",
         "1982 - A Love Marriage",
         "(2017)",
         "113 min",
         "Comedy",
         "5.5",
         "106",
         "Prashant Gore",
         "Amitkumar Sharma",
         "Omna",
         "Rita Agarwal"
        ],
        [
         "46",
         "19th January",
         "(2014)",
         null,
         "Drama",
         "7.3",
         "16",
         "Sanjay Amar",
         "Mumtaz Ahmed",
         "Bidita Bag",
         "Madhuri Bhatia"
        ],
        [
         "47",
         "2 Band Radio",
         "(2019)",
         null,
         "Comedy",
         null,
         null,
         "Saki Shah",
         "Bilal Ahamad Bhagat",
         "Neelu Dogra",
         "Rahat Kazmi"
        ],
        [
         "48",
         "2 GB Ki Life",
         null,
         null,
         "Drama",
         null,
         null,
         null,
         null,
         null,
         null
        ],
        [
         "49",
         "2 Little Indians",
         "(2013)",
         null,
         "Comedy, Family",
         "5.6",
         "14",
         "Ravi Bhatia",
         "Ravi Bhatia",
         "Ronak Bhatia",
         "Kamal Chopra"
        ]
       ],
       "shape": {
        "columns": 10,
        "rows": 15509
       }
      },
      "text/html": [
       "<div>\n",
       "<style scoped>\n",
       "    .dataframe tbody tr th:only-of-type {\n",
       "        vertical-align: middle;\n",
       "    }\n",
       "\n",
       "    .dataframe tbody tr th {\n",
       "        vertical-align: top;\n",
       "    }\n",
       "\n",
       "    .dataframe thead th {\n",
       "        text-align: right;\n",
       "    }\n",
       "</style>\n",
       "<table border=\"1\" class=\"dataframe\">\n",
       "  <thead>\n",
       "    <tr style=\"text-align: right;\">\n",
       "      <th></th>\n",
       "      <th>Name</th>\n",
       "      <th>Year</th>\n",
       "      <th>Duration</th>\n",
       "      <th>Genre</th>\n",
       "      <th>Rating</th>\n",
       "      <th>Votes</th>\n",
       "      <th>Director</th>\n",
       "      <th>Actor 1</th>\n",
       "      <th>Actor 2</th>\n",
       "      <th>Actor 3</th>\n",
       "    </tr>\n",
       "  </thead>\n",
       "  <tbody>\n",
       "    <tr>\n",
       "      <th>0</th>\n",
       "      <td></td>\n",
       "      <td>NaN</td>\n",
       "      <td>NaN</td>\n",
       "      <td>Drama</td>\n",
       "      <td>NaN</td>\n",
       "      <td>NaN</td>\n",
       "      <td>J.S. Randhawa</td>\n",
       "      <td>Manmauji</td>\n",
       "      <td>Birbal</td>\n",
       "      <td>Rajendra Bhatia</td>\n",
       "    </tr>\n",
       "    <tr>\n",
       "      <th>1</th>\n",
       "      <td>#Gadhvi (He thought he was Gandhi)</td>\n",
       "      <td>(2019)</td>\n",
       "      <td>109 min</td>\n",
       "      <td>Drama</td>\n",
       "      <td>7.0</td>\n",
       "      <td>8</td>\n",
       "      <td>Gaurav Bakshi</td>\n",
       "      <td>Rasika Dugal</td>\n",
       "      <td>Vivek Ghamande</td>\n",
       "      <td>Arvind Jangid</td>\n",
       "    </tr>\n",
       "    <tr>\n",
       "      <th>2</th>\n",
       "      <td>#Homecoming</td>\n",
       "      <td>(2021)</td>\n",
       "      <td>90 min</td>\n",
       "      <td>Drama, Musical</td>\n",
       "      <td>NaN</td>\n",
       "      <td>NaN</td>\n",
       "      <td>Soumyajit Majumdar</td>\n",
       "      <td>Sayani Gupta</td>\n",
       "      <td>Plabita Borthakur</td>\n",
       "      <td>Roy Angana</td>\n",
       "    </tr>\n",
       "    <tr>\n",
       "      <th>3</th>\n",
       "      <td>#Yaaram</td>\n",
       "      <td>(2019)</td>\n",
       "      <td>110 min</td>\n",
       "      <td>Comedy, Romance</td>\n",
       "      <td>4.4</td>\n",
       "      <td>35</td>\n",
       "      <td>Ovais Khan</td>\n",
       "      <td>Prateik</td>\n",
       "      <td>Ishita Raj</td>\n",
       "      <td>Siddhant Kapoor</td>\n",
       "    </tr>\n",
       "    <tr>\n",
       "      <th>4</th>\n",
       "      <td>...And Once Again</td>\n",
       "      <td>(2010)</td>\n",
       "      <td>105 min</td>\n",
       "      <td>Drama</td>\n",
       "      <td>NaN</td>\n",
       "      <td>NaN</td>\n",
       "      <td>Amol Palekar</td>\n",
       "      <td>Rajat Kapoor</td>\n",
       "      <td>Rituparna Sengupta</td>\n",
       "      <td>Antara Mali</td>\n",
       "    </tr>\n",
       "    <tr>\n",
       "      <th>...</th>\n",
       "      <td>...</td>\n",
       "      <td>...</td>\n",
       "      <td>...</td>\n",
       "      <td>...</td>\n",
       "      <td>...</td>\n",
       "      <td>...</td>\n",
       "      <td>...</td>\n",
       "      <td>...</td>\n",
       "      <td>...</td>\n",
       "      <td>...</td>\n",
       "    </tr>\n",
       "    <tr>\n",
       "      <th>15504</th>\n",
       "      <td>Zulm Ko Jala Doonga</td>\n",
       "      <td>(1988)</td>\n",
       "      <td>NaN</td>\n",
       "      <td>Action</td>\n",
       "      <td>4.6</td>\n",
       "      <td>11</td>\n",
       "      <td>Mahendra Shah</td>\n",
       "      <td>Naseeruddin Shah</td>\n",
       "      <td>Sumeet Saigal</td>\n",
       "      <td>Suparna Anand</td>\n",
       "    </tr>\n",
       "    <tr>\n",
       "      <th>15505</th>\n",
       "      <td>Zulmi</td>\n",
       "      <td>(1999)</td>\n",
       "      <td>129 min</td>\n",
       "      <td>Action, Drama</td>\n",
       "      <td>4.5</td>\n",
       "      <td>655</td>\n",
       "      <td>Kuku Kohli</td>\n",
       "      <td>Akshay Kumar</td>\n",
       "      <td>Twinkle Khanna</td>\n",
       "      <td>Aruna Irani</td>\n",
       "    </tr>\n",
       "    <tr>\n",
       "      <th>15506</th>\n",
       "      <td>Zulmi Raj</td>\n",
       "      <td>(2005)</td>\n",
       "      <td>NaN</td>\n",
       "      <td>Action</td>\n",
       "      <td>NaN</td>\n",
       "      <td>NaN</td>\n",
       "      <td>Kiran Thej</td>\n",
       "      <td>Sangeeta Tiwari</td>\n",
       "      <td>NaN</td>\n",
       "      <td>NaN</td>\n",
       "    </tr>\n",
       "    <tr>\n",
       "      <th>15507</th>\n",
       "      <td>Zulmi Shikari</td>\n",
       "      <td>(1988)</td>\n",
       "      <td>NaN</td>\n",
       "      <td>Action</td>\n",
       "      <td>NaN</td>\n",
       "      <td>NaN</td>\n",
       "      <td>NaN</td>\n",
       "      <td>NaN</td>\n",
       "      <td>NaN</td>\n",
       "      <td>NaN</td>\n",
       "    </tr>\n",
       "    <tr>\n",
       "      <th>15508</th>\n",
       "      <td>Zulm-O-Sitam</td>\n",
       "      <td>(1998)</td>\n",
       "      <td>130 min</td>\n",
       "      <td>Action, Drama</td>\n",
       "      <td>6.2</td>\n",
       "      <td>20</td>\n",
       "      <td>K.C. Bokadia</td>\n",
       "      <td>Dharmendra</td>\n",
       "      <td>Jaya Prada</td>\n",
       "      <td>Arjun Sarja</td>\n",
       "    </tr>\n",
       "  </tbody>\n",
       "</table>\n",
       "<p>15509 rows × 10 columns</p>\n",
       "</div>"
      ],
      "text/plain": [
       "                                     Name    Year Duration            Genre  \\\n",
       "0                                             NaN      NaN            Drama   \n",
       "1      #Gadhvi (He thought he was Gandhi)  (2019)  109 min            Drama   \n",
       "2                             #Homecoming  (2021)   90 min   Drama, Musical   \n",
       "3                                 #Yaaram  (2019)  110 min  Comedy, Romance   \n",
       "4                       ...And Once Again  (2010)  105 min            Drama   \n",
       "...                                   ...     ...      ...              ...   \n",
       "15504                 Zulm Ko Jala Doonga  (1988)      NaN           Action   \n",
       "15505                               Zulmi  (1999)  129 min    Action, Drama   \n",
       "15506                           Zulmi Raj  (2005)      NaN           Action   \n",
       "15507                       Zulmi Shikari  (1988)      NaN           Action   \n",
       "15508                        Zulm-O-Sitam  (1998)  130 min    Action, Drama   \n",
       "\n",
       "       Rating Votes            Director           Actor 1             Actor 2  \\\n",
       "0         NaN   NaN       J.S. Randhawa          Manmauji              Birbal   \n",
       "1         7.0     8       Gaurav Bakshi      Rasika Dugal      Vivek Ghamande   \n",
       "2         NaN   NaN  Soumyajit Majumdar      Sayani Gupta   Plabita Borthakur   \n",
       "3         4.4    35          Ovais Khan           Prateik          Ishita Raj   \n",
       "4         NaN   NaN        Amol Palekar      Rajat Kapoor  Rituparna Sengupta   \n",
       "...       ...   ...                 ...               ...                 ...   \n",
       "15504     4.6    11       Mahendra Shah  Naseeruddin Shah       Sumeet Saigal   \n",
       "15505     4.5   655          Kuku Kohli      Akshay Kumar      Twinkle Khanna   \n",
       "15506     NaN   NaN          Kiran Thej   Sangeeta Tiwari                 NaN   \n",
       "15507     NaN   NaN                 NaN               NaN                 NaN   \n",
       "15508     6.2    20        K.C. Bokadia        Dharmendra          Jaya Prada   \n",
       "\n",
       "               Actor 3  \n",
       "0      Rajendra Bhatia  \n",
       "1        Arvind Jangid  \n",
       "2           Roy Angana  \n",
       "3      Siddhant Kapoor  \n",
       "4          Antara Mali  \n",
       "...                ...  \n",
       "15504    Suparna Anand  \n",
       "15505      Aruna Irani  \n",
       "15506              NaN  \n",
       "15507              NaN  \n",
       "15508      Arjun Sarja  \n",
       "\n",
       "[15509 rows x 10 columns]"
      ]
     },
     "execution_count": 39,
     "metadata": {},
     "output_type": "execute_result"
    }
   ],
   "source": [
    "df"
   ]
  },
  {
   "cell_type": "code",
   "execution_count": 40,
   "id": "edaee67c",
   "metadata": {},
   "outputs": [
    {
     "name": "stdout",
     "output_type": "stream",
     "text": [
      "<class 'pandas.core.frame.DataFrame'>\n",
      "RangeIndex: 15509 entries, 0 to 15508\n",
      "Data columns (total 10 columns):\n",
      " #   Column    Non-Null Count  Dtype  \n",
      "---  ------    --------------  -----  \n",
      " 0   Name      15509 non-null  object \n",
      " 1   Year      14981 non-null  object \n",
      " 2   Duration  7240 non-null   object \n",
      " 3   Genre     13632 non-null  object \n",
      " 4   Rating    7919 non-null   float64\n",
      " 5   Votes     7920 non-null   object \n",
      " 6   Director  14984 non-null  object \n",
      " 7   Actor 1   13892 non-null  object \n",
      " 8   Actor 2   13125 non-null  object \n",
      " 9   Actor 3   12365 non-null  object \n",
      "dtypes: float64(1), object(9)\n",
      "memory usage: 1.2+ MB\n"
     ]
    }
   ],
   "source": [
    "df.info()"
   ]
  },
  {
   "cell_type": "code",
   "execution_count": 41,
   "id": "d312509a",
   "metadata": {},
   "outputs": [
    {
     "data": {
      "application/vnd.microsoft.datawrangler.viewer.v0+json": {
       "columns": [
        {
         "name": "index",
         "rawType": "object",
         "type": "string"
        },
        {
         "name": "Rating",
         "rawType": "float64",
         "type": "float"
        }
       ],
       "ref": "ed852175-5bbc-48a8-b17a-d7f1fc43e18f",
       "rows": [
        [
         "count",
         "7919.0"
        ],
        [
         "mean",
         "5.841621416845562"
        ],
        [
         "std",
         "1.3817771548659665"
        ],
        [
         "min",
         "1.1"
        ],
        [
         "25%",
         "4.9"
        ],
        [
         "50%",
         "6.0"
        ],
        [
         "75%",
         "6.8"
        ],
        [
         "max",
         "10.0"
        ]
       ],
       "shape": {
        "columns": 1,
        "rows": 8
       }
      },
      "text/html": [
       "<div>\n",
       "<style scoped>\n",
       "    .dataframe tbody tr th:only-of-type {\n",
       "        vertical-align: middle;\n",
       "    }\n",
       "\n",
       "    .dataframe tbody tr th {\n",
       "        vertical-align: top;\n",
       "    }\n",
       "\n",
       "    .dataframe thead th {\n",
       "        text-align: right;\n",
       "    }\n",
       "</style>\n",
       "<table border=\"1\" class=\"dataframe\">\n",
       "  <thead>\n",
       "    <tr style=\"text-align: right;\">\n",
       "      <th></th>\n",
       "      <th>Rating</th>\n",
       "    </tr>\n",
       "  </thead>\n",
       "  <tbody>\n",
       "    <tr>\n",
       "      <th>count</th>\n",
       "      <td>7919.000000</td>\n",
       "    </tr>\n",
       "    <tr>\n",
       "      <th>mean</th>\n",
       "      <td>5.841621</td>\n",
       "    </tr>\n",
       "    <tr>\n",
       "      <th>std</th>\n",
       "      <td>1.381777</td>\n",
       "    </tr>\n",
       "    <tr>\n",
       "      <th>min</th>\n",
       "      <td>1.100000</td>\n",
       "    </tr>\n",
       "    <tr>\n",
       "      <th>25%</th>\n",
       "      <td>4.900000</td>\n",
       "    </tr>\n",
       "    <tr>\n",
       "      <th>50%</th>\n",
       "      <td>6.000000</td>\n",
       "    </tr>\n",
       "    <tr>\n",
       "      <th>75%</th>\n",
       "      <td>6.800000</td>\n",
       "    </tr>\n",
       "    <tr>\n",
       "      <th>max</th>\n",
       "      <td>10.000000</td>\n",
       "    </tr>\n",
       "  </tbody>\n",
       "</table>\n",
       "</div>"
      ],
      "text/plain": [
       "            Rating\n",
       "count  7919.000000\n",
       "mean      5.841621\n",
       "std       1.381777\n",
       "min       1.100000\n",
       "25%       4.900000\n",
       "50%       6.000000\n",
       "75%       6.800000\n",
       "max      10.000000"
      ]
     },
     "execution_count": 41,
     "metadata": {},
     "output_type": "execute_result"
    }
   ],
   "source": [
    "df.describe()"
   ]
  },
  {
   "cell_type": "code",
   "execution_count": 42,
   "id": "4d34b849",
   "metadata": {},
   "outputs": [
    {
     "data": {
      "application/vnd.microsoft.datawrangler.viewer.v0+json": {
       "columns": [
        {
         "name": "index",
         "rawType": "object",
         "type": "string"
        },
        {
         "name": "0",
         "rawType": "int64",
         "type": "integer"
        }
       ],
       "ref": "d25c3bff-97c2-4326-9f97-7390b518e8b7",
       "rows": [
        [
         "Name",
         "0"
        ],
        [
         "Year",
         "528"
        ],
        [
         "Duration",
         "8269"
        ],
        [
         "Genre",
         "1877"
        ],
        [
         "Rating",
         "7590"
        ],
        [
         "Votes",
         "7589"
        ],
        [
         "Director",
         "525"
        ],
        [
         "Actor 1",
         "1617"
        ],
        [
         "Actor 2",
         "2384"
        ],
        [
         "Actor 3",
         "3144"
        ]
       ],
       "shape": {
        "columns": 1,
        "rows": 10
       }
      },
      "text/plain": [
       "Name           0\n",
       "Year         528\n",
       "Duration    8269\n",
       "Genre       1877\n",
       "Rating      7590\n",
       "Votes       7589\n",
       "Director     525\n",
       "Actor 1     1617\n",
       "Actor 2     2384\n",
       "Actor 3     3144\n",
       "dtype: int64"
      ]
     },
     "execution_count": 42,
     "metadata": {},
     "output_type": "execute_result"
    }
   ],
   "source": [
    "df.isnull().sum()"
   ]
  },
  {
   "cell_type": "code",
   "execution_count": 43,
   "id": "95c736fb",
   "metadata": {},
   "outputs": [
    {
     "data": {
      "application/vnd.microsoft.datawrangler.viewer.v0+json": {
       "columns": [
        {
         "name": "index",
         "rawType": "int64",
         "type": "integer"
        },
        {
         "name": "Name",
         "rawType": "object",
         "type": "string"
        },
        {
         "name": "Year",
         "rawType": "object",
         "type": "unknown"
        },
        {
         "name": "Duration",
         "rawType": "object",
         "type": "unknown"
        },
        {
         "name": "Genre",
         "rawType": "object",
         "type": "unknown"
        },
        {
         "name": "Rating",
         "rawType": "float64",
         "type": "float"
        },
        {
         "name": "Votes",
         "rawType": "object",
         "type": "unknown"
        },
        {
         "name": "Director",
         "rawType": "object",
         "type": "unknown"
        },
        {
         "name": "Actor 1",
         "rawType": "object",
         "type": "unknown"
        },
        {
         "name": "Actor 2",
         "rawType": "object",
         "type": "unknown"
        },
        {
         "name": "Actor 3",
         "rawType": "object",
         "type": "unknown"
        }
       ],
       "ref": "b8c641be-b4f3-4512-af30-2a6421459ebb",
       "rows": [
        [
         "0",
         " ",
         null,
         null,
         "Drama",
         null,
         null,
         "J.S. Randhawa",
         "Manmauji",
         "Birbal",
         "Rajendra Bhatia"
        ],
        [
         "1",
         "#Gadhvi (He thought he was Gandhi)",
         "(2019)",
         "109 min",
         "Drama",
         "7.0",
         "8",
         "Gaurav Bakshi",
         "Rasika Dugal",
         "Vivek Ghamande",
         "Arvind Jangid"
        ],
        [
         "2",
         "#Homecoming",
         "(2021)",
         "90 min",
         "Drama, Musical",
         null,
         null,
         "Soumyajit Majumdar",
         "Sayani Gupta",
         "Plabita Borthakur",
         "Roy Angana"
        ],
        [
         "3",
         "#Yaaram",
         "(2019)",
         "110 min",
         "Comedy, Romance",
         "4.4",
         "35",
         "Ovais Khan",
         "Prateik",
         "Ishita Raj",
         "Siddhant Kapoor"
        ],
        [
         "4",
         "...And Once Again",
         "(2010)",
         "105 min",
         "Drama",
         null,
         null,
         "Amol Palekar",
         "Rajat Kapoor",
         "Rituparna Sengupta",
         "Antara Mali"
        ],
        [
         "5",
         "...Aur Pyaar Ho Gaya",
         "(1997)",
         "147 min",
         "Comedy, Drama, Musical",
         "4.7",
         "827",
         "Rahul Rawail",
         "Bobby Deol",
         "Aishwarya Rai Bachchan",
         "Shammi Kapoor"
        ],
        [
         "6",
         "...Yahaan",
         "(2005)",
         "142 min",
         "Drama, Romance, War",
         "7.4",
         "1,086",
         "Shoojit Sircar",
         "Jimmy Sheirgill",
         "Minissha Lamba",
         "Yashpal Sharma"
        ],
        [
         "7",
         ".in for Motion",
         "(2008)",
         "59 min",
         "Documentary",
         null,
         null,
         "Anirban Datta",
         null,
         null,
         null
        ],
        [
         "8",
         "?: A Question Mark",
         "(2012)",
         "82 min",
         "Horror, Mystery, Thriller",
         "5.6",
         "326",
         "Allyson Patel",
         "Yash Dave",
         "Muntazir Ahmad",
         "Kiran Bhatia"
        ],
        [
         "9",
         "@Andheri",
         "(2014)",
         "116 min",
         "Action, Crime, Thriller",
         "4.0",
         "11",
         "Biju Bhaskar Nair",
         "Augustine",
         "Fathima Babu",
         "Byon"
        ],
        [
         "10",
         "1:1.6 An Ode to Lost Love",
         "(2004)",
         "96 min",
         "Drama",
         "6.2",
         "17",
         "Madhu Ambat",
         "Rati Agnihotri",
         "Gulshan Grover",
         "Atul Kulkarni"
        ],
        [
         "11",
         "1:13:7 Ek Tera Saath",
         "(2016)",
         "120 min",
         "Horror",
         "5.9",
         "59",
         "Arshad Siddiqui",
         "Pankaj Berry",
         "Anubhav Dhir",
         "Hritu Dudani"
        ],
        [
         "12",
         "100 Days",
         "(1991)",
         "161 min",
         "Horror, Romance, Thriller",
         "6.5",
         "983",
         "Partho Ghosh",
         "Jackie Shroff",
         "Madhuri Dixit",
         "Javed Jaffrey"
        ],
        [
         "13",
         "100% Love",
         "(2012)",
         "166 min",
         "Comedy, Drama, Romance",
         "5.7",
         "512",
         "Rabi Kinagi",
         "Jeet",
         "Koyel Mallick",
         "Sujoy Ghosh"
        ],
        [
         "14",
         "101 Ratein",
         "(1990)",
         null,
         "Thriller",
         null,
         null,
         "Harish",
         "Saraswati",
         "Disco Shanti",
         null
        ],
        [
         "15",
         "102 Not Out",
         "(2018)",
         "102 min",
         "Comedy, Drama",
         "7.4",
         "6,619",
         "Umesh Shukla",
         "Amitabh Bachchan",
         "Rishi Kapoor",
         "Vijay Raaz"
        ],
        [
         "16",
         "108 Limited",
         null,
         null,
         null,
         null,
         null,
         "Anand Anddy",
         "Vijay Raaz",
         "Sanjay Mishra",
         "Brahmanandam"
        ],
        [
         "17",
         "108 Teerthyatra",
         "(1987)",
         null,
         "Comedy, Drama, Fantasy",
         null,
         null,
         "Rajpati",
         "Pravin Anand",
         "Nayan Bhatt",
         "Jeetu"
        ],
        [
         "18",
         "10ml LOVE",
         "(2010)",
         "87 min",
         "Comedy, Drama, Romance",
         "6.3",
         "162",
         "Sharat Katariya",
         "Neil Bhoopalam",
         "Anusha Bose",
         "Manu Rishi Chadha"
        ],
        [
         "19",
         "11 O'Clock",
         "(1948)",
         null,
         null,
         null,
         null,
         "Homi Wadia",
         "Aftab",
         "Sayani Atish",
         "Austin Ki Bachchi"
        ],
        [
         "20",
         "12 Bulbule",
         "(2021)",
         null,
         "Comedy, Drama, Family",
         null,
         null,
         "Jagat Joon",
         "Sonu Sonkar",
         "Sunita Verman",
         "Anubhav Dixit"
        ],
        [
         "21",
         "12 O'Clock",
         "(1958)",
         "132 min",
         "Crime, Drama, Mystery",
         "7.2",
         "72",
         "Pramod Chakravorty",
         "Guru Dutt",
         "Waheeda Rehman",
         "Shashikala"
        ],
        [
         "22",
         "12 O'Clock",
         "(2021)",
         "105 min",
         "Horror, Thriller",
         "4.4",
         "63",
         "Ram Gopal Varma",
         "Mithun Chakraborty",
         "Makrand Deshpande",
         "Dalip Tahil"
        ],
        [
         "23",
         "12 Years",
         null,
         null,
         "Biography",
         null,
         null,
         "Sohail Tatari",
         null,
         null,
         null
        ],
        [
         "24",
         "124a",
         "(2021)",
         null,
         "Documentary",
         null,
         null,
         "Varrun Sukhraj",
         null,
         null,
         null
        ],
        [
         "25",
         "127 B",
         "(2017)",
         "116 min",
         "Comedy, Horror",
         "6.6",
         "26",
         "Seshu Kmr",
         "Mast Ali",
         "Aziz Naser",
         "Heena Shaik"
        ],
        [
         "26",
         "13 May Gulaabi Nagar",
         "(2010)",
         null,
         "Action",
         null,
         null,
         "N.K. Pareek",
         "Nirmal Pandey",
         "Khushi Rajpoot",
         "Raj Singh Verma"
        ],
        [
         "27",
         "13 Tribute of Love",
         "(2020)",
         "66 min",
         "Drama",
         null,
         null,
         "Rahul Tiwari",
         "Rahul Tiwari Adhiyari",
         "Anil Arora",
         "Asima Bhatt"
        ],
        [
         "28",
         "13B: Fear Has a New Address",
         "(2009)",
         "146 min",
         "Drama, Horror, Mystery",
         "7.3",
         "6,329",
         "Vikram K. Kumar",
         "Madhavan",
         "Neetu Chandra",
         "Poonam Dhillon"
        ],
        [
         "29",
         "14 Phere",
         "(2021)",
         null,
         "Comedy",
         null,
         null,
         "Devanshu Singh",
         "Vikrant Massey",
         "Kriti Kharbanda",
         "Gauahar Khan"
        ],
        [
         "30",
         "15 Park Avenue",
         "(2005)",
         "116 min",
         "Drama",
         "7.1",
         "1,002",
         "Aparna Sen",
         "Shabana Azmi",
         "Konkona Sen Sharma",
         "Rahul Bose"
        ],
        [
         "31",
         "150 Seconds Ago",
         "(2002)",
         "112 min",
         null,
         null,
         null,
         "Batul Mukhtiar",
         null,
         null,
         null
        ],
        [
         "32",
         "15th August",
         "(1993)",
         "168 min",
         "Drama",
         "5.6",
         "15",
         "Vicky Ranawat",
         "Ronit Roy",
         "Tisca Chopra",
         "Shakti Kapoor"
        ],
        [
         "33",
         "16 December",
         "(2002)",
         "158 min",
         "Action, Thriller",
         "6.9",
         "1,235",
         "Mani Shankar",
         "Milind Soman",
         "Danny Denzongpa",
         "Gulshan Grover"
        ],
        [
         "34",
         "18.11",
         "(2014)",
         "126 min",
         "Action",
         "3.5",
         "10",
         "Mohibul Haque",
         "Rehal Khan",
         "Gulshan Grover",
         "Mukesh Tiwari"
        ],
        [
         "35",
         "1857",
         "(1946)",
         null,
         "Drama, History",
         "5.0",
         "8",
         "Mohan Sinha",
         "Nigar Sultana",
         "Suraiya",
         "Menaka Devi"
        ],
        [
         "36",
         "19 Revolutions",
         "(2004)",
         "94 min",
         "Drama",
         "4.5",
         "16",
         "Sridhar Reddy",
         "Tarun Arora",
         "Gulshan Grover",
         "Vinay Pandey"
        ],
        [
         "37",
         "1911",
         null,
         null,
         "Drama, History, Sport",
         null,
         null,
         "Nikkhil Advani",
         "John Abraham",
         null,
         null
        ],
        [
         "38",
         "1920",
         "(2008)",
         "138 min",
         "Horror, Mystery, Romance",
         "6.4",
         "3,100",
         "Vikram Bhatt",
         "Rajniesh Duggall",
         "Adah Sharma",
         "Anjori Alagh"
        ],
        [
         "39",
         "1920 London",
         "(2016)",
         "120 min",
         "Horror, Mystery",
         "4.1",
         "1,559",
         "Dharmendra Suresh Desai",
         "Sharman Joshi",
         "Meera Chopra",
         "Vishal Karwal"
        ],
        [
         "40",
         "1920: Evil Returns",
         "(2012)",
         "124 min",
         "Drama, Horror, Romance",
         "4.8",
         "1,811",
         "Bhushan Patel",
         "Vicky Ahuja",
         "Tia Bajpai",
         "Tarakesh Chauhan"
        ],
        [
         "41",
         "1921",
         "(2018)",
         "144 min",
         "Horror, Mystery, Romance",
         "4.5",
         "1,069",
         "Vikram Bhatt",
         "Zareen Khan",
         "Karan Kundra",
         "Vikram Bhatt"
        ],
        [
         "42",
         "1942: A Love Story",
         "(1994)",
         "157 min",
         "Action, Drama, History",
         "7.2",
         "3,223",
         "Vidhu Vinod Chopra",
         "Anil Kapoor",
         "Jackie Shroff",
         "Manisha Koirala"
        ],
        [
         "43",
         "1971",
         "(2007)",
         "136 min",
         "Action, Drama, War",
         "8.1",
         "1,892",
         "Amrit Sagar",
         "Manoj Bajpayee",
         "Ravi Kishan",
         "Deepak Dobriyal"
        ],
        [
         "44",
         "1978: A Teen Night Out",
         "(2019)",
         "107 min",
         "Thriller",
         "4.0",
         "20",
         "Aziz Zee",
         "Abuzar Akhtar",
         "Apurva Godbole",
         "Vaishnavi Kadam"
        ],
        [
         "45",
         "1982 - A Love Marriage",
         "(2017)",
         "113 min",
         "Comedy",
         "5.5",
         "106",
         "Prashant Gore",
         "Amitkumar Sharma",
         "Omna",
         "Rita Agarwal"
        ],
        [
         "46",
         "19th January",
         "(2014)",
         null,
         "Drama",
         "7.3",
         "16",
         "Sanjay Amar",
         "Mumtaz Ahmed",
         "Bidita Bag",
         "Madhuri Bhatia"
        ],
        [
         "47",
         "2 Band Radio",
         "(2019)",
         null,
         "Comedy",
         null,
         null,
         "Saki Shah",
         "Bilal Ahamad Bhagat",
         "Neelu Dogra",
         "Rahat Kazmi"
        ],
        [
         "48",
         "2 GB Ki Life",
         null,
         null,
         "Drama",
         null,
         null,
         null,
         null,
         null,
         null
        ],
        [
         "49",
         "2 Little Indians",
         "(2013)",
         null,
         "Comedy, Family",
         "5.6",
         "14",
         "Ravi Bhatia",
         "Ravi Bhatia",
         "Ronak Bhatia",
         "Kamal Chopra"
        ]
       ],
       "shape": {
        "columns": 10,
        "rows": 15509
       }
      },
      "text/html": [
       "<div>\n",
       "<style scoped>\n",
       "    .dataframe tbody tr th:only-of-type {\n",
       "        vertical-align: middle;\n",
       "    }\n",
       "\n",
       "    .dataframe tbody tr th {\n",
       "        vertical-align: top;\n",
       "    }\n",
       "\n",
       "    .dataframe thead th {\n",
       "        text-align: right;\n",
       "    }\n",
       "</style>\n",
       "<table border=\"1\" class=\"dataframe\">\n",
       "  <thead>\n",
       "    <tr style=\"text-align: right;\">\n",
       "      <th></th>\n",
       "      <th>Name</th>\n",
       "      <th>Year</th>\n",
       "      <th>Duration</th>\n",
       "      <th>Genre</th>\n",
       "      <th>Rating</th>\n",
       "      <th>Votes</th>\n",
       "      <th>Director</th>\n",
       "      <th>Actor 1</th>\n",
       "      <th>Actor 2</th>\n",
       "      <th>Actor 3</th>\n",
       "    </tr>\n",
       "  </thead>\n",
       "  <tbody>\n",
       "    <tr>\n",
       "      <th>0</th>\n",
       "      <td></td>\n",
       "      <td>NaN</td>\n",
       "      <td>NaN</td>\n",
       "      <td>Drama</td>\n",
       "      <td>NaN</td>\n",
       "      <td>NaN</td>\n",
       "      <td>J.S. Randhawa</td>\n",
       "      <td>Manmauji</td>\n",
       "      <td>Birbal</td>\n",
       "      <td>Rajendra Bhatia</td>\n",
       "    </tr>\n",
       "    <tr>\n",
       "      <th>1</th>\n",
       "      <td>#Gadhvi (He thought he was Gandhi)</td>\n",
       "      <td>(2019)</td>\n",
       "      <td>109 min</td>\n",
       "      <td>Drama</td>\n",
       "      <td>7.0</td>\n",
       "      <td>8</td>\n",
       "      <td>Gaurav Bakshi</td>\n",
       "      <td>Rasika Dugal</td>\n",
       "      <td>Vivek Ghamande</td>\n",
       "      <td>Arvind Jangid</td>\n",
       "    </tr>\n",
       "    <tr>\n",
       "      <th>2</th>\n",
       "      <td>#Homecoming</td>\n",
       "      <td>(2021)</td>\n",
       "      <td>90 min</td>\n",
       "      <td>Drama, Musical</td>\n",
       "      <td>NaN</td>\n",
       "      <td>NaN</td>\n",
       "      <td>Soumyajit Majumdar</td>\n",
       "      <td>Sayani Gupta</td>\n",
       "      <td>Plabita Borthakur</td>\n",
       "      <td>Roy Angana</td>\n",
       "    </tr>\n",
       "    <tr>\n",
       "      <th>3</th>\n",
       "      <td>#Yaaram</td>\n",
       "      <td>(2019)</td>\n",
       "      <td>110 min</td>\n",
       "      <td>Comedy, Romance</td>\n",
       "      <td>4.4</td>\n",
       "      <td>35</td>\n",
       "      <td>Ovais Khan</td>\n",
       "      <td>Prateik</td>\n",
       "      <td>Ishita Raj</td>\n",
       "      <td>Siddhant Kapoor</td>\n",
       "    </tr>\n",
       "    <tr>\n",
       "      <th>4</th>\n",
       "      <td>...And Once Again</td>\n",
       "      <td>(2010)</td>\n",
       "      <td>105 min</td>\n",
       "      <td>Drama</td>\n",
       "      <td>NaN</td>\n",
       "      <td>NaN</td>\n",
       "      <td>Amol Palekar</td>\n",
       "      <td>Rajat Kapoor</td>\n",
       "      <td>Rituparna Sengupta</td>\n",
       "      <td>Antara Mali</td>\n",
       "    </tr>\n",
       "    <tr>\n",
       "      <th>...</th>\n",
       "      <td>...</td>\n",
       "      <td>...</td>\n",
       "      <td>...</td>\n",
       "      <td>...</td>\n",
       "      <td>...</td>\n",
       "      <td>...</td>\n",
       "      <td>...</td>\n",
       "      <td>...</td>\n",
       "      <td>...</td>\n",
       "      <td>...</td>\n",
       "    </tr>\n",
       "    <tr>\n",
       "      <th>15504</th>\n",
       "      <td>Zulm Ko Jala Doonga</td>\n",
       "      <td>(1988)</td>\n",
       "      <td>NaN</td>\n",
       "      <td>Action</td>\n",
       "      <td>4.6</td>\n",
       "      <td>11</td>\n",
       "      <td>Mahendra Shah</td>\n",
       "      <td>Naseeruddin Shah</td>\n",
       "      <td>Sumeet Saigal</td>\n",
       "      <td>Suparna Anand</td>\n",
       "    </tr>\n",
       "    <tr>\n",
       "      <th>15505</th>\n",
       "      <td>Zulmi</td>\n",
       "      <td>(1999)</td>\n",
       "      <td>129 min</td>\n",
       "      <td>Action, Drama</td>\n",
       "      <td>4.5</td>\n",
       "      <td>655</td>\n",
       "      <td>Kuku Kohli</td>\n",
       "      <td>Akshay Kumar</td>\n",
       "      <td>Twinkle Khanna</td>\n",
       "      <td>Aruna Irani</td>\n",
       "    </tr>\n",
       "    <tr>\n",
       "      <th>15506</th>\n",
       "      <td>Zulmi Raj</td>\n",
       "      <td>(2005)</td>\n",
       "      <td>NaN</td>\n",
       "      <td>Action</td>\n",
       "      <td>NaN</td>\n",
       "      <td>NaN</td>\n",
       "      <td>Kiran Thej</td>\n",
       "      <td>Sangeeta Tiwari</td>\n",
       "      <td>NaN</td>\n",
       "      <td>NaN</td>\n",
       "    </tr>\n",
       "    <tr>\n",
       "      <th>15507</th>\n",
       "      <td>Zulmi Shikari</td>\n",
       "      <td>(1988)</td>\n",
       "      <td>NaN</td>\n",
       "      <td>Action</td>\n",
       "      <td>NaN</td>\n",
       "      <td>NaN</td>\n",
       "      <td>NaN</td>\n",
       "      <td>NaN</td>\n",
       "      <td>NaN</td>\n",
       "      <td>NaN</td>\n",
       "    </tr>\n",
       "    <tr>\n",
       "      <th>15508</th>\n",
       "      <td>Zulm-O-Sitam</td>\n",
       "      <td>(1998)</td>\n",
       "      <td>130 min</td>\n",
       "      <td>Action, Drama</td>\n",
       "      <td>6.2</td>\n",
       "      <td>20</td>\n",
       "      <td>K.C. Bokadia</td>\n",
       "      <td>Dharmendra</td>\n",
       "      <td>Jaya Prada</td>\n",
       "      <td>Arjun Sarja</td>\n",
       "    </tr>\n",
       "  </tbody>\n",
       "</table>\n",
       "<p>15509 rows × 10 columns</p>\n",
       "</div>"
      ],
      "text/plain": [
       "                                     Name    Year Duration            Genre  \\\n",
       "0                                             NaN      NaN            Drama   \n",
       "1      #Gadhvi (He thought he was Gandhi)  (2019)  109 min            Drama   \n",
       "2                             #Homecoming  (2021)   90 min   Drama, Musical   \n",
       "3                                 #Yaaram  (2019)  110 min  Comedy, Romance   \n",
       "4                       ...And Once Again  (2010)  105 min            Drama   \n",
       "...                                   ...     ...      ...              ...   \n",
       "15504                 Zulm Ko Jala Doonga  (1988)      NaN           Action   \n",
       "15505                               Zulmi  (1999)  129 min    Action, Drama   \n",
       "15506                           Zulmi Raj  (2005)      NaN           Action   \n",
       "15507                       Zulmi Shikari  (1988)      NaN           Action   \n",
       "15508                        Zulm-O-Sitam  (1998)  130 min    Action, Drama   \n",
       "\n",
       "       Rating Votes            Director           Actor 1             Actor 2  \\\n",
       "0         NaN   NaN       J.S. Randhawa          Manmauji              Birbal   \n",
       "1         7.0     8       Gaurav Bakshi      Rasika Dugal      Vivek Ghamande   \n",
       "2         NaN   NaN  Soumyajit Majumdar      Sayani Gupta   Plabita Borthakur   \n",
       "3         4.4    35          Ovais Khan           Prateik          Ishita Raj   \n",
       "4         NaN   NaN        Amol Palekar      Rajat Kapoor  Rituparna Sengupta   \n",
       "...       ...   ...                 ...               ...                 ...   \n",
       "15504     4.6    11       Mahendra Shah  Naseeruddin Shah       Sumeet Saigal   \n",
       "15505     4.5   655          Kuku Kohli      Akshay Kumar      Twinkle Khanna   \n",
       "15506     NaN   NaN          Kiran Thej   Sangeeta Tiwari                 NaN   \n",
       "15507     NaN   NaN                 NaN               NaN                 NaN   \n",
       "15508     6.2    20        K.C. Bokadia        Dharmendra          Jaya Prada   \n",
       "\n",
       "               Actor 3  \n",
       "0      Rajendra Bhatia  \n",
       "1        Arvind Jangid  \n",
       "2           Roy Angana  \n",
       "3      Siddhant Kapoor  \n",
       "4          Antara Mali  \n",
       "...                ...  \n",
       "15504    Suparna Anand  \n",
       "15505      Aruna Irani  \n",
       "15506              NaN  \n",
       "15507              NaN  \n",
       "15508      Arjun Sarja  \n",
       "\n",
       "[15509 rows x 10 columns]"
      ]
     },
     "execution_count": 43,
     "metadata": {},
     "output_type": "execute_result"
    }
   ],
   "source": [
    "df1=df\n",
    "df1"
   ]
  },
  {
   "cell_type": "code",
   "execution_count": 44,
   "id": "759fe97b",
   "metadata": {},
   "outputs": [
    {
     "data": {
      "application/vnd.microsoft.datawrangler.viewer.v0+json": {
       "columns": [
        {
         "name": "index",
         "rawType": "int64",
         "type": "integer"
        },
        {
         "name": "Name",
         "rawType": "object",
         "type": "string"
        },
        {
         "name": "Year",
         "rawType": "object",
         "type": "unknown"
        },
        {
         "name": "Duration",
         "rawType": "object",
         "type": "unknown"
        },
        {
         "name": "Genre",
         "rawType": "object",
         "type": "unknown"
        },
        {
         "name": "Rating",
         "rawType": "float64",
         "type": "float"
        },
        {
         "name": "Votes",
         "rawType": "object",
         "type": "unknown"
        },
        {
         "name": "Director",
         "rawType": "object",
         "type": "unknown"
        },
        {
         "name": "Actor 1",
         "rawType": "object",
         "type": "unknown"
        },
        {
         "name": "Actor 2",
         "rawType": "object",
         "type": "unknown"
        },
        {
         "name": "Actor 3",
         "rawType": "object",
         "type": "unknown"
        }
       ],
       "ref": "928142ee-0234-479c-8d3c-60b445a3865c",
       "rows": [
        [
         "0",
         " ",
         null,
         null,
         "Drama",
         null,
         null,
         "J.S. Randhawa",
         "Manmauji",
         "Birbal",
         "Rajendra Bhatia"
        ],
        [
         "1",
         "#Gadhvi (He thought he was Gandhi)",
         "(2019)",
         "109 min",
         "Drama",
         "7.0",
         "8",
         "Gaurav Bakshi",
         "Rasika Dugal",
         "Vivek Ghamande",
         "Arvind Jangid"
        ],
        [
         "2",
         "#Homecoming",
         "(2021)",
         "90 min",
         "Drama, Musical",
         null,
         null,
         "Soumyajit Majumdar",
         "Sayani Gupta",
         "Plabita Borthakur",
         "Roy Angana"
        ],
        [
         "3",
         "#Yaaram",
         "(2019)",
         "110 min",
         "Comedy, Romance",
         "4.4",
         "35",
         "Ovais Khan",
         "Prateik",
         "Ishita Raj",
         "Siddhant Kapoor"
        ],
        [
         "4",
         "...And Once Again",
         "(2010)",
         "105 min",
         "Drama",
         null,
         null,
         "Amol Palekar",
         "Rajat Kapoor",
         "Rituparna Sengupta",
         "Antara Mali"
        ],
        [
         "5",
         "...Aur Pyaar Ho Gaya",
         "(1997)",
         "147 min",
         "Comedy, Drama, Musical",
         "4.7",
         "827",
         "Rahul Rawail",
         "Bobby Deol",
         "Aishwarya Rai Bachchan",
         "Shammi Kapoor"
        ],
        [
         "6",
         "...Yahaan",
         "(2005)",
         "142 min",
         "Drama, Romance, War",
         "7.4",
         "1,086",
         "Shoojit Sircar",
         "Jimmy Sheirgill",
         "Minissha Lamba",
         "Yashpal Sharma"
        ],
        [
         "7",
         ".in for Motion",
         "(2008)",
         "59 min",
         "Documentary",
         null,
         null,
         "Anirban Datta",
         null,
         null,
         null
        ],
        [
         "8",
         "?: A Question Mark",
         "(2012)",
         "82 min",
         "Horror, Mystery, Thriller",
         "5.6",
         "326",
         "Allyson Patel",
         "Yash Dave",
         "Muntazir Ahmad",
         "Kiran Bhatia"
        ],
        [
         "9",
         "@Andheri",
         "(2014)",
         "116 min",
         "Action, Crime, Thriller",
         "4.0",
         "11",
         "Biju Bhaskar Nair",
         "Augustine",
         "Fathima Babu",
         "Byon"
        ],
        [
         "10",
         "1:1.6 An Ode to Lost Love",
         "(2004)",
         "96 min",
         "Drama",
         "6.2",
         "17",
         "Madhu Ambat",
         "Rati Agnihotri",
         "Gulshan Grover",
         "Atul Kulkarni"
        ],
        [
         "11",
         "1:13:7 Ek Tera Saath",
         "(2016)",
         "120 min",
         "Horror",
         "5.9",
         "59",
         "Arshad Siddiqui",
         "Pankaj Berry",
         "Anubhav Dhir",
         "Hritu Dudani"
        ],
        [
         "12",
         "100 Days",
         "(1991)",
         "161 min",
         "Horror, Romance, Thriller",
         "6.5",
         "983",
         "Partho Ghosh",
         "Jackie Shroff",
         "Madhuri Dixit",
         "Javed Jaffrey"
        ],
        [
         "13",
         "100% Love",
         "(2012)",
         "166 min",
         "Comedy, Drama, Romance",
         "5.7",
         "512",
         "Rabi Kinagi",
         "Jeet",
         "Koyel Mallick",
         "Sujoy Ghosh"
        ],
        [
         "14",
         "101 Ratein",
         "(1990)",
         null,
         "Thriller",
         null,
         null,
         "Harish",
         "Saraswati",
         "Disco Shanti",
         null
        ],
        [
         "15",
         "102 Not Out",
         "(2018)",
         "102 min",
         "Comedy, Drama",
         "7.4",
         "6,619",
         "Umesh Shukla",
         "Amitabh Bachchan",
         "Rishi Kapoor",
         "Vijay Raaz"
        ],
        [
         "16",
         "108 Limited",
         null,
         null,
         null,
         null,
         null,
         "Anand Anddy",
         "Vijay Raaz",
         "Sanjay Mishra",
         "Brahmanandam"
        ],
        [
         "17",
         "108 Teerthyatra",
         "(1987)",
         null,
         "Comedy, Drama, Fantasy",
         null,
         null,
         "Rajpati",
         "Pravin Anand",
         "Nayan Bhatt",
         "Jeetu"
        ],
        [
         "18",
         "10ml LOVE",
         "(2010)",
         "87 min",
         "Comedy, Drama, Romance",
         "6.3",
         "162",
         "Sharat Katariya",
         "Neil Bhoopalam",
         "Anusha Bose",
         "Manu Rishi Chadha"
        ],
        [
         "19",
         "11 O'Clock",
         "(1948)",
         null,
         null,
         null,
         null,
         "Homi Wadia",
         "Aftab",
         "Sayani Atish",
         "Austin Ki Bachchi"
        ],
        [
         "20",
         "12 Bulbule",
         "(2021)",
         null,
         "Comedy, Drama, Family",
         null,
         null,
         "Jagat Joon",
         "Sonu Sonkar",
         "Sunita Verman",
         "Anubhav Dixit"
        ],
        [
         "21",
         "12 O'Clock",
         "(1958)",
         "132 min",
         "Crime, Drama, Mystery",
         "7.2",
         "72",
         "Pramod Chakravorty",
         "Guru Dutt",
         "Waheeda Rehman",
         "Shashikala"
        ],
        [
         "22",
         "12 O'Clock",
         "(2021)",
         "105 min",
         "Horror, Thriller",
         "4.4",
         "63",
         "Ram Gopal Varma",
         "Mithun Chakraborty",
         "Makrand Deshpande",
         "Dalip Tahil"
        ],
        [
         "23",
         "12 Years",
         null,
         null,
         "Biography",
         null,
         null,
         "Sohail Tatari",
         null,
         null,
         null
        ],
        [
         "24",
         "124a",
         "(2021)",
         null,
         "Documentary",
         null,
         null,
         "Varrun Sukhraj",
         null,
         null,
         null
        ],
        [
         "25",
         "127 B",
         "(2017)",
         "116 min",
         "Comedy, Horror",
         "6.6",
         "26",
         "Seshu Kmr",
         "Mast Ali",
         "Aziz Naser",
         "Heena Shaik"
        ],
        [
         "26",
         "13 May Gulaabi Nagar",
         "(2010)",
         null,
         "Action",
         null,
         null,
         "N.K. Pareek",
         "Nirmal Pandey",
         "Khushi Rajpoot",
         "Raj Singh Verma"
        ],
        [
         "27",
         "13 Tribute of Love",
         "(2020)",
         "66 min",
         "Drama",
         null,
         null,
         "Rahul Tiwari",
         "Rahul Tiwari Adhiyari",
         "Anil Arora",
         "Asima Bhatt"
        ],
        [
         "28",
         "13B: Fear Has a New Address",
         "(2009)",
         "146 min",
         "Drama, Horror, Mystery",
         "7.3",
         "6,329",
         "Vikram K. Kumar",
         "Madhavan",
         "Neetu Chandra",
         "Poonam Dhillon"
        ],
        [
         "29",
         "14 Phere",
         "(2021)",
         null,
         "Comedy",
         null,
         null,
         "Devanshu Singh",
         "Vikrant Massey",
         "Kriti Kharbanda",
         "Gauahar Khan"
        ],
        [
         "30",
         "15 Park Avenue",
         "(2005)",
         "116 min",
         "Drama",
         "7.1",
         "1,002",
         "Aparna Sen",
         "Shabana Azmi",
         "Konkona Sen Sharma",
         "Rahul Bose"
        ],
        [
         "31",
         "150 Seconds Ago",
         "(2002)",
         "112 min",
         null,
         null,
         null,
         "Batul Mukhtiar",
         null,
         null,
         null
        ],
        [
         "32",
         "15th August",
         "(1993)",
         "168 min",
         "Drama",
         "5.6",
         "15",
         "Vicky Ranawat",
         "Ronit Roy",
         "Tisca Chopra",
         "Shakti Kapoor"
        ],
        [
         "33",
         "16 December",
         "(2002)",
         "158 min",
         "Action, Thriller",
         "6.9",
         "1,235",
         "Mani Shankar",
         "Milind Soman",
         "Danny Denzongpa",
         "Gulshan Grover"
        ],
        [
         "34",
         "18.11",
         "(2014)",
         "126 min",
         "Action",
         "3.5",
         "10",
         "Mohibul Haque",
         "Rehal Khan",
         "Gulshan Grover",
         "Mukesh Tiwari"
        ],
        [
         "35",
         "1857",
         "(1946)",
         null,
         "Drama, History",
         "5.0",
         "8",
         "Mohan Sinha",
         "Nigar Sultana",
         "Suraiya",
         "Menaka Devi"
        ],
        [
         "36",
         "19 Revolutions",
         "(2004)",
         "94 min",
         "Drama",
         "4.5",
         "16",
         "Sridhar Reddy",
         "Tarun Arora",
         "Gulshan Grover",
         "Vinay Pandey"
        ],
        [
         "37",
         "1911",
         null,
         null,
         "Drama, History, Sport",
         null,
         null,
         "Nikkhil Advani",
         "John Abraham",
         null,
         null
        ],
        [
         "38",
         "1920",
         "(2008)",
         "138 min",
         "Horror, Mystery, Romance",
         "6.4",
         "3,100",
         "Vikram Bhatt",
         "Rajniesh Duggall",
         "Adah Sharma",
         "Anjori Alagh"
        ],
        [
         "39",
         "1920 London",
         "(2016)",
         "120 min",
         "Horror, Mystery",
         "4.1",
         "1,559",
         "Dharmendra Suresh Desai",
         "Sharman Joshi",
         "Meera Chopra",
         "Vishal Karwal"
        ],
        [
         "40",
         "1920: Evil Returns",
         "(2012)",
         "124 min",
         "Drama, Horror, Romance",
         "4.8",
         "1,811",
         "Bhushan Patel",
         "Vicky Ahuja",
         "Tia Bajpai",
         "Tarakesh Chauhan"
        ],
        [
         "41",
         "1921",
         "(2018)",
         "144 min",
         "Horror, Mystery, Romance",
         "4.5",
         "1,069",
         "Vikram Bhatt",
         "Zareen Khan",
         "Karan Kundra",
         "Vikram Bhatt"
        ],
        [
         "42",
         "1942: A Love Story",
         "(1994)",
         "157 min",
         "Action, Drama, History",
         "7.2",
         "3,223",
         "Vidhu Vinod Chopra",
         "Anil Kapoor",
         "Jackie Shroff",
         "Manisha Koirala"
        ],
        [
         "43",
         "1971",
         "(2007)",
         "136 min",
         "Action, Drama, War",
         "8.1",
         "1,892",
         "Amrit Sagar",
         "Manoj Bajpayee",
         "Ravi Kishan",
         "Deepak Dobriyal"
        ],
        [
         "44",
         "1978: A Teen Night Out",
         "(2019)",
         "107 min",
         "Thriller",
         "4.0",
         "20",
         "Aziz Zee",
         "Abuzar Akhtar",
         "Apurva Godbole",
         "Vaishnavi Kadam"
        ],
        [
         "45",
         "1982 - A Love Marriage",
         "(2017)",
         "113 min",
         "Comedy",
         "5.5",
         "106",
         "Prashant Gore",
         "Amitkumar Sharma",
         "Omna",
         "Rita Agarwal"
        ],
        [
         "46",
         "19th January",
         "(2014)",
         null,
         "Drama",
         "7.3",
         "16",
         "Sanjay Amar",
         "Mumtaz Ahmed",
         "Bidita Bag",
         "Madhuri Bhatia"
        ],
        [
         "47",
         "2 Band Radio",
         "(2019)",
         null,
         "Comedy",
         null,
         null,
         "Saki Shah",
         "Bilal Ahamad Bhagat",
         "Neelu Dogra",
         "Rahat Kazmi"
        ],
        [
         "48",
         "2 GB Ki Life",
         null,
         null,
         "Drama",
         null,
         null,
         null,
         null,
         null,
         null
        ],
        [
         "49",
         "2 Little Indians",
         "(2013)",
         null,
         "Comedy, Family",
         "5.6",
         "14",
         "Ravi Bhatia",
         "Ravi Bhatia",
         "Ronak Bhatia",
         "Kamal Chopra"
        ]
       ],
       "shape": {
        "columns": 10,
        "rows": 15509
       }
      },
      "text/html": [
       "<div>\n",
       "<style scoped>\n",
       "    .dataframe tbody tr th:only-of-type {\n",
       "        vertical-align: middle;\n",
       "    }\n",
       "\n",
       "    .dataframe tbody tr th {\n",
       "        vertical-align: top;\n",
       "    }\n",
       "\n",
       "    .dataframe thead th {\n",
       "        text-align: right;\n",
       "    }\n",
       "</style>\n",
       "<table border=\"1\" class=\"dataframe\">\n",
       "  <thead>\n",
       "    <tr style=\"text-align: right;\">\n",
       "      <th></th>\n",
       "      <th>Name</th>\n",
       "      <th>Year</th>\n",
       "      <th>Duration</th>\n",
       "      <th>Genre</th>\n",
       "      <th>Rating</th>\n",
       "      <th>Votes</th>\n",
       "      <th>Director</th>\n",
       "      <th>Actor 1</th>\n",
       "      <th>Actor 2</th>\n",
       "      <th>Actor 3</th>\n",
       "    </tr>\n",
       "  </thead>\n",
       "  <tbody>\n",
       "    <tr>\n",
       "      <th>0</th>\n",
       "      <td></td>\n",
       "      <td>NaN</td>\n",
       "      <td>NaN</td>\n",
       "      <td>Drama</td>\n",
       "      <td>NaN</td>\n",
       "      <td>NaN</td>\n",
       "      <td>J.S. Randhawa</td>\n",
       "      <td>Manmauji</td>\n",
       "      <td>Birbal</td>\n",
       "      <td>Rajendra Bhatia</td>\n",
       "    </tr>\n",
       "    <tr>\n",
       "      <th>1</th>\n",
       "      <td>#Gadhvi (He thought he was Gandhi)</td>\n",
       "      <td>(2019)</td>\n",
       "      <td>109 min</td>\n",
       "      <td>Drama</td>\n",
       "      <td>7.0</td>\n",
       "      <td>8</td>\n",
       "      <td>Gaurav Bakshi</td>\n",
       "      <td>Rasika Dugal</td>\n",
       "      <td>Vivek Ghamande</td>\n",
       "      <td>Arvind Jangid</td>\n",
       "    </tr>\n",
       "    <tr>\n",
       "      <th>2</th>\n",
       "      <td>#Homecoming</td>\n",
       "      <td>(2021)</td>\n",
       "      <td>90 min</td>\n",
       "      <td>Drama, Musical</td>\n",
       "      <td>NaN</td>\n",
       "      <td>NaN</td>\n",
       "      <td>Soumyajit Majumdar</td>\n",
       "      <td>Sayani Gupta</td>\n",
       "      <td>Plabita Borthakur</td>\n",
       "      <td>Roy Angana</td>\n",
       "    </tr>\n",
       "    <tr>\n",
       "      <th>3</th>\n",
       "      <td>#Yaaram</td>\n",
       "      <td>(2019)</td>\n",
       "      <td>110 min</td>\n",
       "      <td>Comedy, Romance</td>\n",
       "      <td>4.4</td>\n",
       "      <td>35</td>\n",
       "      <td>Ovais Khan</td>\n",
       "      <td>Prateik</td>\n",
       "      <td>Ishita Raj</td>\n",
       "      <td>Siddhant Kapoor</td>\n",
       "    </tr>\n",
       "    <tr>\n",
       "      <th>4</th>\n",
       "      <td>...And Once Again</td>\n",
       "      <td>(2010)</td>\n",
       "      <td>105 min</td>\n",
       "      <td>Drama</td>\n",
       "      <td>NaN</td>\n",
       "      <td>NaN</td>\n",
       "      <td>Amol Palekar</td>\n",
       "      <td>Rajat Kapoor</td>\n",
       "      <td>Rituparna Sengupta</td>\n",
       "      <td>Antara Mali</td>\n",
       "    </tr>\n",
       "    <tr>\n",
       "      <th>...</th>\n",
       "      <td>...</td>\n",
       "      <td>...</td>\n",
       "      <td>...</td>\n",
       "      <td>...</td>\n",
       "      <td>...</td>\n",
       "      <td>...</td>\n",
       "      <td>...</td>\n",
       "      <td>...</td>\n",
       "      <td>...</td>\n",
       "      <td>...</td>\n",
       "    </tr>\n",
       "    <tr>\n",
       "      <th>15504</th>\n",
       "      <td>Zulm Ko Jala Doonga</td>\n",
       "      <td>(1988)</td>\n",
       "      <td>NaN</td>\n",
       "      <td>Action</td>\n",
       "      <td>4.6</td>\n",
       "      <td>11</td>\n",
       "      <td>Mahendra Shah</td>\n",
       "      <td>Naseeruddin Shah</td>\n",
       "      <td>Sumeet Saigal</td>\n",
       "      <td>Suparna Anand</td>\n",
       "    </tr>\n",
       "    <tr>\n",
       "      <th>15505</th>\n",
       "      <td>Zulmi</td>\n",
       "      <td>(1999)</td>\n",
       "      <td>129 min</td>\n",
       "      <td>Action, Drama</td>\n",
       "      <td>4.5</td>\n",
       "      <td>655</td>\n",
       "      <td>Kuku Kohli</td>\n",
       "      <td>Akshay Kumar</td>\n",
       "      <td>Twinkle Khanna</td>\n",
       "      <td>Aruna Irani</td>\n",
       "    </tr>\n",
       "    <tr>\n",
       "      <th>15506</th>\n",
       "      <td>Zulmi Raj</td>\n",
       "      <td>(2005)</td>\n",
       "      <td>NaN</td>\n",
       "      <td>Action</td>\n",
       "      <td>NaN</td>\n",
       "      <td>NaN</td>\n",
       "      <td>Kiran Thej</td>\n",
       "      <td>Sangeeta Tiwari</td>\n",
       "      <td>NaN</td>\n",
       "      <td>NaN</td>\n",
       "    </tr>\n",
       "    <tr>\n",
       "      <th>15507</th>\n",
       "      <td>Zulmi Shikari</td>\n",
       "      <td>(1988)</td>\n",
       "      <td>NaN</td>\n",
       "      <td>Action</td>\n",
       "      <td>NaN</td>\n",
       "      <td>NaN</td>\n",
       "      <td>NaN</td>\n",
       "      <td>NaN</td>\n",
       "      <td>NaN</td>\n",
       "      <td>NaN</td>\n",
       "    </tr>\n",
       "    <tr>\n",
       "      <th>15508</th>\n",
       "      <td>Zulm-O-Sitam</td>\n",
       "      <td>(1998)</td>\n",
       "      <td>130 min</td>\n",
       "      <td>Action, Drama</td>\n",
       "      <td>6.2</td>\n",
       "      <td>20</td>\n",
       "      <td>K.C. Bokadia</td>\n",
       "      <td>Dharmendra</td>\n",
       "      <td>Jaya Prada</td>\n",
       "      <td>Arjun Sarja</td>\n",
       "    </tr>\n",
       "  </tbody>\n",
       "</table>\n",
       "<p>15509 rows × 10 columns</p>\n",
       "</div>"
      ],
      "text/plain": [
       "                                     Name    Year Duration            Genre  \\\n",
       "0                                             NaN      NaN            Drama   \n",
       "1      #Gadhvi (He thought he was Gandhi)  (2019)  109 min            Drama   \n",
       "2                             #Homecoming  (2021)   90 min   Drama, Musical   \n",
       "3                                 #Yaaram  (2019)  110 min  Comedy, Romance   \n",
       "4                       ...And Once Again  (2010)  105 min            Drama   \n",
       "...                                   ...     ...      ...              ...   \n",
       "15504                 Zulm Ko Jala Doonga  (1988)      NaN           Action   \n",
       "15505                               Zulmi  (1999)  129 min    Action, Drama   \n",
       "15506                           Zulmi Raj  (2005)      NaN           Action   \n",
       "15507                       Zulmi Shikari  (1988)      NaN           Action   \n",
       "15508                        Zulm-O-Sitam  (1998)  130 min    Action, Drama   \n",
       "\n",
       "       Rating Votes            Director           Actor 1             Actor 2  \\\n",
       "0         NaN   NaN       J.S. Randhawa          Manmauji              Birbal   \n",
       "1         7.0     8       Gaurav Bakshi      Rasika Dugal      Vivek Ghamande   \n",
       "2         NaN   NaN  Soumyajit Majumdar      Sayani Gupta   Plabita Borthakur   \n",
       "3         4.4    35          Ovais Khan           Prateik          Ishita Raj   \n",
       "4         NaN   NaN        Amol Palekar      Rajat Kapoor  Rituparna Sengupta   \n",
       "...       ...   ...                 ...               ...                 ...   \n",
       "15504     4.6    11       Mahendra Shah  Naseeruddin Shah       Sumeet Saigal   \n",
       "15505     4.5   655          Kuku Kohli      Akshay Kumar      Twinkle Khanna   \n",
       "15506     NaN   NaN          Kiran Thej   Sangeeta Tiwari                 NaN   \n",
       "15507     NaN   NaN                 NaN               NaN                 NaN   \n",
       "15508     6.2    20        K.C. Bokadia        Dharmendra          Jaya Prada   \n",
       "\n",
       "               Actor 3  \n",
       "0      Rajendra Bhatia  \n",
       "1        Arvind Jangid  \n",
       "2           Roy Angana  \n",
       "3      Siddhant Kapoor  \n",
       "4          Antara Mali  \n",
       "...                ...  \n",
       "15504    Suparna Anand  \n",
       "15505      Aruna Irani  \n",
       "15506              NaN  \n",
       "15507              NaN  \n",
       "15508      Arjun Sarja  \n",
       "\n",
       "[15509 rows x 10 columns]"
      ]
     },
     "execution_count": 44,
     "metadata": {},
     "output_type": "execute_result"
    }
   ],
   "source": [
    "df"
   ]
  },
  {
   "cell_type": "code",
   "execution_count": 45,
   "id": "4014018f",
   "metadata": {},
   "outputs": [
    {
     "data": {
      "application/vnd.microsoft.datawrangler.viewer.v0+json": {
       "columns": [
        {
         "name": "index",
         "rawType": "int64",
         "type": "integer"
        },
        {
         "name": "Name",
         "rawType": "object",
         "type": "string"
        },
        {
         "name": "Year",
         "rawType": "object",
         "type": "string"
        },
        {
         "name": "Duration",
         "rawType": "object",
         "type": "string"
        },
        {
         "name": "Genre",
         "rawType": "object",
         "type": "string"
        },
        {
         "name": "Rating",
         "rawType": "float64",
         "type": "float"
        },
        {
         "name": "Votes",
         "rawType": "object",
         "type": "string"
        },
        {
         "name": "Director",
         "rawType": "object",
         "type": "string"
        },
        {
         "name": "Actor 1",
         "rawType": "object",
         "type": "string"
        },
        {
         "name": "Actor 2",
         "rawType": "object",
         "type": "string"
        },
        {
         "name": "Actor 3",
         "rawType": "object",
         "type": "string"
        }
       ],
       "ref": "08b4c5a5-a37d-492d-a450-c5f6c0dbb65e",
       "rows": [],
       "shape": {
        "columns": 10,
        "rows": 0
       }
      },
      "text/html": [
       "<div>\n",
       "<style scoped>\n",
       "    .dataframe tbody tr th:only-of-type {\n",
       "        vertical-align: middle;\n",
       "    }\n",
       "\n",
       "    .dataframe tbody tr th {\n",
       "        vertical-align: top;\n",
       "    }\n",
       "\n",
       "    .dataframe thead th {\n",
       "        text-align: right;\n",
       "    }\n",
       "</style>\n",
       "<table border=\"1\" class=\"dataframe\">\n",
       "  <thead>\n",
       "    <tr style=\"text-align: right;\">\n",
       "      <th></th>\n",
       "      <th>Name</th>\n",
       "      <th>Year</th>\n",
       "      <th>Duration</th>\n",
       "      <th>Genre</th>\n",
       "      <th>Rating</th>\n",
       "      <th>Votes</th>\n",
       "      <th>Director</th>\n",
       "      <th>Actor 1</th>\n",
       "      <th>Actor 2</th>\n",
       "      <th>Actor 3</th>\n",
       "    </tr>\n",
       "  </thead>\n",
       "  <tbody>\n",
       "  </tbody>\n",
       "</table>\n",
       "</div>"
      ],
      "text/plain": [
       "Empty DataFrame\n",
       "Columns: [Name, Year, Duration, Genre, Rating, Votes, Director, Actor 1, Actor 2, Actor 3]\n",
       "Index: []"
      ]
     },
     "execution_count": 45,
     "metadata": {},
     "output_type": "execute_result"
    }
   ],
   "source": [
    "df[df['Rating']<0]"
   ]
  },
  {
   "cell_type": "code",
   "execution_count": 46,
   "id": "29068ac2",
   "metadata": {},
   "outputs": [
    {
     "data": {
      "text/plain": [
       "np.int64(6)"
      ]
     },
     "execution_count": 46,
     "metadata": {},
     "output_type": "execute_result"
    }
   ],
   "source": [
    "df1.duplicated().sum()"
   ]
  },
  {
   "cell_type": "code",
   "execution_count": 47,
   "id": "27d7f079",
   "metadata": {},
   "outputs": [
    {
     "data": {
      "application/vnd.microsoft.datawrangler.viewer.v0+json": {
       "columns": [
        {
         "name": "index",
         "rawType": "int64",
         "type": "integer"
        },
        {
         "name": "Name",
         "rawType": "object",
         "type": "string"
        },
        {
         "name": "Year",
         "rawType": "object",
         "type": "unknown"
        },
        {
         "name": "Duration",
         "rawType": "object",
         "type": "unknown"
        },
        {
         "name": "Genre",
         "rawType": "object",
         "type": "unknown"
        },
        {
         "name": "Rating",
         "rawType": "float64",
         "type": "float"
        },
        {
         "name": "Votes",
         "rawType": "object",
         "type": "unknown"
        },
        {
         "name": "Director",
         "rawType": "object",
         "type": "unknown"
        },
        {
         "name": "Actor 1",
         "rawType": "object",
         "type": "unknown"
        },
        {
         "name": "Actor 2",
         "rawType": "object",
         "type": "unknown"
        },
        {
         "name": "Actor 3",
         "rawType": "object",
         "type": "unknown"
        }
       ],
       "ref": "5d24179a-4c6f-4ab8-8890-cdf3da6f9989",
       "rows": [
        [
         "0",
         " ",
         null,
         null,
         "Drama",
         null,
         null,
         "J.S. Randhawa",
         "Manmauji",
         "Birbal",
         "Rajendra Bhatia"
        ],
        [
         "1",
         "#Gadhvi (He thought he was Gandhi)",
         "(2019)",
         "109 min",
         "Drama",
         "7.0",
         "8",
         "Gaurav Bakshi",
         "Rasika Dugal",
         "Vivek Ghamande",
         "Arvind Jangid"
        ],
        [
         "2",
         "#Homecoming",
         "(2021)",
         "90 min",
         "Drama, Musical",
         null,
         null,
         "Soumyajit Majumdar",
         "Sayani Gupta",
         "Plabita Borthakur",
         "Roy Angana"
        ],
        [
         "3",
         "#Yaaram",
         "(2019)",
         "110 min",
         "Comedy, Romance",
         "4.4",
         "35",
         "Ovais Khan",
         "Prateik",
         "Ishita Raj",
         "Siddhant Kapoor"
        ],
        [
         "4",
         "...And Once Again",
         "(2010)",
         "105 min",
         "Drama",
         null,
         null,
         "Amol Palekar",
         "Rajat Kapoor",
         "Rituparna Sengupta",
         "Antara Mali"
        ],
        [
         "5",
         "...Aur Pyaar Ho Gaya",
         "(1997)",
         "147 min",
         "Comedy, Drama, Musical",
         "4.7",
         "827",
         "Rahul Rawail",
         "Bobby Deol",
         "Aishwarya Rai Bachchan",
         "Shammi Kapoor"
        ],
        [
         "6",
         "...Yahaan",
         "(2005)",
         "142 min",
         "Drama, Romance, War",
         "7.4",
         "1,086",
         "Shoojit Sircar",
         "Jimmy Sheirgill",
         "Minissha Lamba",
         "Yashpal Sharma"
        ],
        [
         "7",
         ".in for Motion",
         "(2008)",
         "59 min",
         "Documentary",
         null,
         null,
         "Anirban Datta",
         null,
         null,
         null
        ],
        [
         "8",
         "?: A Question Mark",
         "(2012)",
         "82 min",
         "Horror, Mystery, Thriller",
         "5.6",
         "326",
         "Allyson Patel",
         "Yash Dave",
         "Muntazir Ahmad",
         "Kiran Bhatia"
        ],
        [
         "9",
         "@Andheri",
         "(2014)",
         "116 min",
         "Action, Crime, Thriller",
         "4.0",
         "11",
         "Biju Bhaskar Nair",
         "Augustine",
         "Fathima Babu",
         "Byon"
        ],
        [
         "10",
         "1:1.6 An Ode to Lost Love",
         "(2004)",
         "96 min",
         "Drama",
         "6.2",
         "17",
         "Madhu Ambat",
         "Rati Agnihotri",
         "Gulshan Grover",
         "Atul Kulkarni"
        ],
        [
         "11",
         "1:13:7 Ek Tera Saath",
         "(2016)",
         "120 min",
         "Horror",
         "5.9",
         "59",
         "Arshad Siddiqui",
         "Pankaj Berry",
         "Anubhav Dhir",
         "Hritu Dudani"
        ],
        [
         "12",
         "100 Days",
         "(1991)",
         "161 min",
         "Horror, Romance, Thriller",
         "6.5",
         "983",
         "Partho Ghosh",
         "Jackie Shroff",
         "Madhuri Dixit",
         "Javed Jaffrey"
        ],
        [
         "13",
         "100% Love",
         "(2012)",
         "166 min",
         "Comedy, Drama, Romance",
         "5.7",
         "512",
         "Rabi Kinagi",
         "Jeet",
         "Koyel Mallick",
         "Sujoy Ghosh"
        ],
        [
         "14",
         "101 Ratein",
         "(1990)",
         null,
         "Thriller",
         null,
         null,
         "Harish",
         "Saraswati",
         "Disco Shanti",
         null
        ],
        [
         "15",
         "102 Not Out",
         "(2018)",
         "102 min",
         "Comedy, Drama",
         "7.4",
         "6,619",
         "Umesh Shukla",
         "Amitabh Bachchan",
         "Rishi Kapoor",
         "Vijay Raaz"
        ],
        [
         "16",
         "108 Limited",
         null,
         null,
         null,
         null,
         null,
         "Anand Anddy",
         "Vijay Raaz",
         "Sanjay Mishra",
         "Brahmanandam"
        ],
        [
         "17",
         "108 Teerthyatra",
         "(1987)",
         null,
         "Comedy, Drama, Fantasy",
         null,
         null,
         "Rajpati",
         "Pravin Anand",
         "Nayan Bhatt",
         "Jeetu"
        ],
        [
         "18",
         "10ml LOVE",
         "(2010)",
         "87 min",
         "Comedy, Drama, Romance",
         "6.3",
         "162",
         "Sharat Katariya",
         "Neil Bhoopalam",
         "Anusha Bose",
         "Manu Rishi Chadha"
        ],
        [
         "19",
         "11 O'Clock",
         "(1948)",
         null,
         null,
         null,
         null,
         "Homi Wadia",
         "Aftab",
         "Sayani Atish",
         "Austin Ki Bachchi"
        ],
        [
         "20",
         "12 Bulbule",
         "(2021)",
         null,
         "Comedy, Drama, Family",
         null,
         null,
         "Jagat Joon",
         "Sonu Sonkar",
         "Sunita Verman",
         "Anubhav Dixit"
        ],
        [
         "21",
         "12 O'Clock",
         "(1958)",
         "132 min",
         "Crime, Drama, Mystery",
         "7.2",
         "72",
         "Pramod Chakravorty",
         "Guru Dutt",
         "Waheeda Rehman",
         "Shashikala"
        ],
        [
         "22",
         "12 O'Clock",
         "(2021)",
         "105 min",
         "Horror, Thriller",
         "4.4",
         "63",
         "Ram Gopal Varma",
         "Mithun Chakraborty",
         "Makrand Deshpande",
         "Dalip Tahil"
        ],
        [
         "23",
         "12 Years",
         null,
         null,
         "Biography",
         null,
         null,
         "Sohail Tatari",
         null,
         null,
         null
        ],
        [
         "24",
         "124a",
         "(2021)",
         null,
         "Documentary",
         null,
         null,
         "Varrun Sukhraj",
         null,
         null,
         null
        ],
        [
         "25",
         "127 B",
         "(2017)",
         "116 min",
         "Comedy, Horror",
         "6.6",
         "26",
         "Seshu Kmr",
         "Mast Ali",
         "Aziz Naser",
         "Heena Shaik"
        ],
        [
         "26",
         "13 May Gulaabi Nagar",
         "(2010)",
         null,
         "Action",
         null,
         null,
         "N.K. Pareek",
         "Nirmal Pandey",
         "Khushi Rajpoot",
         "Raj Singh Verma"
        ],
        [
         "27",
         "13 Tribute of Love",
         "(2020)",
         "66 min",
         "Drama",
         null,
         null,
         "Rahul Tiwari",
         "Rahul Tiwari Adhiyari",
         "Anil Arora",
         "Asima Bhatt"
        ],
        [
         "28",
         "13B: Fear Has a New Address",
         "(2009)",
         "146 min",
         "Drama, Horror, Mystery",
         "7.3",
         "6,329",
         "Vikram K. Kumar",
         "Madhavan",
         "Neetu Chandra",
         "Poonam Dhillon"
        ],
        [
         "29",
         "14 Phere",
         "(2021)",
         null,
         "Comedy",
         null,
         null,
         "Devanshu Singh",
         "Vikrant Massey",
         "Kriti Kharbanda",
         "Gauahar Khan"
        ],
        [
         "30",
         "15 Park Avenue",
         "(2005)",
         "116 min",
         "Drama",
         "7.1",
         "1,002",
         "Aparna Sen",
         "Shabana Azmi",
         "Konkona Sen Sharma",
         "Rahul Bose"
        ],
        [
         "31",
         "150 Seconds Ago",
         "(2002)",
         "112 min",
         null,
         null,
         null,
         "Batul Mukhtiar",
         null,
         null,
         null
        ],
        [
         "32",
         "15th August",
         "(1993)",
         "168 min",
         "Drama",
         "5.6",
         "15",
         "Vicky Ranawat",
         "Ronit Roy",
         "Tisca Chopra",
         "Shakti Kapoor"
        ],
        [
         "33",
         "16 December",
         "(2002)",
         "158 min",
         "Action, Thriller",
         "6.9",
         "1,235",
         "Mani Shankar",
         "Milind Soman",
         "Danny Denzongpa",
         "Gulshan Grover"
        ],
        [
         "34",
         "18.11",
         "(2014)",
         "126 min",
         "Action",
         "3.5",
         "10",
         "Mohibul Haque",
         "Rehal Khan",
         "Gulshan Grover",
         "Mukesh Tiwari"
        ],
        [
         "35",
         "1857",
         "(1946)",
         null,
         "Drama, History",
         "5.0",
         "8",
         "Mohan Sinha",
         "Nigar Sultana",
         "Suraiya",
         "Menaka Devi"
        ],
        [
         "36",
         "19 Revolutions",
         "(2004)",
         "94 min",
         "Drama",
         "4.5",
         "16",
         "Sridhar Reddy",
         "Tarun Arora",
         "Gulshan Grover",
         "Vinay Pandey"
        ],
        [
         "37",
         "1911",
         null,
         null,
         "Drama, History, Sport",
         null,
         null,
         "Nikkhil Advani",
         "John Abraham",
         null,
         null
        ],
        [
         "38",
         "1920",
         "(2008)",
         "138 min",
         "Horror, Mystery, Romance",
         "6.4",
         "3,100",
         "Vikram Bhatt",
         "Rajniesh Duggall",
         "Adah Sharma",
         "Anjori Alagh"
        ],
        [
         "39",
         "1920 London",
         "(2016)",
         "120 min",
         "Horror, Mystery",
         "4.1",
         "1,559",
         "Dharmendra Suresh Desai",
         "Sharman Joshi",
         "Meera Chopra",
         "Vishal Karwal"
        ],
        [
         "40",
         "1920: Evil Returns",
         "(2012)",
         "124 min",
         "Drama, Horror, Romance",
         "4.8",
         "1,811",
         "Bhushan Patel",
         "Vicky Ahuja",
         "Tia Bajpai",
         "Tarakesh Chauhan"
        ],
        [
         "41",
         "1921",
         "(2018)",
         "144 min",
         "Horror, Mystery, Romance",
         "4.5",
         "1,069",
         "Vikram Bhatt",
         "Zareen Khan",
         "Karan Kundra",
         "Vikram Bhatt"
        ],
        [
         "42",
         "1942: A Love Story",
         "(1994)",
         "157 min",
         "Action, Drama, History",
         "7.2",
         "3,223",
         "Vidhu Vinod Chopra",
         "Anil Kapoor",
         "Jackie Shroff",
         "Manisha Koirala"
        ],
        [
         "43",
         "1971",
         "(2007)",
         "136 min",
         "Action, Drama, War",
         "8.1",
         "1,892",
         "Amrit Sagar",
         "Manoj Bajpayee",
         "Ravi Kishan",
         "Deepak Dobriyal"
        ],
        [
         "44",
         "1978: A Teen Night Out",
         "(2019)",
         "107 min",
         "Thriller",
         "4.0",
         "20",
         "Aziz Zee",
         "Abuzar Akhtar",
         "Apurva Godbole",
         "Vaishnavi Kadam"
        ],
        [
         "45",
         "1982 - A Love Marriage",
         "(2017)",
         "113 min",
         "Comedy",
         "5.5",
         "106",
         "Prashant Gore",
         "Amitkumar Sharma",
         "Omna",
         "Rita Agarwal"
        ],
        [
         "46",
         "19th January",
         "(2014)",
         null,
         "Drama",
         "7.3",
         "16",
         "Sanjay Amar",
         "Mumtaz Ahmed",
         "Bidita Bag",
         "Madhuri Bhatia"
        ],
        [
         "47",
         "2 Band Radio",
         "(2019)",
         null,
         "Comedy",
         null,
         null,
         "Saki Shah",
         "Bilal Ahamad Bhagat",
         "Neelu Dogra",
         "Rahat Kazmi"
        ],
        [
         "48",
         "2 GB Ki Life",
         null,
         null,
         "Drama",
         null,
         null,
         null,
         null,
         null,
         null
        ],
        [
         "49",
         "2 Little Indians",
         "(2013)",
         null,
         "Comedy, Family",
         "5.6",
         "14",
         "Ravi Bhatia",
         "Ravi Bhatia",
         "Ronak Bhatia",
         "Kamal Chopra"
        ]
       ],
       "shape": {
        "columns": 10,
        "rows": 15503
       }
      },
      "text/html": [
       "<div>\n",
       "<style scoped>\n",
       "    .dataframe tbody tr th:only-of-type {\n",
       "        vertical-align: middle;\n",
       "    }\n",
       "\n",
       "    .dataframe tbody tr th {\n",
       "        vertical-align: top;\n",
       "    }\n",
       "\n",
       "    .dataframe thead th {\n",
       "        text-align: right;\n",
       "    }\n",
       "</style>\n",
       "<table border=\"1\" class=\"dataframe\">\n",
       "  <thead>\n",
       "    <tr style=\"text-align: right;\">\n",
       "      <th></th>\n",
       "      <th>Name</th>\n",
       "      <th>Year</th>\n",
       "      <th>Duration</th>\n",
       "      <th>Genre</th>\n",
       "      <th>Rating</th>\n",
       "      <th>Votes</th>\n",
       "      <th>Director</th>\n",
       "      <th>Actor 1</th>\n",
       "      <th>Actor 2</th>\n",
       "      <th>Actor 3</th>\n",
       "    </tr>\n",
       "  </thead>\n",
       "  <tbody>\n",
       "    <tr>\n",
       "      <th>0</th>\n",
       "      <td></td>\n",
       "      <td>NaN</td>\n",
       "      <td>NaN</td>\n",
       "      <td>Drama</td>\n",
       "      <td>NaN</td>\n",
       "      <td>NaN</td>\n",
       "      <td>J.S. Randhawa</td>\n",
       "      <td>Manmauji</td>\n",
       "      <td>Birbal</td>\n",
       "      <td>Rajendra Bhatia</td>\n",
       "    </tr>\n",
       "    <tr>\n",
       "      <th>1</th>\n",
       "      <td>#Gadhvi (He thought he was Gandhi)</td>\n",
       "      <td>(2019)</td>\n",
       "      <td>109 min</td>\n",
       "      <td>Drama</td>\n",
       "      <td>7.0</td>\n",
       "      <td>8</td>\n",
       "      <td>Gaurav Bakshi</td>\n",
       "      <td>Rasika Dugal</td>\n",
       "      <td>Vivek Ghamande</td>\n",
       "      <td>Arvind Jangid</td>\n",
       "    </tr>\n",
       "    <tr>\n",
       "      <th>2</th>\n",
       "      <td>#Homecoming</td>\n",
       "      <td>(2021)</td>\n",
       "      <td>90 min</td>\n",
       "      <td>Drama, Musical</td>\n",
       "      <td>NaN</td>\n",
       "      <td>NaN</td>\n",
       "      <td>Soumyajit Majumdar</td>\n",
       "      <td>Sayani Gupta</td>\n",
       "      <td>Plabita Borthakur</td>\n",
       "      <td>Roy Angana</td>\n",
       "    </tr>\n",
       "    <tr>\n",
       "      <th>3</th>\n",
       "      <td>#Yaaram</td>\n",
       "      <td>(2019)</td>\n",
       "      <td>110 min</td>\n",
       "      <td>Comedy, Romance</td>\n",
       "      <td>4.4</td>\n",
       "      <td>35</td>\n",
       "      <td>Ovais Khan</td>\n",
       "      <td>Prateik</td>\n",
       "      <td>Ishita Raj</td>\n",
       "      <td>Siddhant Kapoor</td>\n",
       "    </tr>\n",
       "    <tr>\n",
       "      <th>4</th>\n",
       "      <td>...And Once Again</td>\n",
       "      <td>(2010)</td>\n",
       "      <td>105 min</td>\n",
       "      <td>Drama</td>\n",
       "      <td>NaN</td>\n",
       "      <td>NaN</td>\n",
       "      <td>Amol Palekar</td>\n",
       "      <td>Rajat Kapoor</td>\n",
       "      <td>Rituparna Sengupta</td>\n",
       "      <td>Antara Mali</td>\n",
       "    </tr>\n",
       "    <tr>\n",
       "      <th>...</th>\n",
       "      <td>...</td>\n",
       "      <td>...</td>\n",
       "      <td>...</td>\n",
       "      <td>...</td>\n",
       "      <td>...</td>\n",
       "      <td>...</td>\n",
       "      <td>...</td>\n",
       "      <td>...</td>\n",
       "      <td>...</td>\n",
       "      <td>...</td>\n",
       "    </tr>\n",
       "    <tr>\n",
       "      <th>15504</th>\n",
       "      <td>Zulm Ko Jala Doonga</td>\n",
       "      <td>(1988)</td>\n",
       "      <td>NaN</td>\n",
       "      <td>Action</td>\n",
       "      <td>4.6</td>\n",
       "      <td>11</td>\n",
       "      <td>Mahendra Shah</td>\n",
       "      <td>Naseeruddin Shah</td>\n",
       "      <td>Sumeet Saigal</td>\n",
       "      <td>Suparna Anand</td>\n",
       "    </tr>\n",
       "    <tr>\n",
       "      <th>15505</th>\n",
       "      <td>Zulmi</td>\n",
       "      <td>(1999)</td>\n",
       "      <td>129 min</td>\n",
       "      <td>Action, Drama</td>\n",
       "      <td>4.5</td>\n",
       "      <td>655</td>\n",
       "      <td>Kuku Kohli</td>\n",
       "      <td>Akshay Kumar</td>\n",
       "      <td>Twinkle Khanna</td>\n",
       "      <td>Aruna Irani</td>\n",
       "    </tr>\n",
       "    <tr>\n",
       "      <th>15506</th>\n",
       "      <td>Zulmi Raj</td>\n",
       "      <td>(2005)</td>\n",
       "      <td>NaN</td>\n",
       "      <td>Action</td>\n",
       "      <td>NaN</td>\n",
       "      <td>NaN</td>\n",
       "      <td>Kiran Thej</td>\n",
       "      <td>Sangeeta Tiwari</td>\n",
       "      <td>NaN</td>\n",
       "      <td>NaN</td>\n",
       "    </tr>\n",
       "    <tr>\n",
       "      <th>15507</th>\n",
       "      <td>Zulmi Shikari</td>\n",
       "      <td>(1988)</td>\n",
       "      <td>NaN</td>\n",
       "      <td>Action</td>\n",
       "      <td>NaN</td>\n",
       "      <td>NaN</td>\n",
       "      <td>NaN</td>\n",
       "      <td>NaN</td>\n",
       "      <td>NaN</td>\n",
       "      <td>NaN</td>\n",
       "    </tr>\n",
       "    <tr>\n",
       "      <th>15508</th>\n",
       "      <td>Zulm-O-Sitam</td>\n",
       "      <td>(1998)</td>\n",
       "      <td>130 min</td>\n",
       "      <td>Action, Drama</td>\n",
       "      <td>6.2</td>\n",
       "      <td>20</td>\n",
       "      <td>K.C. Bokadia</td>\n",
       "      <td>Dharmendra</td>\n",
       "      <td>Jaya Prada</td>\n",
       "      <td>Arjun Sarja</td>\n",
       "    </tr>\n",
       "  </tbody>\n",
       "</table>\n",
       "<p>15503 rows × 10 columns</p>\n",
       "</div>"
      ],
      "text/plain": [
       "                                     Name    Year Duration            Genre  \\\n",
       "0                                             NaN      NaN            Drama   \n",
       "1      #Gadhvi (He thought he was Gandhi)  (2019)  109 min            Drama   \n",
       "2                             #Homecoming  (2021)   90 min   Drama, Musical   \n",
       "3                                 #Yaaram  (2019)  110 min  Comedy, Romance   \n",
       "4                       ...And Once Again  (2010)  105 min            Drama   \n",
       "...                                   ...     ...      ...              ...   \n",
       "15504                 Zulm Ko Jala Doonga  (1988)      NaN           Action   \n",
       "15505                               Zulmi  (1999)  129 min    Action, Drama   \n",
       "15506                           Zulmi Raj  (2005)      NaN           Action   \n",
       "15507                       Zulmi Shikari  (1988)      NaN           Action   \n",
       "15508                        Zulm-O-Sitam  (1998)  130 min    Action, Drama   \n",
       "\n",
       "       Rating Votes            Director           Actor 1             Actor 2  \\\n",
       "0         NaN   NaN       J.S. Randhawa          Manmauji              Birbal   \n",
       "1         7.0     8       Gaurav Bakshi      Rasika Dugal      Vivek Ghamande   \n",
       "2         NaN   NaN  Soumyajit Majumdar      Sayani Gupta   Plabita Borthakur   \n",
       "3         4.4    35          Ovais Khan           Prateik          Ishita Raj   \n",
       "4         NaN   NaN        Amol Palekar      Rajat Kapoor  Rituparna Sengupta   \n",
       "...       ...   ...                 ...               ...                 ...   \n",
       "15504     4.6    11       Mahendra Shah  Naseeruddin Shah       Sumeet Saigal   \n",
       "15505     4.5   655          Kuku Kohli      Akshay Kumar      Twinkle Khanna   \n",
       "15506     NaN   NaN          Kiran Thej   Sangeeta Tiwari                 NaN   \n",
       "15507     NaN   NaN                 NaN               NaN                 NaN   \n",
       "15508     6.2    20        K.C. Bokadia        Dharmendra          Jaya Prada   \n",
       "\n",
       "               Actor 3  \n",
       "0      Rajendra Bhatia  \n",
       "1        Arvind Jangid  \n",
       "2           Roy Angana  \n",
       "3      Siddhant Kapoor  \n",
       "4          Antara Mali  \n",
       "...                ...  \n",
       "15504    Suparna Anand  \n",
       "15505      Aruna Irani  \n",
       "15506              NaN  \n",
       "15507              NaN  \n",
       "15508      Arjun Sarja  \n",
       "\n",
       "[15503 rows x 10 columns]"
      ]
     },
     "execution_count": 47,
     "metadata": {},
     "output_type": "execute_result"
    }
   ],
   "source": [
    "df1=df1.drop_duplicates()\n",
    "df1"
   ]
  },
  {
   "cell_type": "code",
   "execution_count": 48,
   "id": "b088fd26",
   "metadata": {},
   "outputs": [
    {
     "data": {
      "text/plain": [
       "np.int64(0)"
      ]
     },
     "execution_count": 48,
     "metadata": {},
     "output_type": "execute_result"
    }
   ],
   "source": [
    "df1.duplicated().sum()"
   ]
  },
  {
   "cell_type": "code",
   "execution_count": 49,
   "id": "ee9280e9",
   "metadata": {},
   "outputs": [],
   "source": [
    "df = df.dropna(subset=['Genre', 'Director', 'Actor 1','Actor 2','Actor 3', 'Rating'])  "
   ]
  },
  {
   "cell_type": "code",
   "execution_count": 50,
   "id": "b64dd635",
   "metadata": {},
   "outputs": [
    {
     "name": "stderr",
     "output_type": "stream",
     "text": [
      "C:\\Users\\Nitro\\AppData\\Local\\Temp\\ipykernel_50704\\1964484962.py:1: UserWarning: Could not infer format, so each element will be parsed individually, falling back to `dateutil`. To ensure parsing is consistent and as-expected, please specify a format.\n",
      "  df['Year'] = pd.to_datetime(df['Year'], errors='coerce')\n",
      "C:\\Users\\Nitro\\AppData\\Local\\Temp\\ipykernel_50704\\1964484962.py:1: SettingWithCopyWarning: \n",
      "A value is trying to be set on a copy of a slice from a DataFrame.\n",
      "Try using .loc[row_indexer,col_indexer] = value instead\n",
      "\n",
      "See the caveats in the documentation: https://pandas.pydata.org/pandas-docs/stable/user_guide/indexing.html#returning-a-view-versus-a-copy\n",
      "  df['Year'] = pd.to_datetime(df['Year'], errors='coerce')\n"
     ]
    }
   ],
   "source": [
    "df['Year'] = pd.to_datetime(df['Year'], errors='coerce') "
   ]
  },
  {
   "cell_type": "code",
   "execution_count": 51,
   "id": "2606e795",
   "metadata": {},
   "outputs": [
    {
     "data": {
      "application/vnd.microsoft.datawrangler.viewer.v0+json": {
       "columns": [
        {
         "name": "Name",
         "rawType": "object",
         "type": "string"
        },
        {
         "name": "count",
         "rawType": "int64",
         "type": "integer"
        }
       ],
       "ref": "3cdf3c27-be87-4421-9f10-ef55b1a35ad6",
       "rows": [
        [
         "Anjaam",
         "7"
        ],
        [
         "Mamta",
         "7"
        ],
        [
         "Zindagi",
         "6"
        ],
        [
         "Albela",
         "5"
        ],
        [
         "Musafir",
         "5"
        ],
        [
         "Fareb",
         "5"
        ],
        [
         "Dushman",
         "5"
        ],
        [
         "Dost",
         "5"
        ],
        [
         "Laila Majnu",
         "5"
        ],
        [
         "Amar Prem",
         "5"
        ],
        [
         "Armaan",
         "5"
        ],
        [
         "Guru",
         "5"
        ],
        [
         "Muqabla",
         "5"
        ],
        [
         "Shararat",
         "5"
        ],
        [
         "Shikari",
         "5"
        ],
        [
         "Toofan",
         "5"
        ],
        [
         "Aaina",
         "4"
        ],
        [
         "Achanak",
         "4"
        ],
        [
         "Dulhan",
         "4"
        ],
        [
         "Izzat",
         "4"
        ],
        [
         "Dada",
         "4"
        ],
        [
         "Baazigar",
         "4"
        ],
        [
         "Faisla",
         "4"
        ],
        [
         "Badla",
         "4"
        ],
        [
         "Beti",
         "4"
        ],
        [
         "Gumrah",
         "4"
        ],
        [
         "Adalat",
         "4"
        ],
        [
         "Kasam",
         "4"
        ],
        [
         "Adhikar",
         "4"
        ],
        [
         "Khiladi",
         "4"
        ],
        [
         "Do Bhai",
         "4"
        ],
        [
         "Bandish",
         "4"
        ],
        [
         "Jawab",
         "4"
        ],
        [
         "Campus",
         "4"
        ],
        [
         "Faraar",
         "4"
        ],
        [
         "Khoj",
         "4"
        ],
        [
         "Bandhan",
         "4"
        ],
        [
         "Akela",
         "4"
        ],
        [
         "Ghar Ki Laaj",
         "4"
        ],
        [
         "Gunehgar",
         "4"
        ],
        [
         "Baazi",
         "4"
        ],
        [
         "Krishna Sudama",
         "4"
        ],
        [
         "Kurukshetra",
         "4"
        ],
        [
         "Lalach",
         "4"
        ],
        [
         "Maa",
         "4"
        ],
        [
         "Haar Jeet",
         "4"
        ],
        [
         "Mahal",
         "4"
        ],
        [
         "Majboor",
         "4"
        ],
        [
         "Dillagi",
         "4"
        ],
        [
         "Masoom",
         "4"
        ]
       ],
       "shape": {
        "columns": 1,
        "rows": 13838
       }
      },
      "text/plain": [
       "Name\n",
       "Anjaam                                7\n",
       "Mamta                                 7\n",
       "Zindagi                               6\n",
       "Albela                                5\n",
       "Musafir                               5\n",
       "                                     ..\n",
       "Zoo                                   1\n",
       "Zor Lagaa Ke... Haiya!                1\n",
       "Zor: Never Underestimate the Force    1\n",
       "Zordaar                               1\n",
       "100% Love                             1\n",
       "Name: count, Length: 13838, dtype: int64"
      ]
     },
     "execution_count": 51,
     "metadata": {},
     "output_type": "execute_result"
    }
   ],
   "source": [
    "df1['Name'].value_counts()"
   ]
  },
  {
   "cell_type": "code",
   "execution_count": 52,
   "id": "a49c3d3e",
   "metadata": {},
   "outputs": [
    {
     "data": {
      "application/vnd.microsoft.datawrangler.viewer.v0+json": {
       "columns": [
        {
         "name": "Name",
         "rawType": "object",
         "type": "string"
        },
        {
         "name": "Rating",
         "rawType": "float64",
         "type": "float"
        }
       ],
       "ref": "3de20613-1214-4e91-9041-479c980cceba",
       "rows": [
        [
         "Anjaam",
         "30.0"
        ],
        [
         "Amar Prem",
         "27.799999999999997"
        ],
        [
         "Baazi",
         "26.5"
        ],
        [
         "Dushman",
         "26.2"
        ],
        [
         "Hulchul",
         "26.2"
        ],
        [
         "Sanjog",
         "26.0"
        ],
        [
         "Guru",
         "25.5"
        ],
        [
         "Izzat",
         "25.3"
        ],
        [
         "Sardar",
         "23.2"
        ],
        [
         "Zindagi",
         "23.1"
        ],
        [
         "Devdas",
         "21.7"
        ],
        [
         "Masoom",
         "21.5"
        ],
        [
         "Aankhen",
         "21.3"
        ],
        [
         "Jawab",
         "21.0"
        ],
        [
         "Ziddi",
         "20.5"
        ],
        [
         "Hum Dono",
         "20.4"
        ],
        [
         "Thokar",
         "20.4"
        ],
        [
         "Maya",
         "19.9"
        ],
        [
         "Hamrahi",
         "19.9"
        ],
        [
         "Madhosh",
         "19.9"
        ],
        [
         "Patang",
         "19.7"
        ],
        [
         "Vikram",
         "19.7"
        ],
        [
         "Maa",
         "19.6"
        ],
        [
         "Aurat",
         "19.5"
        ],
        [
         "Khoj",
         "19.4"
        ],
        [
         "Ittefaq",
         "19.1"
        ],
        [
         "Musafir",
         "19.1"
        ],
        [
         "Shatranj",
         "19.1"
        ],
        [
         "Anari",
         "18.9"
        ],
        [
         "Shart",
         "18.9"
        ],
        [
         "Suhagan",
         "18.6"
        ],
        [
         "Badal",
         "18.6"
        ],
        [
         "Dillagi",
         "18.5"
        ],
        [
         "Nishana",
         "18.4"
        ],
        [
         "Andaz",
         "18.3"
        ],
        [
         "Apradhi",
         "18.3"
        ],
        [
         "Mahal",
         "18.2"
        ],
        [
         "Sanam Teri Kasam",
         "18.2"
        ],
        [
         "Dost",
         "18.2"
        ],
        [
         "Aag",
         "18.2"
        ],
        [
         "Khel",
         "18.2"
        ],
        [
         "Mela",
         "18.1"
        ],
        [
         "Bandhan",
         "18.0"
        ],
        [
         "Pardesi",
         "18.0"
        ],
        [
         "Jaal",
         "18.0"
        ],
        [
         "Blackmail",
         "17.9"
        ],
        [
         "Raaz",
         "17.9"
        ],
        [
         "Adhikar",
         "17.8"
        ],
        [
         "Gumrah",
         "17.5"
        ],
        [
         "Bandish",
         "17.5"
        ]
       ],
       "shape": {
        "columns": 1,
        "rows": 13838
       }
      },
      "text/html": [
       "<div>\n",
       "<style scoped>\n",
       "    .dataframe tbody tr th:only-of-type {\n",
       "        vertical-align: middle;\n",
       "    }\n",
       "\n",
       "    .dataframe tbody tr th {\n",
       "        vertical-align: top;\n",
       "    }\n",
       "\n",
       "    .dataframe thead th {\n",
       "        text-align: right;\n",
       "    }\n",
       "</style>\n",
       "<table border=\"1\" class=\"dataframe\">\n",
       "  <thead>\n",
       "    <tr style=\"text-align: right;\">\n",
       "      <th></th>\n",
       "      <th>Rating</th>\n",
       "    </tr>\n",
       "    <tr>\n",
       "      <th>Name</th>\n",
       "      <th></th>\n",
       "    </tr>\n",
       "  </thead>\n",
       "  <tbody>\n",
       "    <tr>\n",
       "      <th>Anjaam</th>\n",
       "      <td>30.0</td>\n",
       "    </tr>\n",
       "    <tr>\n",
       "      <th>Amar Prem</th>\n",
       "      <td>27.8</td>\n",
       "    </tr>\n",
       "    <tr>\n",
       "      <th>Baazi</th>\n",
       "      <td>26.5</td>\n",
       "    </tr>\n",
       "    <tr>\n",
       "      <th>Dushman</th>\n",
       "      <td>26.2</td>\n",
       "    </tr>\n",
       "    <tr>\n",
       "      <th>Hulchul</th>\n",
       "      <td>26.2</td>\n",
       "    </tr>\n",
       "    <tr>\n",
       "      <th>...</th>\n",
       "      <td>...</td>\n",
       "    </tr>\n",
       "    <tr>\n",
       "      <th>12 Bulbule</th>\n",
       "      <td>0.0</td>\n",
       "    </tr>\n",
       "    <tr>\n",
       "      <th>11 O'Clock</th>\n",
       "      <td>0.0</td>\n",
       "    </tr>\n",
       "    <tr>\n",
       "      <th>108 Teerthyatra</th>\n",
       "      <td>0.0</td>\n",
       "    </tr>\n",
       "    <tr>\n",
       "      <th>108 Limited</th>\n",
       "      <td>0.0</td>\n",
       "    </tr>\n",
       "    <tr>\n",
       "      <th>Kake</th>\n",
       "      <td>0.0</td>\n",
       "    </tr>\n",
       "  </tbody>\n",
       "</table>\n",
       "<p>13838 rows × 1 columns</p>\n",
       "</div>"
      ],
      "text/plain": [
       "                 Rating\n",
       "Name                   \n",
       "Anjaam             30.0\n",
       "Amar Prem          27.8\n",
       "Baazi              26.5\n",
       "Dushman            26.2\n",
       "Hulchul            26.2\n",
       "...                 ...\n",
       "12 Bulbule          0.0\n",
       "11 O'Clock          0.0\n",
       "108 Teerthyatra     0.0\n",
       "108 Limited         0.0\n",
       "Kake                0.0\n",
       "\n",
       "[13838 rows x 1 columns]"
      ]
     },
     "execution_count": 52,
     "metadata": {},
     "output_type": "execute_result"
    }
   ],
   "source": [
    "df1.groupby('Name').agg({'Rating':'sum' }).sort_values('Rating', ascending=False)"
   ]
  },
  {
   "cell_type": "code",
   "execution_count": 53,
   "id": "2194f43d",
   "metadata": {},
   "outputs": [
    {
     "data": {
      "application/vnd.microsoft.datawrangler.viewer.v0+json": {
       "columns": [
        {
         "name": "Genre",
         "rawType": "object",
         "type": "string"
        },
        {
         "name": "Rating",
         "rawType": "float64",
         "type": "float"
        }
       ],
       "ref": "453562bf-dac5-4fb6-8d0b-38a7018fc463",
       "rows": [
        [
         "Drama",
         "7476.4"
        ],
        [
         "Drama, Romance",
         "2642.0"
        ],
        [
         "Action, Crime, Drama",
         "2341.9"
        ],
        [
         "Action",
         "2123.6"
        ],
        [
         "Drama, Family",
         "1818.6"
        ],
        [
         "Action, Drama",
         "1481.9"
        ],
        [
         "Comedy",
         "1477.1"
        ],
        [
         "Comedy, Drama",
         "1416.4"
        ],
        [
         "Romance",
         "1292.7"
        ],
        [
         "Comedy, Drama, Romance",
         "1222.6"
        ],
        [
         "Action, Comedy, Drama",
         "781.7"
        ],
        [
         "Thriller",
         "698.5"
        ],
        [
         "Comedy, Romance",
         "686.7"
        ],
        [
         "Action, Drama, Romance",
         "682.3"
        ],
        [
         "Drama, Musical, Romance",
         "656.9"
        ],
        [
         "Documentary",
         "643.7"
        ],
        [
         "Action, Thriller",
         "612.0"
        ],
        [
         "Horror",
         "598.0"
        ],
        [
         "Action, Comedy, Crime",
         "474.1"
        ],
        [
         "Comedy, Drama, Family",
         "397.6"
        ],
        [
         "Crime, Drama",
         "393.4"
        ],
        [
         "Drama, Thriller",
         "373.4"
        ],
        [
         "Crime, Drama, Thriller",
         "369.3"
        ],
        [
         "Action, Drama, Thriller",
         "364.0"
        ],
        [
         "Crime, Drama, Mystery",
         "351.6"
        ],
        [
         "Action, Adventure, Drama",
         "339.9"
        ],
        [
         "Comedy, Crime, Drama",
         "338.1"
        ],
        [
         "Musical, Romance",
         "322.3"
        ],
        [
         "Comedy, Drama, Musical",
         "305.0"
        ],
        [
         "Drama, Family, Romance",
         "299.6"
        ],
        [
         "Family",
         "292.6"
        ],
        [
         "Action, Crime, Thriller",
         "284.8"
        ],
        [
         "Fantasy",
         "252.5"
        ],
        [
         "Drama, Romance, Thriller",
         "230.4"
        ],
        [
         "Action, Adventure, Comedy",
         "224.4"
        ],
        [
         "Crime",
         "209.6"
        ],
        [
         "Animation",
         "202.0"
        ],
        [
         "Biography, Drama",
         "198.6"
        ],
        [
         "Drama, Mystery, Thriller",
         "196.3"
        ],
        [
         "Action, Crime",
         "190.2"
        ],
        [
         "Action, Drama, Musical",
         "189.7"
        ],
        [
         "Drama, Musical",
         "188.3"
        ],
        [
         "Mystery, Thriller",
         "187.5"
        ],
        [
         "Mystery",
         "185.2"
        ],
        [
         "Crime, Drama, Romance",
         "180.7"
        ],
        [
         "Action, Romance",
         "174.3"
        ],
        [
         "Drama, Family, Musical",
         "167.2"
        ],
        [
         "Crime, Thriller",
         "163.9"
        ],
        [
         "Action, Comedy",
         "148.4"
        ],
        [
         "Adventure",
         "147.7"
        ]
       ],
       "shape": {
        "columns": 1,
        "rows": 485
       }
      },
      "text/html": [
       "<div>\n",
       "<style scoped>\n",
       "    .dataframe tbody tr th:only-of-type {\n",
       "        vertical-align: middle;\n",
       "    }\n",
       "\n",
       "    .dataframe tbody tr th {\n",
       "        vertical-align: top;\n",
       "    }\n",
       "\n",
       "    .dataframe thead th {\n",
       "        text-align: right;\n",
       "    }\n",
       "</style>\n",
       "<table border=\"1\" class=\"dataframe\">\n",
       "  <thead>\n",
       "    <tr style=\"text-align: right;\">\n",
       "      <th></th>\n",
       "      <th>Rating</th>\n",
       "    </tr>\n",
       "    <tr>\n",
       "      <th>Genre</th>\n",
       "      <th></th>\n",
       "    </tr>\n",
       "  </thead>\n",
       "  <tbody>\n",
       "    <tr>\n",
       "      <th>Drama</th>\n",
       "      <td>7476.4</td>\n",
       "    </tr>\n",
       "    <tr>\n",
       "      <th>Drama, Romance</th>\n",
       "      <td>2642.0</td>\n",
       "    </tr>\n",
       "    <tr>\n",
       "      <th>Action, Crime, Drama</th>\n",
       "      <td>2341.9</td>\n",
       "    </tr>\n",
       "    <tr>\n",
       "      <th>Action</th>\n",
       "      <td>2123.6</td>\n",
       "    </tr>\n",
       "    <tr>\n",
       "      <th>Drama, Family</th>\n",
       "      <td>1818.6</td>\n",
       "    </tr>\n",
       "    <tr>\n",
       "      <th>...</th>\n",
       "      <td>...</td>\n",
       "    </tr>\n",
       "    <tr>\n",
       "      <th>Horror, Musical, Thriller</th>\n",
       "      <td>0.0</td>\n",
       "    </tr>\n",
       "    <tr>\n",
       "      <th>Action, Drama, News</th>\n",
       "      <td>0.0</td>\n",
       "    </tr>\n",
       "    <tr>\n",
       "      <th>Action, Crime, War</th>\n",
       "      <td>0.0</td>\n",
       "    </tr>\n",
       "    <tr>\n",
       "      <th>Animation, Comedy</th>\n",
       "      <td>0.0</td>\n",
       "    </tr>\n",
       "    <tr>\n",
       "      <th>Animation, Drama, Fantasy</th>\n",
       "      <td>0.0</td>\n",
       "    </tr>\n",
       "  </tbody>\n",
       "</table>\n",
       "<p>485 rows × 1 columns</p>\n",
       "</div>"
      ],
      "text/plain": [
       "                           Rating\n",
       "Genre                            \n",
       "Drama                      7476.4\n",
       "Drama, Romance             2642.0\n",
       "Action, Crime, Drama       2341.9\n",
       "Action                     2123.6\n",
       "Drama, Family              1818.6\n",
       "...                           ...\n",
       "Horror, Musical, Thriller     0.0\n",
       "Action, Drama, News           0.0\n",
       "Action, Crime, War            0.0\n",
       "Animation, Comedy             0.0\n",
       "Animation, Drama, Fantasy     0.0\n",
       "\n",
       "[485 rows x 1 columns]"
      ]
     },
     "execution_count": 53,
     "metadata": {},
     "output_type": "execute_result"
    }
   ],
   "source": [
    "df1.groupby('Genre').agg({'Rating':'sum' }).sort_values('Rating', ascending=False)"
   ]
  },
  {
   "cell_type": "code",
   "execution_count": 54,
   "id": "8ea00f6f",
   "metadata": {},
   "outputs": [
    {
     "data": {
      "application/vnd.microsoft.datawrangler.viewer.v0+json": {
       "columns": [
        {
         "name": "Actor 1",
         "rawType": "object",
         "type": "string"
        },
        {
         "name": "Rating",
         "rawType": "float64",
         "type": "float"
        }
       ],
       "ref": "f1d59462-fce1-441c-8647-97a8e39f2760",
       "rows": [
        [
         "Ashok Kumar",
         "804.6"
        ],
        [
         "Dharmendra",
         "769.5"
        ],
        [
         "Rajesh Khanna",
         "752.4"
        ],
        [
         "Jeetendra",
         "742.1"
        ],
        [
         "Amitabh Bachchan",
         "709.4"
        ],
        [
         "Mithun Chakraborty",
         "689.5"
        ],
        [
         "Dev Anand",
         "618.1"
        ],
        [
         "Shashi Kapoor",
         "551.3"
        ],
        [
         "Sanjeev Kumar",
         "456.3"
        ],
        [
         "Akshay Kumar",
         "449.5"
        ],
        [
         "Sanjay Dutt",
         "375.4"
        ],
        [
         "Ajay Devgn",
         "372.6"
        ],
        [
         "Sunil Dutt",
         "371.8"
        ],
        [
         "Rishi Kapoor",
         "349.4"
        ],
        [
         "Shammi Kapoor",
         "348.7"
        ],
        [
         "Anil Kapoor",
         "312.2"
        ],
        [
         "Govinda",
         "310.7"
        ],
        [
         "Vinod Khanna",
         "308.0"
        ],
        [
         "Sunny Deol",
         "296.3"
        ],
        [
         "Shabana Azmi",
         "289.4"
        ],
        [
         "Naseeruddin Shah",
         "283.2"
        ],
        [
         "Jackie Shroff",
         "281.8"
        ],
        [
         "Salman Khan",
         "272.1"
        ],
        [
         "Kishore Kumar",
         "258.2"
        ],
        [
         "Dilip Kumar",
         "252.1"
        ],
        [
         "Shah Rukh Khan",
         "244.4"
        ],
        [
         "Kamal Haasan",
         "239.3"
        ],
        [
         "Raj Kapoor",
         "233.8"
        ],
        [
         "Aamir Khan",
         "233.3"
        ],
        [
         "Shatrughan Sinha",
         "233.3"
        ],
        [
         "Rajendra Kumar",
         "223.6"
        ],
        [
         "Raj Babbar",
         "221.3"
        ],
        [
         "Nargis",
         "198.2"
        ],
        [
         "Manoj Bajpayee",
         "189.6"
        ],
        [
         "Asrani",
         "178.6"
        ],
        [
         "Feroz Khan",
         "177.1"
        ],
        [
         "Meena Kumari",
         "175.2"
        ],
        [
         "Dara Singh",
         "168.8"
        ],
        [
         "Rakhee Gulzar",
         "168.2"
        ],
        [
         "Rajinikanth",
         "167.4"
        ],
        [
         "Mala Sinha",
         "163.3"
        ],
        [
         "Sunil Shetty",
         "161.1"
        ],
        [
         "Nagarjuna Akkineni",
         "160.5"
        ],
        [
         "Rekha",
         "160.4"
        ],
        [
         "Pradeep Kumar",
         "156.3"
        ],
        [
         "Raaj Kumar",
         "154.6"
        ],
        [
         "Madhubala",
         "153.9"
        ],
        [
         "John Abraham",
         "142.9"
        ],
        [
         "Saif Ali Khan",
         "142.9"
        ],
        [
         "Emraan Hashmi",
         "141.0"
        ]
       ],
       "shape": {
        "columns": 1,
        "rows": 4718
       }
      },
      "text/html": [
       "<div>\n",
       "<style scoped>\n",
       "    .dataframe tbody tr th:only-of-type {\n",
       "        vertical-align: middle;\n",
       "    }\n",
       "\n",
       "    .dataframe tbody tr th {\n",
       "        vertical-align: top;\n",
       "    }\n",
       "\n",
       "    .dataframe thead th {\n",
       "        text-align: right;\n",
       "    }\n",
       "</style>\n",
       "<table border=\"1\" class=\"dataframe\">\n",
       "  <thead>\n",
       "    <tr style=\"text-align: right;\">\n",
       "      <th></th>\n",
       "      <th>Rating</th>\n",
       "    </tr>\n",
       "    <tr>\n",
       "      <th>Actor 1</th>\n",
       "      <th></th>\n",
       "    </tr>\n",
       "  </thead>\n",
       "  <tbody>\n",
       "    <tr>\n",
       "      <th>Ashok Kumar</th>\n",
       "      <td>804.6</td>\n",
       "    </tr>\n",
       "    <tr>\n",
       "      <th>Dharmendra</th>\n",
       "      <td>769.5</td>\n",
       "    </tr>\n",
       "    <tr>\n",
       "      <th>Rajesh Khanna</th>\n",
       "      <td>752.4</td>\n",
       "    </tr>\n",
       "    <tr>\n",
       "      <th>Jeetendra</th>\n",
       "      <td>742.1</td>\n",
       "    </tr>\n",
       "    <tr>\n",
       "      <th>Amitabh Bachchan</th>\n",
       "      <td>709.4</td>\n",
       "    </tr>\n",
       "    <tr>\n",
       "      <th>...</th>\n",
       "      <td>...</td>\n",
       "    </tr>\n",
       "    <tr>\n",
       "      <th>Jeeva</th>\n",
       "      <td>0.0</td>\n",
       "    </tr>\n",
       "    <tr>\n",
       "      <th>Jeet Upendra</th>\n",
       "      <td>0.0</td>\n",
       "    </tr>\n",
       "    <tr>\n",
       "      <th>Jeet Goswami</th>\n",
       "      <td>0.0</td>\n",
       "    </tr>\n",
       "    <tr>\n",
       "      <th>Jean Dubrel</th>\n",
       "      <td>0.0</td>\n",
       "    </tr>\n",
       "    <tr>\n",
       "      <th>Udhav Garje</th>\n",
       "      <td>0.0</td>\n",
       "    </tr>\n",
       "  </tbody>\n",
       "</table>\n",
       "<p>4718 rows × 1 columns</p>\n",
       "</div>"
      ],
      "text/plain": [
       "                  Rating\n",
       "Actor 1                 \n",
       "Ashok Kumar        804.6\n",
       "Dharmendra         769.5\n",
       "Rajesh Khanna      752.4\n",
       "Jeetendra          742.1\n",
       "Amitabh Bachchan   709.4\n",
       "...                  ...\n",
       "Jeeva                0.0\n",
       "Jeet Upendra         0.0\n",
       "Jeet Goswami         0.0\n",
       "Jean Dubrel          0.0\n",
       "Udhav Garje          0.0\n",
       "\n",
       "[4718 rows x 1 columns]"
      ]
     },
     "execution_count": 54,
     "metadata": {},
     "output_type": "execute_result"
    }
   ],
   "source": [
    "df1.groupby('Actor 1').agg({'Rating':'sum' }).sort_values('Rating', ascending=False)"
   ]
  },
  {
   "cell_type": "code",
   "execution_count": 55,
   "id": "c6e0bbea",
   "metadata": {},
   "outputs": [
    {
     "data": {
      "application/vnd.microsoft.datawrangler.viewer.v0+json": {
       "columns": [
        {
         "name": "Actor 2",
         "rawType": "object",
         "type": "string"
        },
        {
         "name": "Rating",
         "rawType": "float64",
         "type": "float"
        }
       ],
       "ref": "b39fda44-69f8-48a4-aa87-7290bc875aab",
       "rows": [
        [
         "Rekha",
         "449.5"
        ],
        [
         "Hema Malini",
         "440.1"
        ],
        [
         "Dharmendra",
         "338.3"
        ],
        [
         "Mithun Chakraborty",
         "312.2"
        ],
        [
         "Mala Sinha",
         "275.1"
        ],
        [
         "Sharmila Tagore",
         "270.0"
        ],
        [
         "Shabana Azmi",
         "264.6"
        ],
        [
         "Zeenat Aman",
         "241.6"
        ],
        [
         "Mumtaz",
         "238.2"
        ],
        [
         "Reena Roy",
         "236.0"
        ],
        [
         "Juhi Chawla",
         "233.7"
        ],
        [
         "Sridevi",
         "224.8"
        ],
        [
         "Jaya Prada",
         "219.9"
        ],
        [
         "Waheeda Rehman",
         "218.1"
        ],
        [
         "Vinod Khanna",
         "209.0"
        ],
        [
         "Shatrughan Sinha",
         "200.0"
        ],
        [
         "Saira Banu",
         "198.3"
        ],
        [
         "Sanjeev Kumar",
         "193.9"
        ],
        [
         "Akshay Kumar",
         "192.2"
        ],
        [
         "Meena Kumari",
         "191.1"
        ],
        [
         "Shashi Kapoor",
         "190.2"
        ],
        [
         "Smita Patil",
         "187.5"
        ],
        [
         "Ashok Kumar",
         "185.0"
        ],
        [
         "Jackie Shroff",
         "184.9"
        ],
        [
         "Amitabh Bachchan",
         "180.6"
        ],
        [
         "Dimple Kapadia",
         "177.4"
        ],
        [
         "Raveena Tandon",
         "174.1"
        ],
        [
         "Nutan",
         "173.3"
        ],
        [
         "Raj Babbar",
         "172.9"
        ],
        [
         "Moushumi Chatterjee",
         "170.1"
        ],
        [
         "Asha Parekh",
         "166.4"
        ],
        [
         "Rishi Kapoor",
         "161.8"
        ],
        [
         "Tanuja",
         "160.9"
        ],
        [
         "Naseeruddin Shah",
         "158.7"
        ],
        [
         "Sanjay Dutt",
         "156.7"
        ],
        [
         "Madhuri Dixit",
         "155.5"
        ],
        [
         "Neetu Singh",
         "154.9"
        ],
        [
         "Sunil Shetty",
         "153.1"
        ],
        [
         "Rakhee Gulzar",
         "152.2"
        ],
        [
         "Jeetendra",
         "151.0"
        ],
        [
         "Anil Kapoor",
         "149.3"
        ],
        [
         "Vyjayanthimala",
         "144.6"
        ],
        [
         "Madhubala",
         "141.8"
        ],
        [
         "Jaya Bachchan",
         "140.1"
        ],
        [
         "Tabu",
         "139.7"
        ],
        [
         "Nanda",
         "137.8"
        ],
        [
         "Pradeep Kumar",
         "134.3"
        ],
        [
         "Karisma Kapoor",
         "133.5"
        ],
        [
         "Rani Mukerji",
         "131.8"
        ],
        [
         "Saif Ali Khan",
         "127.9"
        ]
       ],
       "shape": {
        "columns": 1,
        "rows": 4891
       }
      },
      "text/html": [
       "<div>\n",
       "<style scoped>\n",
       "    .dataframe tbody tr th:only-of-type {\n",
       "        vertical-align: middle;\n",
       "    }\n",
       "\n",
       "    .dataframe tbody tr th {\n",
       "        vertical-align: top;\n",
       "    }\n",
       "\n",
       "    .dataframe thead th {\n",
       "        text-align: right;\n",
       "    }\n",
       "</style>\n",
       "<table border=\"1\" class=\"dataframe\">\n",
       "  <thead>\n",
       "    <tr style=\"text-align: right;\">\n",
       "      <th></th>\n",
       "      <th>Rating</th>\n",
       "    </tr>\n",
       "    <tr>\n",
       "      <th>Actor 2</th>\n",
       "      <th></th>\n",
       "    </tr>\n",
       "  </thead>\n",
       "  <tbody>\n",
       "    <tr>\n",
       "      <th>Rekha</th>\n",
       "      <td>449.5</td>\n",
       "    </tr>\n",
       "    <tr>\n",
       "      <th>Hema Malini</th>\n",
       "      <td>440.1</td>\n",
       "    </tr>\n",
       "    <tr>\n",
       "      <th>Dharmendra</th>\n",
       "      <td>338.3</td>\n",
       "    </tr>\n",
       "    <tr>\n",
       "      <th>Mithun Chakraborty</th>\n",
       "      <td>312.2</td>\n",
       "    </tr>\n",
       "    <tr>\n",
       "      <th>Mala Sinha</th>\n",
       "      <td>275.1</td>\n",
       "    </tr>\n",
       "    <tr>\n",
       "      <th>...</th>\n",
       "      <td>...</td>\n",
       "    </tr>\n",
       "    <tr>\n",
       "      <th>Bikramjeet Kanwarpal</th>\n",
       "      <td>0.0</td>\n",
       "    </tr>\n",
       "    <tr>\n",
       "      <th>Nisha</th>\n",
       "      <td>0.0</td>\n",
       "    </tr>\n",
       "    <tr>\n",
       "      <th>Bijou Thaangjam</th>\n",
       "      <td>0.0</td>\n",
       "    </tr>\n",
       "    <tr>\n",
       "      <th>Bose</th>\n",
       "      <td>0.0</td>\n",
       "    </tr>\n",
       "    <tr>\n",
       "      <th>Yusuf Qasmi</th>\n",
       "      <td>0.0</td>\n",
       "    </tr>\n",
       "  </tbody>\n",
       "</table>\n",
       "<p>4891 rows × 1 columns</p>\n",
       "</div>"
      ],
      "text/plain": [
       "                      Rating\n",
       "Actor 2                     \n",
       "Rekha                  449.5\n",
       "Hema Malini            440.1\n",
       "Dharmendra             338.3\n",
       "Mithun Chakraborty     312.2\n",
       "Mala Sinha             275.1\n",
       "...                      ...\n",
       "Bikramjeet Kanwarpal     0.0\n",
       "Nisha                    0.0\n",
       "Bijou Thaangjam          0.0\n",
       "Bose                     0.0\n",
       "Yusuf Qasmi              0.0\n",
       "\n",
       "[4891 rows x 1 columns]"
      ]
     },
     "execution_count": 55,
     "metadata": {},
     "output_type": "execute_result"
    }
   ],
   "source": [
    "df1.groupby('Actor 2').agg({'Rating':'sum' }).sort_values('Rating', ascending=False)"
   ]
  },
  {
   "cell_type": "code",
   "execution_count": 56,
   "id": "2c07ffb8",
   "metadata": {},
   "outputs": [
    {
     "data": {
      "application/vnd.microsoft.datawrangler.viewer.v0+json": {
       "columns": [
        {
         "name": "Actor 3",
         "rawType": "object",
         "type": "string"
        },
        {
         "name": "Rating",
         "rawType": "float64",
         "type": "float"
        }
       ],
       "ref": "70ccafcb-e719-4073-a7e2-501834a5826c",
       "rows": [
        [
         "Pran",
         "479.9"
        ],
        [
         "Anupam Kher",
         "301.4"
        ],
        [
         "Prem Chopra",
         "273.5"
        ],
        [
         "Shatrughan Sinha",
         "246.3"
        ],
        [
         "Shakti Kapoor",
         "240.6"
        ],
        [
         "Mithun Chakraborty",
         "234.0"
        ],
        [
         "Raj Babbar",
         "222.7"
        ],
        [
         "Amrish Puri",
         "221.5"
        ],
        [
         "Asrani",
         "196.9"
        ],
        [
         "Aruna Irani",
         "196.6"
        ],
        [
         "Paresh Rawal",
         "192.1"
        ],
        [
         "Danny Denzongpa",
         "184.3"
        ],
        [
         "Vinod Mehra",
         "180.8"
        ],
        [
         "Om Puri",
         "172.7"
        ],
        [
         "Johnny Walker",
         "171.9"
        ],
        [
         "Naseeruddin Shah",
         "160.7"
        ],
        [
         "Mehmood",
         "159.9"
        ],
        [
         "Jeevan",
         "156.7"
        ],
        [
         "Rekha",
         "153.4"
        ],
        [
         "Ajit",
         "152.9"
        ],
        [
         "Balraj Sahni",
         "152.5"
        ],
        [
         "Dharmendra",
         "146.3"
        ],
        [
         "Rakesh Roshan",
         "144.7"
        ],
        [
         "Gulshan Grover",
         "140.4"
        ],
        [
         "Nirupa Roy",
         "139.4"
        ],
        [
         "Om Prakash",
         "139.2"
        ],
        [
         "Shashikala",
         "139.0"
        ],
        [
         "Rishi Kapoor",
         "137.4"
        ],
        [
         "Amjad Khan",
         "135.4"
        ],
        [
         "Ashok Kumar",
         "135.1"
        ],
        [
         "Shabana Azmi",
         "129.4"
        ],
        [
         "Kader Khan",
         "124.9"
        ],
        [
         "Bindu",
         "123.0"
        ],
        [
         "Jackie Shroff",
         "122.7"
        ],
        [
         "Reena Roy",
         "122.0"
        ],
        [
         "Hema Malini",
         "121.3"
        ],
        [
         "Moushumi Chatterjee",
         "121.3"
        ],
        [
         "Prem Nath",
         "121.0"
        ],
        [
         "Sujit Kumar",
         "120.7"
        ],
        [
         "Nasir Hussain",
         "120.4"
        ],
        [
         "Amitabh Bachchan",
         "120.2"
        ],
        [
         "I.S. Johar",
         "117.0"
        ],
        [
         "K.N. Singh",
         "114.2"
        ],
        [
         "Rehman",
         "113.3"
        ],
        [
         "Vinod Khanna",
         "112.8"
        ],
        [
         "Govinda",
         "112.6"
        ],
        [
         "Zeenat Aman",
         "111.8"
        ],
        [
         "Raj Kiran",
         "107.7"
        ],
        [
         "Agha",
         "106.9"
        ],
        [
         "Rajendranath Malhotra",
         "106.4"
        ]
       ],
       "shape": {
        "columns": 1,
        "rows": 4820
       }
      },
      "text/html": [
       "<div>\n",
       "<style scoped>\n",
       "    .dataframe tbody tr th:only-of-type {\n",
       "        vertical-align: middle;\n",
       "    }\n",
       "\n",
       "    .dataframe tbody tr th {\n",
       "        vertical-align: top;\n",
       "    }\n",
       "\n",
       "    .dataframe thead th {\n",
       "        text-align: right;\n",
       "    }\n",
       "</style>\n",
       "<table border=\"1\" class=\"dataframe\">\n",
       "  <thead>\n",
       "    <tr style=\"text-align: right;\">\n",
       "      <th></th>\n",
       "      <th>Rating</th>\n",
       "    </tr>\n",
       "    <tr>\n",
       "      <th>Actor 3</th>\n",
       "      <th></th>\n",
       "    </tr>\n",
       "  </thead>\n",
       "  <tbody>\n",
       "    <tr>\n",
       "      <th>Pran</th>\n",
       "      <td>479.9</td>\n",
       "    </tr>\n",
       "    <tr>\n",
       "      <th>Anupam Kher</th>\n",
       "      <td>301.4</td>\n",
       "    </tr>\n",
       "    <tr>\n",
       "      <th>Prem Chopra</th>\n",
       "      <td>273.5</td>\n",
       "    </tr>\n",
       "    <tr>\n",
       "      <th>Shatrughan Sinha</th>\n",
       "      <td>246.3</td>\n",
       "    </tr>\n",
       "    <tr>\n",
       "      <th>Shakti Kapoor</th>\n",
       "      <td>240.6</td>\n",
       "    </tr>\n",
       "    <tr>\n",
       "      <th>...</th>\n",
       "      <td>...</td>\n",
       "    </tr>\n",
       "    <tr>\n",
       "      <th>Yogita Rajput</th>\n",
       "      <td>0.0</td>\n",
       "    </tr>\n",
       "    <tr>\n",
       "      <th>Anjan Dutt</th>\n",
       "      <td>0.0</td>\n",
       "    </tr>\n",
       "    <tr>\n",
       "      <th>Anji Naidu-Khan</th>\n",
       "      <td>0.0</td>\n",
       "    </tr>\n",
       "    <tr>\n",
       "      <th>Anju Sanjeev</th>\n",
       "      <td>0.0</td>\n",
       "    </tr>\n",
       "    <tr>\n",
       "      <th>Antra Raut</th>\n",
       "      <td>0.0</td>\n",
       "    </tr>\n",
       "  </tbody>\n",
       "</table>\n",
       "<p>4820 rows × 1 columns</p>\n",
       "</div>"
      ],
      "text/plain": [
       "                  Rating\n",
       "Actor 3                 \n",
       "Pran               479.9\n",
       "Anupam Kher        301.4\n",
       "Prem Chopra        273.5\n",
       "Shatrughan Sinha   246.3\n",
       "Shakti Kapoor      240.6\n",
       "...                  ...\n",
       "Yogita Rajput        0.0\n",
       "Anjan Dutt           0.0\n",
       "Anji Naidu-Khan      0.0\n",
       "Anju Sanjeev         0.0\n",
       "Antra Raut           0.0\n",
       "\n",
       "[4820 rows x 1 columns]"
      ]
     },
     "execution_count": 56,
     "metadata": {},
     "output_type": "execute_result"
    }
   ],
   "source": [
    "df1.groupby('Actor 3').agg({'Rating':'sum' }).sort_values('Rating', ascending=False)"
   ]
  },
  {
   "cell_type": "code",
   "execution_count": 57,
   "id": "b7880a3b",
   "metadata": {},
   "outputs": [
    {
     "data": {
      "application/vnd.microsoft.datawrangler.viewer.v0+json": {
       "columns": [
        {
         "name": "Director",
         "rawType": "object",
         "type": "string"
        },
        {
         "name": "Rating",
         "rawType": "float64",
         "type": "float"
        }
       ],
       "ref": "412664bd-2c41-4c8f-b8cd-88fff9d2580a",
       "rows": [
        [
         "Hrishikesh Mukherjee",
         "298.3"
        ],
        [
         "Shakti Samanta",
         "259.1"
        ],
        [
         "Mahesh Bhatt",
         "254.5"
        ],
        [
         "Basu Chatterjee",
         "225.9"
        ],
        [
         "David Dhawan",
         "223.3"
        ],
        [
         "Priyadarshan",
         "191.9"
        ],
        [
         "Kanti Shah",
         "189.9"
        ],
        [
         "Ram Gopal Varma",
         "186.7"
        ],
        [
         "Rama Rao Tatineni",
         "182.9"
        ],
        [
         "Shantaram Rajaram Vankudre",
         "179.1"
        ],
        [
         "K. Raghavendra Rao",
         "172.8"
        ],
        [
         "Shibu Mitra",
         "170.8"
        ],
        [
         "Satyen Bose",
         "167.7"
        ],
        [
         "Raj Khosla",
         "167.6"
        ],
        [
         "Raj N. Sippy",
         "164.2"
        ],
        [
         "K. Bapaiah",
         "163.6"
        ],
        [
         "Harmesh Malhotra",
         "160.6"
        ],
        [
         "Shyam Benegal",
         "159.5"
        ],
        [
         "Vikram Bhatt",
         "159.5"
        ],
        [
         "Babubhai Mistry",
         "157.7"
        ],
        [
         "Yash Chopra",
         "153.4"
        ],
        [
         "Gulzar",
         "142.9"
        ],
        [
         "Manmohan Desai",
         "142.2"
        ],
        [
         "Shyam Ramsay",
         "135.9"
        ],
        [
         "Ravikant Nagaich",
         "132.6"
        ],
        [
         "Prakash Mehra",
         "130.8"
        ],
        [
         "T.L.V. Prasad",
         "129.5"
        ],
        [
         "B.R. Ishara",
         "125.5"
        ],
        [
         "Subhash Ghai",
         "124.5"
        ],
        [
         "Chetan Anand",
         "119.0"
        ],
        [
         "B.R. Chopra",
         "117.8"
        ],
        [
         "Ravi Tandon",
         "116.8"
        ],
        [
         "Bimal Roy",
         "116.7"
        ],
        [
         "Brij",
         "116.7"
        ],
        [
         "Kedar Kapoor",
         "116.5"
        ],
        [
         "A. Bhimsingh",
         "115.2"
        ],
        [
         "Vijay Anand",
         "113.5"
        ],
        [
         "Pramod Chakravorty",
         "113.5"
        ],
        [
         "Mahesh Manjrekar",
         "111.3"
        ],
        [
         "Mohan Segal",
         "109.8"
        ],
        [
         "Dev Anand",
         "106.6"
        ],
        [
         "J. Om Prakash",
         "104.4"
        ],
        [
         "Abbas Alibhai Burmawalla",
         "104.0"
        ],
        [
         "Saawan Kumar Tak",
         "103.8"
        ],
        [
         "Anurag Kashyap",
         "103.4"
        ],
        [
         "Abdul Rashid Kardar",
         "102.5"
        ],
        [
         "Prakash Jha",
         "102.0"
        ],
        [
         "Mehboob Khan",
         "101.8"
        ],
        [
         "Dulal Guha",
         "98.9"
        ],
        [
         "T. Prakash Rao",
         "98.7"
        ]
       ],
       "shape": {
        "columns": 1,
        "rows": 5938
       }
      },
      "text/html": [
       "<div>\n",
       "<style scoped>\n",
       "    .dataframe tbody tr th:only-of-type {\n",
       "        vertical-align: middle;\n",
       "    }\n",
       "\n",
       "    .dataframe tbody tr th {\n",
       "        vertical-align: top;\n",
       "    }\n",
       "\n",
       "    .dataframe thead th {\n",
       "        text-align: right;\n",
       "    }\n",
       "</style>\n",
       "<table border=\"1\" class=\"dataframe\">\n",
       "  <thead>\n",
       "    <tr style=\"text-align: right;\">\n",
       "      <th></th>\n",
       "      <th>Rating</th>\n",
       "    </tr>\n",
       "    <tr>\n",
       "      <th>Director</th>\n",
       "      <th></th>\n",
       "    </tr>\n",
       "  </thead>\n",
       "  <tbody>\n",
       "    <tr>\n",
       "      <th>Hrishikesh Mukherjee</th>\n",
       "      <td>298.3</td>\n",
       "    </tr>\n",
       "    <tr>\n",
       "      <th>Shakti Samanta</th>\n",
       "      <td>259.1</td>\n",
       "    </tr>\n",
       "    <tr>\n",
       "      <th>Mahesh Bhatt</th>\n",
       "      <td>254.5</td>\n",
       "    </tr>\n",
       "    <tr>\n",
       "      <th>Basu Chatterjee</th>\n",
       "      <td>225.9</td>\n",
       "    </tr>\n",
       "    <tr>\n",
       "      <th>David Dhawan</th>\n",
       "      <td>223.3</td>\n",
       "    </tr>\n",
       "    <tr>\n",
       "      <th>...</th>\n",
       "      <td>...</td>\n",
       "    </tr>\n",
       "    <tr>\n",
       "      <th>Zahid Ali</th>\n",
       "      <td>0.0</td>\n",
       "    </tr>\n",
       "    <tr>\n",
       "      <th>Zahur Raja</th>\n",
       "      <td>0.0</td>\n",
       "    </tr>\n",
       "    <tr>\n",
       "      <th>Jehanara Kajjan</th>\n",
       "      <td>0.0</td>\n",
       "    </tr>\n",
       "    <tr>\n",
       "      <th>Manno Desai</th>\n",
       "      <td>0.0</td>\n",
       "    </tr>\n",
       "    <tr>\n",
       "      <th>A. Zahoor</th>\n",
       "      <td>0.0</td>\n",
       "    </tr>\n",
       "  </tbody>\n",
       "</table>\n",
       "<p>5938 rows × 1 columns</p>\n",
       "</div>"
      ],
      "text/plain": [
       "                      Rating\n",
       "Director                    \n",
       "Hrishikesh Mukherjee   298.3\n",
       "Shakti Samanta         259.1\n",
       "Mahesh Bhatt           254.5\n",
       "Basu Chatterjee        225.9\n",
       "David Dhawan           223.3\n",
       "...                      ...\n",
       "Zahid Ali                0.0\n",
       "Zahur Raja               0.0\n",
       "Jehanara Kajjan          0.0\n",
       "Manno Desai              0.0\n",
       "A. Zahoor                0.0\n",
       "\n",
       "[5938 rows x 1 columns]"
      ]
     },
     "execution_count": 57,
     "metadata": {},
     "output_type": "execute_result"
    }
   ],
   "source": [
    "df1.groupby('Director').agg({'Rating':'sum' }).sort_values('Rating', ascending=False)"
   ]
  },
  {
   "cell_type": "code",
   "execution_count": 58,
   "id": "e8250dec",
   "metadata": {},
   "outputs": [
    {
     "data": {
      "application/vnd.microsoft.datawrangler.viewer.v0+json": {
       "columns": [
        {
         "name": "index",
         "rawType": "int64",
         "type": "integer"
        },
        {
         "name": "Name",
         "rawType": "object",
         "type": "string"
        },
        {
         "name": "Year",
         "rawType": "datetime64[ns]",
         "type": "datetime"
        },
        {
         "name": "Duration",
         "rawType": "object",
         "type": "unknown"
        },
        {
         "name": "Genre",
         "rawType": "object",
         "type": "string"
        },
        {
         "name": "Rating",
         "rawType": "float64",
         "type": "float"
        },
        {
         "name": "Votes",
         "rawType": "object",
         "type": "string"
        },
        {
         "name": "Director",
         "rawType": "object",
         "type": "string"
        },
        {
         "name": "Actor 1",
         "rawType": "object",
         "type": "string"
        },
        {
         "name": "Actor 2",
         "rawType": "object",
         "type": "string"
        },
        {
         "name": "Actor 3",
         "rawType": "object",
         "type": "string"
        }
       ],
       "ref": "60db2045-42ac-4904-a192-1b28641ec1cb",
       "rows": [
        [
         "1",
         "#Gadhvi (He thought he was Gandhi)",
         null,
         "109 min",
         "Drama",
         "7.0",
         "8",
         "Gaurav Bakshi",
         "Rasika Dugal",
         "Vivek Ghamande",
         "Arvind Jangid"
        ],
        [
         "3",
         "#Yaaram",
         null,
         "110 min",
         "Comedy, Romance",
         "4.4",
         "35",
         "Ovais Khan",
         "Prateik",
         "Ishita Raj",
         "Siddhant Kapoor"
        ],
        [
         "5",
         "...Aur Pyaar Ho Gaya",
         null,
         "147 min",
         "Comedy, Drama, Musical",
         "4.7",
         "827",
         "Rahul Rawail",
         "Bobby Deol",
         "Aishwarya Rai Bachchan",
         "Shammi Kapoor"
        ],
        [
         "6",
         "...Yahaan",
         null,
         "142 min",
         "Drama, Romance, War",
         "7.4",
         "1,086",
         "Shoojit Sircar",
         "Jimmy Sheirgill",
         "Minissha Lamba",
         "Yashpal Sharma"
        ],
        [
         "8",
         "?: A Question Mark",
         null,
         "82 min",
         "Horror, Mystery, Thriller",
         "5.6",
         "326",
         "Allyson Patel",
         "Yash Dave",
         "Muntazir Ahmad",
         "Kiran Bhatia"
        ],
        [
         "9",
         "@Andheri",
         null,
         "116 min",
         "Action, Crime, Thriller",
         "4.0",
         "11",
         "Biju Bhaskar Nair",
         "Augustine",
         "Fathima Babu",
         "Byon"
        ],
        [
         "10",
         "1:1.6 An Ode to Lost Love",
         null,
         "96 min",
         "Drama",
         "6.2",
         "17",
         "Madhu Ambat",
         "Rati Agnihotri",
         "Gulshan Grover",
         "Atul Kulkarni"
        ],
        [
         "11",
         "1:13:7 Ek Tera Saath",
         null,
         "120 min",
         "Horror",
         "5.9",
         "59",
         "Arshad Siddiqui",
         "Pankaj Berry",
         "Anubhav Dhir",
         "Hritu Dudani"
        ],
        [
         "12",
         "100 Days",
         null,
         "161 min",
         "Horror, Romance, Thriller",
         "6.5",
         "983",
         "Partho Ghosh",
         "Jackie Shroff",
         "Madhuri Dixit",
         "Javed Jaffrey"
        ],
        [
         "13",
         "100% Love",
         null,
         "166 min",
         "Comedy, Drama, Romance",
         "5.7",
         "512",
         "Rabi Kinagi",
         "Jeet",
         "Koyel Mallick",
         "Sujoy Ghosh"
        ],
        [
         "15",
         "102 Not Out",
         null,
         "102 min",
         "Comedy, Drama",
         "7.4",
         "6,619",
         "Umesh Shukla",
         "Amitabh Bachchan",
         "Rishi Kapoor",
         "Vijay Raaz"
        ],
        [
         "18",
         "10ml LOVE",
         null,
         "87 min",
         "Comedy, Drama, Romance",
         "6.3",
         "162",
         "Sharat Katariya",
         "Neil Bhoopalam",
         "Anusha Bose",
         "Manu Rishi Chadha"
        ],
        [
         "21",
         "12 O'Clock",
         null,
         "132 min",
         "Crime, Drama, Mystery",
         "7.2",
         "72",
         "Pramod Chakravorty",
         "Guru Dutt",
         "Waheeda Rehman",
         "Shashikala"
        ],
        [
         "22",
         "12 O'Clock",
         null,
         "105 min",
         "Horror, Thriller",
         "4.4",
         "63",
         "Ram Gopal Varma",
         "Mithun Chakraborty",
         "Makrand Deshpande",
         "Dalip Tahil"
        ],
        [
         "25",
         "127 B",
         null,
         "116 min",
         "Comedy, Horror",
         "6.6",
         "26",
         "Seshu Kmr",
         "Mast Ali",
         "Aziz Naser",
         "Heena Shaik"
        ],
        [
         "28",
         "13B: Fear Has a New Address",
         null,
         "146 min",
         "Drama, Horror, Mystery",
         "7.3",
         "6,329",
         "Vikram K. Kumar",
         "Madhavan",
         "Neetu Chandra",
         "Poonam Dhillon"
        ],
        [
         "30",
         "15 Park Avenue",
         null,
         "116 min",
         "Drama",
         "7.1",
         "1,002",
         "Aparna Sen",
         "Shabana Azmi",
         "Konkona Sen Sharma",
         "Rahul Bose"
        ],
        [
         "32",
         "15th August",
         null,
         "168 min",
         "Drama",
         "5.6",
         "15",
         "Vicky Ranawat",
         "Ronit Roy",
         "Tisca Chopra",
         "Shakti Kapoor"
        ],
        [
         "33",
         "16 December",
         null,
         "158 min",
         "Action, Thriller",
         "6.9",
         "1,235",
         "Mani Shankar",
         "Milind Soman",
         "Danny Denzongpa",
         "Gulshan Grover"
        ],
        [
         "34",
         "18.11",
         null,
         "126 min",
         "Action",
         "3.5",
         "10",
         "Mohibul Haque",
         "Rehal Khan",
         "Gulshan Grover",
         "Mukesh Tiwari"
        ],
        [
         "35",
         "1857",
         null,
         null,
         "Drama, History",
         "5.0",
         "8",
         "Mohan Sinha",
         "Nigar Sultana",
         "Suraiya",
         "Menaka Devi"
        ],
        [
         "36",
         "19 Revolutions",
         null,
         "94 min",
         "Drama",
         "4.5",
         "16",
         "Sridhar Reddy",
         "Tarun Arora",
         "Gulshan Grover",
         "Vinay Pandey"
        ],
        [
         "38",
         "1920",
         null,
         "138 min",
         "Horror, Mystery, Romance",
         "6.4",
         "3,100",
         "Vikram Bhatt",
         "Rajniesh Duggall",
         "Adah Sharma",
         "Anjori Alagh"
        ],
        [
         "39",
         "1920 London",
         null,
         "120 min",
         "Horror, Mystery",
         "4.1",
         "1,559",
         "Dharmendra Suresh Desai",
         "Sharman Joshi",
         "Meera Chopra",
         "Vishal Karwal"
        ],
        [
         "40",
         "1920: Evil Returns",
         null,
         "124 min",
         "Drama, Horror, Romance",
         "4.8",
         "1,811",
         "Bhushan Patel",
         "Vicky Ahuja",
         "Tia Bajpai",
         "Tarakesh Chauhan"
        ],
        [
         "41",
         "1921",
         null,
         "144 min",
         "Horror, Mystery, Romance",
         "4.5",
         "1,069",
         "Vikram Bhatt",
         "Zareen Khan",
         "Karan Kundra",
         "Vikram Bhatt"
        ],
        [
         "42",
         "1942: A Love Story",
         null,
         "157 min",
         "Action, Drama, History",
         "7.2",
         "3,223",
         "Vidhu Vinod Chopra",
         "Anil Kapoor",
         "Jackie Shroff",
         "Manisha Koirala"
        ],
        [
         "43",
         "1971",
         null,
         "136 min",
         "Action, Drama, War",
         "8.1",
         "1,892",
         "Amrit Sagar",
         "Manoj Bajpayee",
         "Ravi Kishan",
         "Deepak Dobriyal"
        ],
        [
         "44",
         "1978: A Teen Night Out",
         null,
         "107 min",
         "Thriller",
         "4.0",
         "20",
         "Aziz Zee",
         "Abuzar Akhtar",
         "Apurva Godbole",
         "Vaishnavi Kadam"
        ],
        [
         "45",
         "1982 - A Love Marriage",
         null,
         "113 min",
         "Comedy",
         "5.5",
         "106",
         "Prashant Gore",
         "Amitkumar Sharma",
         "Omna",
         "Rita Agarwal"
        ],
        [
         "46",
         "19th January",
         null,
         null,
         "Drama",
         "7.3",
         "16",
         "Sanjay Amar",
         "Mumtaz Ahmed",
         "Bidita Bag",
         "Madhuri Bhatia"
        ],
        [
         "49",
         "2 Little Indians",
         null,
         null,
         "Comedy, Family",
         "5.6",
         "14",
         "Ravi Bhatia",
         "Ravi Bhatia",
         "Ronak Bhatia",
         "Kamal Chopra"
        ],
        [
         "50",
         "2 Nights in Soul Valley",
         null,
         "80 min",
         "Adventure, Horror, Mystery",
         "6.8",
         "21",
         "Harish Sharma",
         "Hemant Pandey",
         "Sumeet Sharma",
         "Sumeet Sharma"
        ],
        [
         "51",
         "2 October",
         null,
         "122 min",
         "Action, Crime, Thriller",
         "5.0",
         "33",
         "Sunil Tiwari",
         "Ashutosh Rana",
         "Rocky Verma",
         "Saadhika"
        ],
        [
         "53",
         "2 States",
         null,
         "149 min",
         "Comedy, Drama, Romance",
         "6.9",
         "24,034",
         "Abhishek Varman",
         "Arjun Kapoor",
         "Alia Bhatt",
         "Amrita Singh"
        ],
        [
         "54",
         "2.0",
         null,
         "148 min",
         "Action, Sci-Fi",
         "6.2",
         "21,938",
         "S. Shankar",
         "Rajinikanth",
         "Akshay Kumar",
         "Amy Jackson"
        ],
        [
         "55",
         "2001: Do Hazaar Ek",
         null,
         "149 min",
         "Crime, Mystery, Thriller",
         "3.5",
         "112",
         "Raj N. Sippy",
         "Jackie Shroff",
         "Dimple Kapadia",
         "Tabu"
        ],
        [
         "58",
         "2016 the End",
         null,
         "130 min",
         "Comedy",
         "6.1",
         "94",
         "Jaideep Chopra",
         "Divyendu Sharma",
         "Kiku Sharda",
         "Harshad Chopda"
        ],
        [
         "60",
         "22 Days",
         null,
         "124 min",
         "Thriller",
         "6.1",
         "8",
         "Shivam Tiwari",
         "Rahul Dev",
         "Shivam Tiwari",
         "Sophia Singh"
        ],
        [
         "61",
         "22 June 1897",
         null,
         "121 min",
         "Drama, History",
         "7.7",
         "52",
         "Jayoo Patwardhan",
         "Nachiket Patwardhan",
         "Sadashiv Amrapurkar",
         "Udayan Dixit"
        ],
        [
         "62",
         "22 Yards",
         null,
         "126 min",
         "Sport",
         "6.1",
         "361",
         "Mitali Ghoshal",
         "Barun Sobti",
         "Amartya Ray",
         "Rajit Kapoor"
        ],
        [
         "63",
         "23rd March 1931: Shaheed",
         null,
         "188 min",
         "Biography, Drama, History",
         "5.1",
         "642",
         "Guddu Dhanoa",
         "Bobby Deol",
         "Sunny Deol",
         "Amrita Singh"
        ],
        [
         "68",
         "26th July at Barista",
         null,
         null,
         "Drama",
         "3.1",
         "32",
         "Mohan Sharma",
         "Ajita",
         "Himani Chawla",
         "Sumeet Chawla"
        ],
        [
         "69",
         "27 Down",
         null,
         "115 min",
         "Drama",
         "6.9",
         "194",
         "Awtar Krishna Kaul",
         "Sudhir Dalvi",
         "Rakhee Gulzar",
         "Sadhu Meher"
        ],
        [
         "70",
         "3 AM: A Paranormal Experience",
         null,
         "103 min",
         "Horror, Romance",
         "5.0",
         "514",
         "Vishal Mahadkar",
         "Salil Acharya",
         "Kavin Dave",
         "Jason Matthew Ethier"
        ],
        [
         "71",
         "3 Bachelors",
         null,
         "114 min",
         "Comedy, Romance",
         "3.3",
         "165",
         "Ajai Sinha",
         "Sharman Joshi",
         "Negar Khan",
         "Nigaar Khan"
        ],
        [
         "73",
         "3 Deewarein",
         null,
         "115 min",
         "Crime, Drama",
         "7.8",
         "2,322",
         "Nagesh Kukunoor",
         "Naseeruddin Shah",
         "Jackie Shroff",
         "Juhi Chawla"
        ],
        [
         "74",
         "3 Dev",
         null,
         "122 min",
         "Comedy",
         "6.9",
         "35",
         "Ankush Bhatt",
         "Karan Singh Grover",
         "Ravi Dubey",
         "Kunaal Roy Kapur"
        ],
        [
         "75",
         "3 Idiots",
         null,
         "170 min",
         "Comedy, Drama",
         "8.4",
         "357,889",
         "Rajkumar Hirani",
         "Aamir Khan",
         "Madhavan",
         "Mona Singh"
        ],
        [
         "76",
         "3 Nights 4 Days",
         null,
         null,
         "Drama, Romance",
         "5.2",
         "23",
         "Devang Dholakia",
         "Sameer Aftab",
         "Hrishitaa Bhatt",
         "Anuj Sahani"
        ]
       ],
       "shape": {
        "columns": 10,
        "rows": 7558
       }
      },
      "text/html": [
       "<div>\n",
       "<style scoped>\n",
       "    .dataframe tbody tr th:only-of-type {\n",
       "        vertical-align: middle;\n",
       "    }\n",
       "\n",
       "    .dataframe tbody tr th {\n",
       "        vertical-align: top;\n",
       "    }\n",
       "\n",
       "    .dataframe thead th {\n",
       "        text-align: right;\n",
       "    }\n",
       "</style>\n",
       "<table border=\"1\" class=\"dataframe\">\n",
       "  <thead>\n",
       "    <tr style=\"text-align: right;\">\n",
       "      <th></th>\n",
       "      <th>Name</th>\n",
       "      <th>Year</th>\n",
       "      <th>Duration</th>\n",
       "      <th>Genre</th>\n",
       "      <th>Rating</th>\n",
       "      <th>Votes</th>\n",
       "      <th>Director</th>\n",
       "      <th>Actor 1</th>\n",
       "      <th>Actor 2</th>\n",
       "      <th>Actor 3</th>\n",
       "    </tr>\n",
       "  </thead>\n",
       "  <tbody>\n",
       "    <tr>\n",
       "      <th>1</th>\n",
       "      <td>#Gadhvi (He thought he was Gandhi)</td>\n",
       "      <td>NaT</td>\n",
       "      <td>109 min</td>\n",
       "      <td>Drama</td>\n",
       "      <td>7.0</td>\n",
       "      <td>8</td>\n",
       "      <td>Gaurav Bakshi</td>\n",
       "      <td>Rasika Dugal</td>\n",
       "      <td>Vivek Ghamande</td>\n",
       "      <td>Arvind Jangid</td>\n",
       "    </tr>\n",
       "    <tr>\n",
       "      <th>3</th>\n",
       "      <td>#Yaaram</td>\n",
       "      <td>NaT</td>\n",
       "      <td>110 min</td>\n",
       "      <td>Comedy, Romance</td>\n",
       "      <td>4.4</td>\n",
       "      <td>35</td>\n",
       "      <td>Ovais Khan</td>\n",
       "      <td>Prateik</td>\n",
       "      <td>Ishita Raj</td>\n",
       "      <td>Siddhant Kapoor</td>\n",
       "    </tr>\n",
       "    <tr>\n",
       "      <th>5</th>\n",
       "      <td>...Aur Pyaar Ho Gaya</td>\n",
       "      <td>NaT</td>\n",
       "      <td>147 min</td>\n",
       "      <td>Comedy, Drama, Musical</td>\n",
       "      <td>4.7</td>\n",
       "      <td>827</td>\n",
       "      <td>Rahul Rawail</td>\n",
       "      <td>Bobby Deol</td>\n",
       "      <td>Aishwarya Rai Bachchan</td>\n",
       "      <td>Shammi Kapoor</td>\n",
       "    </tr>\n",
       "    <tr>\n",
       "      <th>6</th>\n",
       "      <td>...Yahaan</td>\n",
       "      <td>NaT</td>\n",
       "      <td>142 min</td>\n",
       "      <td>Drama, Romance, War</td>\n",
       "      <td>7.4</td>\n",
       "      <td>1,086</td>\n",
       "      <td>Shoojit Sircar</td>\n",
       "      <td>Jimmy Sheirgill</td>\n",
       "      <td>Minissha Lamba</td>\n",
       "      <td>Yashpal Sharma</td>\n",
       "    </tr>\n",
       "    <tr>\n",
       "      <th>8</th>\n",
       "      <td>?: A Question Mark</td>\n",
       "      <td>NaT</td>\n",
       "      <td>82 min</td>\n",
       "      <td>Horror, Mystery, Thriller</td>\n",
       "      <td>5.6</td>\n",
       "      <td>326</td>\n",
       "      <td>Allyson Patel</td>\n",
       "      <td>Yash Dave</td>\n",
       "      <td>Muntazir Ahmad</td>\n",
       "      <td>Kiran Bhatia</td>\n",
       "    </tr>\n",
       "    <tr>\n",
       "      <th>...</th>\n",
       "      <td>...</td>\n",
       "      <td>...</td>\n",
       "      <td>...</td>\n",
       "      <td>...</td>\n",
       "      <td>...</td>\n",
       "      <td>...</td>\n",
       "      <td>...</td>\n",
       "      <td>...</td>\n",
       "      <td>...</td>\n",
       "      <td>...</td>\n",
       "    </tr>\n",
       "    <tr>\n",
       "      <th>15501</th>\n",
       "      <td>Zulm Ki Hukumat</td>\n",
       "      <td>NaT</td>\n",
       "      <td>NaN</td>\n",
       "      <td>Action, Crime, Drama</td>\n",
       "      <td>5.3</td>\n",
       "      <td>135</td>\n",
       "      <td>Bharat Rangachary</td>\n",
       "      <td>Dharmendra</td>\n",
       "      <td>Moushumi Chatterjee</td>\n",
       "      <td>Govinda</td>\n",
       "    </tr>\n",
       "    <tr>\n",
       "      <th>15503</th>\n",
       "      <td>Zulm Ki Zanjeer</td>\n",
       "      <td>NaT</td>\n",
       "      <td>125 min</td>\n",
       "      <td>Action, Crime, Drama</td>\n",
       "      <td>5.8</td>\n",
       "      <td>44</td>\n",
       "      <td>S.P. Muthuraman</td>\n",
       "      <td>Chiranjeevi</td>\n",
       "      <td>Jayamalini</td>\n",
       "      <td>Rajinikanth</td>\n",
       "    </tr>\n",
       "    <tr>\n",
       "      <th>15504</th>\n",
       "      <td>Zulm Ko Jala Doonga</td>\n",
       "      <td>NaT</td>\n",
       "      <td>NaN</td>\n",
       "      <td>Action</td>\n",
       "      <td>4.6</td>\n",
       "      <td>11</td>\n",
       "      <td>Mahendra Shah</td>\n",
       "      <td>Naseeruddin Shah</td>\n",
       "      <td>Sumeet Saigal</td>\n",
       "      <td>Suparna Anand</td>\n",
       "    </tr>\n",
       "    <tr>\n",
       "      <th>15505</th>\n",
       "      <td>Zulmi</td>\n",
       "      <td>NaT</td>\n",
       "      <td>129 min</td>\n",
       "      <td>Action, Drama</td>\n",
       "      <td>4.5</td>\n",
       "      <td>655</td>\n",
       "      <td>Kuku Kohli</td>\n",
       "      <td>Akshay Kumar</td>\n",
       "      <td>Twinkle Khanna</td>\n",
       "      <td>Aruna Irani</td>\n",
       "    </tr>\n",
       "    <tr>\n",
       "      <th>15508</th>\n",
       "      <td>Zulm-O-Sitam</td>\n",
       "      <td>NaT</td>\n",
       "      <td>130 min</td>\n",
       "      <td>Action, Drama</td>\n",
       "      <td>6.2</td>\n",
       "      <td>20</td>\n",
       "      <td>K.C. Bokadia</td>\n",
       "      <td>Dharmendra</td>\n",
       "      <td>Jaya Prada</td>\n",
       "      <td>Arjun Sarja</td>\n",
       "    </tr>\n",
       "  </tbody>\n",
       "</table>\n",
       "<p>7558 rows × 10 columns</p>\n",
       "</div>"
      ],
      "text/plain": [
       "                                     Name Year Duration  \\\n",
       "1      #Gadhvi (He thought he was Gandhi)  NaT  109 min   \n",
       "3                                 #Yaaram  NaT  110 min   \n",
       "5                    ...Aur Pyaar Ho Gaya  NaT  147 min   \n",
       "6                               ...Yahaan  NaT  142 min   \n",
       "8                      ?: A Question Mark  NaT   82 min   \n",
       "...                                   ...  ...      ...   \n",
       "15501                     Zulm Ki Hukumat  NaT      NaN   \n",
       "15503                     Zulm Ki Zanjeer  NaT  125 min   \n",
       "15504                 Zulm Ko Jala Doonga  NaT      NaN   \n",
       "15505                               Zulmi  NaT  129 min   \n",
       "15508                        Zulm-O-Sitam  NaT  130 min   \n",
       "\n",
       "                           Genre  Rating  Votes           Director  \\\n",
       "1                          Drama     7.0      8      Gaurav Bakshi   \n",
       "3                Comedy, Romance     4.4     35         Ovais Khan   \n",
       "5         Comedy, Drama, Musical     4.7    827       Rahul Rawail   \n",
       "6            Drama, Romance, War     7.4  1,086     Shoojit Sircar   \n",
       "8      Horror, Mystery, Thriller     5.6    326      Allyson Patel   \n",
       "...                          ...     ...    ...                ...   \n",
       "15501       Action, Crime, Drama     5.3    135  Bharat Rangachary   \n",
       "15503       Action, Crime, Drama     5.8     44    S.P. Muthuraman   \n",
       "15504                     Action     4.6     11      Mahendra Shah   \n",
       "15505              Action, Drama     4.5    655         Kuku Kohli   \n",
       "15508              Action, Drama     6.2     20       K.C. Bokadia   \n",
       "\n",
       "                Actor 1                 Actor 2          Actor 3  \n",
       "1          Rasika Dugal          Vivek Ghamande    Arvind Jangid  \n",
       "3               Prateik              Ishita Raj  Siddhant Kapoor  \n",
       "5            Bobby Deol  Aishwarya Rai Bachchan    Shammi Kapoor  \n",
       "6       Jimmy Sheirgill          Minissha Lamba   Yashpal Sharma  \n",
       "8             Yash Dave          Muntazir Ahmad     Kiran Bhatia  \n",
       "...                 ...                     ...              ...  \n",
       "15501        Dharmendra     Moushumi Chatterjee          Govinda  \n",
       "15503       Chiranjeevi              Jayamalini      Rajinikanth  \n",
       "15504  Naseeruddin Shah           Sumeet Saigal    Suparna Anand  \n",
       "15505      Akshay Kumar          Twinkle Khanna      Aruna Irani  \n",
       "15508        Dharmendra              Jaya Prada      Arjun Sarja  \n",
       "\n",
       "[7558 rows x 10 columns]"
      ]
     },
     "execution_count": 58,
     "metadata": {},
     "output_type": "execute_result"
    }
   ],
   "source": [
    "df"
   ]
  },
  {
   "cell_type": "code",
   "execution_count": 59,
   "id": "1f3dca7c",
   "metadata": {},
   "outputs": [],
   "source": [
    "from sklearn.preprocessing import MultiLabelBinarizer"
   ]
  },
  {
   "cell_type": "code",
   "execution_count": 60,
   "id": "2cb33ba4",
   "metadata": {},
   "outputs": [
    {
     "name": "stderr",
     "output_type": "stream",
     "text": [
      "C:\\Users\\Nitro\\AppData\\Local\\Temp\\ipykernel_50704\\1956078587.py:1: SettingWithCopyWarning: \n",
      "A value is trying to be set on a copy of a slice from a DataFrame.\n",
      "Try using .loc[row_indexer,col_indexer] = value instead\n",
      "\n",
      "See the caveats in the documentation: https://pandas.pydata.org/pandas-docs/stable/user_guide/indexing.html#returning-a-view-versus-a-copy\n",
      "  df['Genre'] = df['Genre'].str.split(', ')\n"
     ]
    }
   ],
   "source": [
    "df['Genre'] = df['Genre'].str.split(', ')"
   ]
  },
  {
   "cell_type": "markdown",
   "id": "f03f5e11",
   "metadata": {},
   "source": [
    "# splitting genre and checking if movie belong to that genre"
   ]
  },
  {
   "cell_type": "code",
   "execution_count": 61,
   "id": "0f34c772",
   "metadata": {},
   "outputs": [],
   "source": [
    "mlb = MultiLabelBinarizer()\n",
    "genre_encoded = pd.DataFrame(mlb.fit_transform(df['Genre']), columns=mlb.classes_, index=df.index)\n",
    "df = pd.concat([df, genre_encoded], axis=1)"
   ]
  },
  {
   "cell_type": "code",
   "execution_count": 62,
   "id": "b7e205cd",
   "metadata": {},
   "outputs": [],
   "source": [
    "df['Director_freq'] = df['Director'].map(df['Director'].value_counts())\n",
    "df['Actors_freq1'] = df['Actor 1'].map(df['Actor 1'].value_counts())\n",
    "df['Actors_freq2'] = df['Actor 2'].map(df['Actor 2'].value_counts())\n",
    "df['Actors_freq3'] = df['Actor 3'].map(df['Actor 3'].value_counts())"
   ]
  },
  {
   "cell_type": "code",
   "execution_count": 63,
   "id": "b3c13198",
   "metadata": {},
   "outputs": [],
   "source": [
    "df['Name_Length'] = df['Name'].str.len()"
   ]
  },
  {
   "cell_type": "code",
   "execution_count": 64,
   "id": "6ffe0cc5",
   "metadata": {},
   "outputs": [],
   "source": [
    "features = genre_encoded.columns.tolist() + ['Director_freq', 'Actors_freq1','Actors_freq2','Actors_freq3', 'Name_Length']\n",
    "X = df[features]\n",
    "y = df['Rating']"
   ]
  },
  {
   "cell_type": "code",
   "execution_count": 65,
   "id": "d59be0e7",
   "metadata": {},
   "outputs": [],
   "source": [
    "from sklearn.model_selection import train_test_split\n",
    "\n",
    "X_train, X_test, y_train, y_test = train_test_split(X, y, test_size=0.2, random_state=42)\n"
   ]
  },
  {
   "cell_type": "code",
   "execution_count": 66,
   "id": "c4d65d27",
   "metadata": {},
   "outputs": [
    {
     "data": {
      "text/html": [
       "<style>#sk-container-id-2 {\n",
       "  /* Definition of color scheme common for light and dark mode */\n",
       "  --sklearn-color-text: #000;\n",
       "  --sklearn-color-text-muted: #666;\n",
       "  --sklearn-color-line: gray;\n",
       "  /* Definition of color scheme for unfitted estimators */\n",
       "  --sklearn-color-unfitted-level-0: #fff5e6;\n",
       "  --sklearn-color-unfitted-level-1: #f6e4d2;\n",
       "  --sklearn-color-unfitted-level-2: #ffe0b3;\n",
       "  --sklearn-color-unfitted-level-3: chocolate;\n",
       "  /* Definition of color scheme for fitted estimators */\n",
       "  --sklearn-color-fitted-level-0: #f0f8ff;\n",
       "  --sklearn-color-fitted-level-1: #d4ebff;\n",
       "  --sklearn-color-fitted-level-2: #b3dbfd;\n",
       "  --sklearn-color-fitted-level-3: cornflowerblue;\n",
       "\n",
       "  /* Specific color for light theme */\n",
       "  --sklearn-color-text-on-default-background: var(--sg-text-color, var(--theme-code-foreground, var(--jp-content-font-color1, black)));\n",
       "  --sklearn-color-background: var(--sg-background-color, var(--theme-background, var(--jp-layout-color0, white)));\n",
       "  --sklearn-color-border-box: var(--sg-text-color, var(--theme-code-foreground, var(--jp-content-font-color1, black)));\n",
       "  --sklearn-color-icon: #696969;\n",
       "\n",
       "  @media (prefers-color-scheme: dark) {\n",
       "    /* Redefinition of color scheme for dark theme */\n",
       "    --sklearn-color-text-on-default-background: var(--sg-text-color, var(--theme-code-foreground, var(--jp-content-font-color1, white)));\n",
       "    --sklearn-color-background: var(--sg-background-color, var(--theme-background, var(--jp-layout-color0, #111)));\n",
       "    --sklearn-color-border-box: var(--sg-text-color, var(--theme-code-foreground, var(--jp-content-font-color1, white)));\n",
       "    --sklearn-color-icon: #878787;\n",
       "  }\n",
       "}\n",
       "\n",
       "#sk-container-id-2 {\n",
       "  color: var(--sklearn-color-text);\n",
       "}\n",
       "\n",
       "#sk-container-id-2 pre {\n",
       "  padding: 0;\n",
       "}\n",
       "\n",
       "#sk-container-id-2 input.sk-hidden--visually {\n",
       "  border: 0;\n",
       "  clip: rect(1px 1px 1px 1px);\n",
       "  clip: rect(1px, 1px, 1px, 1px);\n",
       "  height: 1px;\n",
       "  margin: -1px;\n",
       "  overflow: hidden;\n",
       "  padding: 0;\n",
       "  position: absolute;\n",
       "  width: 1px;\n",
       "}\n",
       "\n",
       "#sk-container-id-2 div.sk-dashed-wrapped {\n",
       "  border: 1px dashed var(--sklearn-color-line);\n",
       "  margin: 0 0.4em 0.5em 0.4em;\n",
       "  box-sizing: border-box;\n",
       "  padding-bottom: 0.4em;\n",
       "  background-color: var(--sklearn-color-background);\n",
       "}\n",
       "\n",
       "#sk-container-id-2 div.sk-container {\n",
       "  /* jupyter's `normalize.less` sets `[hidden] { display: none; }`\n",
       "     but bootstrap.min.css set `[hidden] { display: none !important; }`\n",
       "     so we also need the `!important` here to be able to override the\n",
       "     default hidden behavior on the sphinx rendered scikit-learn.org.\n",
       "     See: https://github.com/scikit-learn/scikit-learn/issues/21755 */\n",
       "  display: inline-block !important;\n",
       "  position: relative;\n",
       "}\n",
       "\n",
       "#sk-container-id-2 div.sk-text-repr-fallback {\n",
       "  display: none;\n",
       "}\n",
       "\n",
       "div.sk-parallel-item,\n",
       "div.sk-serial,\n",
       "div.sk-item {\n",
       "  /* draw centered vertical line to link estimators */\n",
       "  background-image: linear-gradient(var(--sklearn-color-text-on-default-background), var(--sklearn-color-text-on-default-background));\n",
       "  background-size: 2px 100%;\n",
       "  background-repeat: no-repeat;\n",
       "  background-position: center center;\n",
       "}\n",
       "\n",
       "/* Parallel-specific style estimator block */\n",
       "\n",
       "#sk-container-id-2 div.sk-parallel-item::after {\n",
       "  content: \"\";\n",
       "  width: 100%;\n",
       "  border-bottom: 2px solid var(--sklearn-color-text-on-default-background);\n",
       "  flex-grow: 1;\n",
       "}\n",
       "\n",
       "#sk-container-id-2 div.sk-parallel {\n",
       "  display: flex;\n",
       "  align-items: stretch;\n",
       "  justify-content: center;\n",
       "  background-color: var(--sklearn-color-background);\n",
       "  position: relative;\n",
       "}\n",
       "\n",
       "#sk-container-id-2 div.sk-parallel-item {\n",
       "  display: flex;\n",
       "  flex-direction: column;\n",
       "}\n",
       "\n",
       "#sk-container-id-2 div.sk-parallel-item:first-child::after {\n",
       "  align-self: flex-end;\n",
       "  width: 50%;\n",
       "}\n",
       "\n",
       "#sk-container-id-2 div.sk-parallel-item:last-child::after {\n",
       "  align-self: flex-start;\n",
       "  width: 50%;\n",
       "}\n",
       "\n",
       "#sk-container-id-2 div.sk-parallel-item:only-child::after {\n",
       "  width: 0;\n",
       "}\n",
       "\n",
       "/* Serial-specific style estimator block */\n",
       "\n",
       "#sk-container-id-2 div.sk-serial {\n",
       "  display: flex;\n",
       "  flex-direction: column;\n",
       "  align-items: center;\n",
       "  background-color: var(--sklearn-color-background);\n",
       "  padding-right: 1em;\n",
       "  padding-left: 1em;\n",
       "}\n",
       "\n",
       "\n",
       "/* Toggleable style: style used for estimator/Pipeline/ColumnTransformer box that is\n",
       "clickable and can be expanded/collapsed.\n",
       "- Pipeline and ColumnTransformer use this feature and define the default style\n",
       "- Estimators will overwrite some part of the style using the `sk-estimator` class\n",
       "*/\n",
       "\n",
       "/* Pipeline and ColumnTransformer style (default) */\n",
       "\n",
       "#sk-container-id-2 div.sk-toggleable {\n",
       "  /* Default theme specific background. It is overwritten whether we have a\n",
       "  specific estimator or a Pipeline/ColumnTransformer */\n",
       "  background-color: var(--sklearn-color-background);\n",
       "}\n",
       "\n",
       "/* Toggleable label */\n",
       "#sk-container-id-2 label.sk-toggleable__label {\n",
       "  cursor: pointer;\n",
       "  display: flex;\n",
       "  width: 100%;\n",
       "  margin-bottom: 0;\n",
       "  padding: 0.5em;\n",
       "  box-sizing: border-box;\n",
       "  text-align: center;\n",
       "  align-items: start;\n",
       "  justify-content: space-between;\n",
       "  gap: 0.5em;\n",
       "}\n",
       "\n",
       "#sk-container-id-2 label.sk-toggleable__label .caption {\n",
       "  font-size: 0.6rem;\n",
       "  font-weight: lighter;\n",
       "  color: var(--sklearn-color-text-muted);\n",
       "}\n",
       "\n",
       "#sk-container-id-2 label.sk-toggleable__label-arrow:before {\n",
       "  /* Arrow on the left of the label */\n",
       "  content: \"▸\";\n",
       "  float: left;\n",
       "  margin-right: 0.25em;\n",
       "  color: var(--sklearn-color-icon);\n",
       "}\n",
       "\n",
       "#sk-container-id-2 label.sk-toggleable__label-arrow:hover:before {\n",
       "  color: var(--sklearn-color-text);\n",
       "}\n",
       "\n",
       "/* Toggleable content - dropdown */\n",
       "\n",
       "#sk-container-id-2 div.sk-toggleable__content {\n",
       "  display: none;\n",
       "  text-align: left;\n",
       "  /* unfitted */\n",
       "  background-color: var(--sklearn-color-unfitted-level-0);\n",
       "}\n",
       "\n",
       "#sk-container-id-2 div.sk-toggleable__content.fitted {\n",
       "  /* fitted */\n",
       "  background-color: var(--sklearn-color-fitted-level-0);\n",
       "}\n",
       "\n",
       "#sk-container-id-2 div.sk-toggleable__content pre {\n",
       "  margin: 0.2em;\n",
       "  border-radius: 0.25em;\n",
       "  color: var(--sklearn-color-text);\n",
       "  /* unfitted */\n",
       "  background-color: var(--sklearn-color-unfitted-level-0);\n",
       "}\n",
       "\n",
       "#sk-container-id-2 div.sk-toggleable__content.fitted pre {\n",
       "  /* unfitted */\n",
       "  background-color: var(--sklearn-color-fitted-level-0);\n",
       "}\n",
       "\n",
       "#sk-container-id-2 input.sk-toggleable__control:checked~div.sk-toggleable__content {\n",
       "  /* Expand drop-down */\n",
       "  display: block;\n",
       "  width: 100%;\n",
       "  overflow: visible;\n",
       "}\n",
       "\n",
       "#sk-container-id-2 input.sk-toggleable__control:checked~label.sk-toggleable__label-arrow:before {\n",
       "  content: \"▾\";\n",
       "}\n",
       "\n",
       "/* Pipeline/ColumnTransformer-specific style */\n",
       "\n",
       "#sk-container-id-2 div.sk-label input.sk-toggleable__control:checked~label.sk-toggleable__label {\n",
       "  color: var(--sklearn-color-text);\n",
       "  background-color: var(--sklearn-color-unfitted-level-2);\n",
       "}\n",
       "\n",
       "#sk-container-id-2 div.sk-label.fitted input.sk-toggleable__control:checked~label.sk-toggleable__label {\n",
       "  background-color: var(--sklearn-color-fitted-level-2);\n",
       "}\n",
       "\n",
       "/* Estimator-specific style */\n",
       "\n",
       "/* Colorize estimator box */\n",
       "#sk-container-id-2 div.sk-estimator input.sk-toggleable__control:checked~label.sk-toggleable__label {\n",
       "  /* unfitted */\n",
       "  background-color: var(--sklearn-color-unfitted-level-2);\n",
       "}\n",
       "\n",
       "#sk-container-id-2 div.sk-estimator.fitted input.sk-toggleable__control:checked~label.sk-toggleable__label {\n",
       "  /* fitted */\n",
       "  background-color: var(--sklearn-color-fitted-level-2);\n",
       "}\n",
       "\n",
       "#sk-container-id-2 div.sk-label label.sk-toggleable__label,\n",
       "#sk-container-id-2 div.sk-label label {\n",
       "  /* The background is the default theme color */\n",
       "  color: var(--sklearn-color-text-on-default-background);\n",
       "}\n",
       "\n",
       "/* On hover, darken the color of the background */\n",
       "#sk-container-id-2 div.sk-label:hover label.sk-toggleable__label {\n",
       "  color: var(--sklearn-color-text);\n",
       "  background-color: var(--sklearn-color-unfitted-level-2);\n",
       "}\n",
       "\n",
       "/* Label box, darken color on hover, fitted */\n",
       "#sk-container-id-2 div.sk-label.fitted:hover label.sk-toggleable__label.fitted {\n",
       "  color: var(--sklearn-color-text);\n",
       "  background-color: var(--sklearn-color-fitted-level-2);\n",
       "}\n",
       "\n",
       "/* Estimator label */\n",
       "\n",
       "#sk-container-id-2 div.sk-label label {\n",
       "  font-family: monospace;\n",
       "  font-weight: bold;\n",
       "  display: inline-block;\n",
       "  line-height: 1.2em;\n",
       "}\n",
       "\n",
       "#sk-container-id-2 div.sk-label-container {\n",
       "  text-align: center;\n",
       "}\n",
       "\n",
       "/* Estimator-specific */\n",
       "#sk-container-id-2 div.sk-estimator {\n",
       "  font-family: monospace;\n",
       "  border: 1px dotted var(--sklearn-color-border-box);\n",
       "  border-radius: 0.25em;\n",
       "  box-sizing: border-box;\n",
       "  margin-bottom: 0.5em;\n",
       "  /* unfitted */\n",
       "  background-color: var(--sklearn-color-unfitted-level-0);\n",
       "}\n",
       "\n",
       "#sk-container-id-2 div.sk-estimator.fitted {\n",
       "  /* fitted */\n",
       "  background-color: var(--sklearn-color-fitted-level-0);\n",
       "}\n",
       "\n",
       "/* on hover */\n",
       "#sk-container-id-2 div.sk-estimator:hover {\n",
       "  /* unfitted */\n",
       "  background-color: var(--sklearn-color-unfitted-level-2);\n",
       "}\n",
       "\n",
       "#sk-container-id-2 div.sk-estimator.fitted:hover {\n",
       "  /* fitted */\n",
       "  background-color: var(--sklearn-color-fitted-level-2);\n",
       "}\n",
       "\n",
       "/* Specification for estimator info (e.g. \"i\" and \"?\") */\n",
       "\n",
       "/* Common style for \"i\" and \"?\" */\n",
       "\n",
       ".sk-estimator-doc-link,\n",
       "a:link.sk-estimator-doc-link,\n",
       "a:visited.sk-estimator-doc-link {\n",
       "  float: right;\n",
       "  font-size: smaller;\n",
       "  line-height: 1em;\n",
       "  font-family: monospace;\n",
       "  background-color: var(--sklearn-color-background);\n",
       "  border-radius: 1em;\n",
       "  height: 1em;\n",
       "  width: 1em;\n",
       "  text-decoration: none !important;\n",
       "  margin-left: 0.5em;\n",
       "  text-align: center;\n",
       "  /* unfitted */\n",
       "  border: var(--sklearn-color-unfitted-level-1) 1pt solid;\n",
       "  color: var(--sklearn-color-unfitted-level-1);\n",
       "}\n",
       "\n",
       ".sk-estimator-doc-link.fitted,\n",
       "a:link.sk-estimator-doc-link.fitted,\n",
       "a:visited.sk-estimator-doc-link.fitted {\n",
       "  /* fitted */\n",
       "  border: var(--sklearn-color-fitted-level-1) 1pt solid;\n",
       "  color: var(--sklearn-color-fitted-level-1);\n",
       "}\n",
       "\n",
       "/* On hover */\n",
       "div.sk-estimator:hover .sk-estimator-doc-link:hover,\n",
       ".sk-estimator-doc-link:hover,\n",
       "div.sk-label-container:hover .sk-estimator-doc-link:hover,\n",
       ".sk-estimator-doc-link:hover {\n",
       "  /* unfitted */\n",
       "  background-color: var(--sklearn-color-unfitted-level-3);\n",
       "  color: var(--sklearn-color-background);\n",
       "  text-decoration: none;\n",
       "}\n",
       "\n",
       "div.sk-estimator.fitted:hover .sk-estimator-doc-link.fitted:hover,\n",
       ".sk-estimator-doc-link.fitted:hover,\n",
       "div.sk-label-container:hover .sk-estimator-doc-link.fitted:hover,\n",
       ".sk-estimator-doc-link.fitted:hover {\n",
       "  /* fitted */\n",
       "  background-color: var(--sklearn-color-fitted-level-3);\n",
       "  color: var(--sklearn-color-background);\n",
       "  text-decoration: none;\n",
       "}\n",
       "\n",
       "/* Span, style for the box shown on hovering the info icon */\n",
       ".sk-estimator-doc-link span {\n",
       "  display: none;\n",
       "  z-index: 9999;\n",
       "  position: relative;\n",
       "  font-weight: normal;\n",
       "  right: .2ex;\n",
       "  padding: .5ex;\n",
       "  margin: .5ex;\n",
       "  width: min-content;\n",
       "  min-width: 20ex;\n",
       "  max-width: 50ex;\n",
       "  color: var(--sklearn-color-text);\n",
       "  box-shadow: 2pt 2pt 4pt #999;\n",
       "  /* unfitted */\n",
       "  background: var(--sklearn-color-unfitted-level-0);\n",
       "  border: .5pt solid var(--sklearn-color-unfitted-level-3);\n",
       "}\n",
       "\n",
       ".sk-estimator-doc-link.fitted span {\n",
       "  /* fitted */\n",
       "  background: var(--sklearn-color-fitted-level-0);\n",
       "  border: var(--sklearn-color-fitted-level-3);\n",
       "}\n",
       "\n",
       ".sk-estimator-doc-link:hover span {\n",
       "  display: block;\n",
       "}\n",
       "\n",
       "/* \"?\"-specific style due to the `<a>` HTML tag */\n",
       "\n",
       "#sk-container-id-2 a.estimator_doc_link {\n",
       "  float: right;\n",
       "  font-size: 1rem;\n",
       "  line-height: 1em;\n",
       "  font-family: monospace;\n",
       "  background-color: var(--sklearn-color-background);\n",
       "  border-radius: 1rem;\n",
       "  height: 1rem;\n",
       "  width: 1rem;\n",
       "  text-decoration: none;\n",
       "  /* unfitted */\n",
       "  color: var(--sklearn-color-unfitted-level-1);\n",
       "  border: var(--sklearn-color-unfitted-level-1) 1pt solid;\n",
       "}\n",
       "\n",
       "#sk-container-id-2 a.estimator_doc_link.fitted {\n",
       "  /* fitted */\n",
       "  border: var(--sklearn-color-fitted-level-1) 1pt solid;\n",
       "  color: var(--sklearn-color-fitted-level-1);\n",
       "}\n",
       "\n",
       "/* On hover */\n",
       "#sk-container-id-2 a.estimator_doc_link:hover {\n",
       "  /* unfitted */\n",
       "  background-color: var(--sklearn-color-unfitted-level-3);\n",
       "  color: var(--sklearn-color-background);\n",
       "  text-decoration: none;\n",
       "}\n",
       "\n",
       "#sk-container-id-2 a.estimator_doc_link.fitted:hover {\n",
       "  /* fitted */\n",
       "  background-color: var(--sklearn-color-fitted-level-3);\n",
       "}\n",
       "\n",
       ".estimator-table summary {\n",
       "    padding: .5rem;\n",
       "    font-family: monospace;\n",
       "    cursor: pointer;\n",
       "}\n",
       "\n",
       ".estimator-table details[open] {\n",
       "    padding-left: 0.1rem;\n",
       "    padding-right: 0.1rem;\n",
       "    padding-bottom: 0.3rem;\n",
       "}\n",
       "\n",
       ".estimator-table .parameters-table {\n",
       "    margin-left: auto !important;\n",
       "    margin-right: auto !important;\n",
       "}\n",
       "\n",
       ".estimator-table .parameters-table tr:nth-child(odd) {\n",
       "    background-color: #fff;\n",
       "}\n",
       "\n",
       ".estimator-table .parameters-table tr:nth-child(even) {\n",
       "    background-color: #f6f6f6;\n",
       "}\n",
       "\n",
       ".estimator-table .parameters-table tr:hover {\n",
       "    background-color: #e0e0e0;\n",
       "}\n",
       "\n",
       ".estimator-table table td {\n",
       "    border: 1px solid rgba(106, 105, 104, 0.232);\n",
       "}\n",
       "\n",
       ".user-set td {\n",
       "    color:rgb(255, 94, 0);\n",
       "    text-align: left;\n",
       "}\n",
       "\n",
       ".user-set td.value pre {\n",
       "    color:rgb(255, 94, 0) !important;\n",
       "    background-color: transparent !important;\n",
       "}\n",
       "\n",
       ".default td {\n",
       "    color: black;\n",
       "    text-align: left;\n",
       "}\n",
       "\n",
       ".user-set td i,\n",
       ".default td i {\n",
       "    color: black;\n",
       "}\n",
       "\n",
       ".copy-paste-icon {\n",
       "    background-image: url(data:image/svg+xml;base64,PHN2ZyB4bWxucz0iaHR0cDovL3d3dy53My5vcmcvMjAwMC9zdmciIHZpZXdCb3g9IjAgMCA0NDggNTEyIj48IS0tIUZvbnQgQXdlc29tZSBGcmVlIDYuNy4yIGJ5IEBmb250YXdlc29tZSAtIGh0dHBzOi8vZm9udGF3ZXNvbWUuY29tIExpY2Vuc2UgLSBodHRwczovL2ZvbnRhd2Vzb21lLmNvbS9saWNlbnNlL2ZyZWUgQ29weXJpZ2h0IDIwMjUgRm9udGljb25zLCBJbmMuLS0+PHBhdGggZD0iTTIwOCAwTDMzMi4xIDBjMTIuNyAwIDI0LjkgNS4xIDMzLjkgMTQuMWw2Ny45IDY3LjljOSA5IDE0LjEgMjEuMiAxNC4xIDMzLjlMNDQ4IDMzNmMwIDI2LjUtMjEuNSA0OC00OCA0OGwtMTkyIDBjLTI2LjUgMC00OC0yMS41LTQ4LTQ4bDAtMjg4YzAtMjYuNSAyMS41LTQ4IDQ4LTQ4ek00OCAxMjhsODAgMCAwIDY0LTY0IDAgMCAyNTYgMTkyIDAgMC0zMiA2NCAwIDAgNDhjMCAyNi41LTIxLjUgNDgtNDggNDhMNDggNTEyYy0yNi41IDAtNDgtMjEuNS00OC00OEwwIDE3NmMwLTI2LjUgMjEuNS00OCA0OC00OHoiLz48L3N2Zz4=);\n",
       "    background-repeat: no-repeat;\n",
       "    background-size: 14px 14px;\n",
       "    background-position: 0;\n",
       "    display: inline-block;\n",
       "    width: 14px;\n",
       "    height: 14px;\n",
       "    cursor: pointer;\n",
       "}\n",
       "</style><body><div id=\"sk-container-id-2\" class=\"sk-top-container\"><div class=\"sk-text-repr-fallback\"><pre>RandomForestRegressor(random_state=42)</pre><b>In a Jupyter environment, please rerun this cell to show the HTML representation or trust the notebook. <br />On GitHub, the HTML representation is unable to render, please try loading this page with nbviewer.org.</b></div><div class=\"sk-container\" hidden><div class=\"sk-item\"><div class=\"sk-estimator fitted sk-toggleable\"><input class=\"sk-toggleable__control sk-hidden--visually\" id=\"sk-estimator-id-2\" type=\"checkbox\" checked><label for=\"sk-estimator-id-2\" class=\"sk-toggleable__label fitted sk-toggleable__label-arrow\"><div><div>RandomForestRegressor</div></div><div><a class=\"sk-estimator-doc-link fitted\" rel=\"noreferrer\" target=\"_blank\" href=\"https://scikit-learn.org/1.7/modules/generated/sklearn.ensemble.RandomForestRegressor.html\">?<span>Documentation for RandomForestRegressor</span></a><span class=\"sk-estimator-doc-link fitted\">i<span>Fitted</span></span></div></label><div class=\"sk-toggleable__content fitted\" data-param-prefix=\"\">\n",
       "        <div class=\"estimator-table\">\n",
       "            <details>\n",
       "                <summary>Parameters</summary>\n",
       "                <table class=\"parameters-table\">\n",
       "                  <tbody>\n",
       "                    \n",
       "        <tr class=\"default\">\n",
       "            <td><i class=\"copy-paste-icon\"\n",
       "                 onclick=\"copyToClipboard('n_estimators',\n",
       "                          this.parentElement.nextElementSibling)\"\n",
       "            ></i></td>\n",
       "            <td class=\"param\">n_estimators&nbsp;</td>\n",
       "            <td class=\"value\">100</td>\n",
       "        </tr>\n",
       "    \n",
       "\n",
       "        <tr class=\"default\">\n",
       "            <td><i class=\"copy-paste-icon\"\n",
       "                 onclick=\"copyToClipboard('criterion',\n",
       "                          this.parentElement.nextElementSibling)\"\n",
       "            ></i></td>\n",
       "            <td class=\"param\">criterion&nbsp;</td>\n",
       "            <td class=\"value\">&#x27;squared_error&#x27;</td>\n",
       "        </tr>\n",
       "    \n",
       "\n",
       "        <tr class=\"default\">\n",
       "            <td><i class=\"copy-paste-icon\"\n",
       "                 onclick=\"copyToClipboard('max_depth',\n",
       "                          this.parentElement.nextElementSibling)\"\n",
       "            ></i></td>\n",
       "            <td class=\"param\">max_depth&nbsp;</td>\n",
       "            <td class=\"value\">None</td>\n",
       "        </tr>\n",
       "    \n",
       "\n",
       "        <tr class=\"default\">\n",
       "            <td><i class=\"copy-paste-icon\"\n",
       "                 onclick=\"copyToClipboard('min_samples_split',\n",
       "                          this.parentElement.nextElementSibling)\"\n",
       "            ></i></td>\n",
       "            <td class=\"param\">min_samples_split&nbsp;</td>\n",
       "            <td class=\"value\">2</td>\n",
       "        </tr>\n",
       "    \n",
       "\n",
       "        <tr class=\"default\">\n",
       "            <td><i class=\"copy-paste-icon\"\n",
       "                 onclick=\"copyToClipboard('min_samples_leaf',\n",
       "                          this.parentElement.nextElementSibling)\"\n",
       "            ></i></td>\n",
       "            <td class=\"param\">min_samples_leaf&nbsp;</td>\n",
       "            <td class=\"value\">1</td>\n",
       "        </tr>\n",
       "    \n",
       "\n",
       "        <tr class=\"default\">\n",
       "            <td><i class=\"copy-paste-icon\"\n",
       "                 onclick=\"copyToClipboard('min_weight_fraction_leaf',\n",
       "                          this.parentElement.nextElementSibling)\"\n",
       "            ></i></td>\n",
       "            <td class=\"param\">min_weight_fraction_leaf&nbsp;</td>\n",
       "            <td class=\"value\">0.0</td>\n",
       "        </tr>\n",
       "    \n",
       "\n",
       "        <tr class=\"default\">\n",
       "            <td><i class=\"copy-paste-icon\"\n",
       "                 onclick=\"copyToClipboard('max_features',\n",
       "                          this.parentElement.nextElementSibling)\"\n",
       "            ></i></td>\n",
       "            <td class=\"param\">max_features&nbsp;</td>\n",
       "            <td class=\"value\">1.0</td>\n",
       "        </tr>\n",
       "    \n",
       "\n",
       "        <tr class=\"default\">\n",
       "            <td><i class=\"copy-paste-icon\"\n",
       "                 onclick=\"copyToClipboard('max_leaf_nodes',\n",
       "                          this.parentElement.nextElementSibling)\"\n",
       "            ></i></td>\n",
       "            <td class=\"param\">max_leaf_nodes&nbsp;</td>\n",
       "            <td class=\"value\">None</td>\n",
       "        </tr>\n",
       "    \n",
       "\n",
       "        <tr class=\"default\">\n",
       "            <td><i class=\"copy-paste-icon\"\n",
       "                 onclick=\"copyToClipboard('min_impurity_decrease',\n",
       "                          this.parentElement.nextElementSibling)\"\n",
       "            ></i></td>\n",
       "            <td class=\"param\">min_impurity_decrease&nbsp;</td>\n",
       "            <td class=\"value\">0.0</td>\n",
       "        </tr>\n",
       "    \n",
       "\n",
       "        <tr class=\"default\">\n",
       "            <td><i class=\"copy-paste-icon\"\n",
       "                 onclick=\"copyToClipboard('bootstrap',\n",
       "                          this.parentElement.nextElementSibling)\"\n",
       "            ></i></td>\n",
       "            <td class=\"param\">bootstrap&nbsp;</td>\n",
       "            <td class=\"value\">True</td>\n",
       "        </tr>\n",
       "    \n",
       "\n",
       "        <tr class=\"default\">\n",
       "            <td><i class=\"copy-paste-icon\"\n",
       "                 onclick=\"copyToClipboard('oob_score',\n",
       "                          this.parentElement.nextElementSibling)\"\n",
       "            ></i></td>\n",
       "            <td class=\"param\">oob_score&nbsp;</td>\n",
       "            <td class=\"value\">False</td>\n",
       "        </tr>\n",
       "    \n",
       "\n",
       "        <tr class=\"default\">\n",
       "            <td><i class=\"copy-paste-icon\"\n",
       "                 onclick=\"copyToClipboard('n_jobs',\n",
       "                          this.parentElement.nextElementSibling)\"\n",
       "            ></i></td>\n",
       "            <td class=\"param\">n_jobs&nbsp;</td>\n",
       "            <td class=\"value\">None</td>\n",
       "        </tr>\n",
       "    \n",
       "\n",
       "        <tr class=\"user-set\">\n",
       "            <td><i class=\"copy-paste-icon\"\n",
       "                 onclick=\"copyToClipboard('random_state',\n",
       "                          this.parentElement.nextElementSibling)\"\n",
       "            ></i></td>\n",
       "            <td class=\"param\">random_state&nbsp;</td>\n",
       "            <td class=\"value\">42</td>\n",
       "        </tr>\n",
       "    \n",
       "\n",
       "        <tr class=\"default\">\n",
       "            <td><i class=\"copy-paste-icon\"\n",
       "                 onclick=\"copyToClipboard('verbose',\n",
       "                          this.parentElement.nextElementSibling)\"\n",
       "            ></i></td>\n",
       "            <td class=\"param\">verbose&nbsp;</td>\n",
       "            <td class=\"value\">0</td>\n",
       "        </tr>\n",
       "    \n",
       "\n",
       "        <tr class=\"default\">\n",
       "            <td><i class=\"copy-paste-icon\"\n",
       "                 onclick=\"copyToClipboard('warm_start',\n",
       "                          this.parentElement.nextElementSibling)\"\n",
       "            ></i></td>\n",
       "            <td class=\"param\">warm_start&nbsp;</td>\n",
       "            <td class=\"value\">False</td>\n",
       "        </tr>\n",
       "    \n",
       "\n",
       "        <tr class=\"default\">\n",
       "            <td><i class=\"copy-paste-icon\"\n",
       "                 onclick=\"copyToClipboard('ccp_alpha',\n",
       "                          this.parentElement.nextElementSibling)\"\n",
       "            ></i></td>\n",
       "            <td class=\"param\">ccp_alpha&nbsp;</td>\n",
       "            <td class=\"value\">0.0</td>\n",
       "        </tr>\n",
       "    \n",
       "\n",
       "        <tr class=\"default\">\n",
       "            <td><i class=\"copy-paste-icon\"\n",
       "                 onclick=\"copyToClipboard('max_samples',\n",
       "                          this.parentElement.nextElementSibling)\"\n",
       "            ></i></td>\n",
       "            <td class=\"param\">max_samples&nbsp;</td>\n",
       "            <td class=\"value\">None</td>\n",
       "        </tr>\n",
       "    \n",
       "\n",
       "        <tr class=\"default\">\n",
       "            <td><i class=\"copy-paste-icon\"\n",
       "                 onclick=\"copyToClipboard('monotonic_cst',\n",
       "                          this.parentElement.nextElementSibling)\"\n",
       "            ></i></td>\n",
       "            <td class=\"param\">monotonic_cst&nbsp;</td>\n",
       "            <td class=\"value\">None</td>\n",
       "        </tr>\n",
       "    \n",
       "                  </tbody>\n",
       "                </table>\n",
       "            </details>\n",
       "        </div>\n",
       "    </div></div></div></div></div><script>function copyToClipboard(text, element) {\n",
       "    // Get the parameter prefix from the closest toggleable content\n",
       "    const toggleableContent = element.closest('.sk-toggleable__content');\n",
       "    const paramPrefix = toggleableContent ? toggleableContent.dataset.paramPrefix : '';\n",
       "    const fullParamName = paramPrefix ? `${paramPrefix}${text}` : text;\n",
       "\n",
       "    const originalStyle = element.style;\n",
       "    const computedStyle = window.getComputedStyle(element);\n",
       "    const originalWidth = computedStyle.width;\n",
       "    const originalHTML = element.innerHTML.replace('Copied!', '');\n",
       "\n",
       "    navigator.clipboard.writeText(fullParamName)\n",
       "        .then(() => {\n",
       "            element.style.width = originalWidth;\n",
       "            element.style.color = 'green';\n",
       "            element.innerHTML = \"Copied!\";\n",
       "\n",
       "            setTimeout(() => {\n",
       "                element.innerHTML = originalHTML;\n",
       "                element.style = originalStyle;\n",
       "            }, 2000);\n",
       "        })\n",
       "        .catch(err => {\n",
       "            console.error('Failed to copy:', err);\n",
       "            element.style.color = 'red';\n",
       "            element.innerHTML = \"Failed!\";\n",
       "            setTimeout(() => {\n",
       "                element.innerHTML = originalHTML;\n",
       "                element.style = originalStyle;\n",
       "            }, 2000);\n",
       "        });\n",
       "    return false;\n",
       "}\n",
       "\n",
       "document.querySelectorAll('.fa-regular.fa-copy').forEach(function(element) {\n",
       "    const toggleableContent = element.closest('.sk-toggleable__content');\n",
       "    const paramPrefix = toggleableContent ? toggleableContent.dataset.paramPrefix : '';\n",
       "    const paramName = element.parentElement.nextElementSibling.textContent.trim();\n",
       "    const fullParamName = paramPrefix ? `${paramPrefix}${paramName}` : paramName;\n",
       "\n",
       "    element.setAttribute('title', fullParamName);\n",
       "});\n",
       "</script></body>"
      ],
      "text/plain": [
       "RandomForestRegressor(random_state=42)"
      ]
     },
     "execution_count": 66,
     "metadata": {},
     "output_type": "execute_result"
    }
   ],
   "source": [
    "from sklearn.ensemble import RandomForestRegressor\n",
    "\n",
    "model = RandomForestRegressor(random_state=42)\n",
    "model.fit(X_train, y_train)\n"
   ]
  },
  {
   "cell_type": "code",
   "execution_count": 67,
   "id": "40ef7dca",
   "metadata": {},
   "outputs": [],
   "source": [
    "from sklearn.metrics import mean_absolute_error, r2_score"
   ]
  },
  {
   "cell_type": "code",
   "execution_count": 68,
   "id": "2695bd66",
   "metadata": {},
   "outputs": [
    {
     "name": "stdout",
     "output_type": "stream",
     "text": [
      "Requirement already satisfied: scikit-learn in c:\\users\\nitro\\appdata\\local\\programs\\python\\python310\\lib\\site-packages (1.7.0)\n",
      "Requirement already satisfied: numpy>=1.22.0 in c:\\users\\nitro\\appdata\\local\\programs\\python\\python310\\lib\\site-packages (from scikit-learn) (2.1.3)\n",
      "Requirement already satisfied: scipy>=1.8.0 in c:\\users\\nitro\\appdata\\local\\programs\\python\\python310\\lib\\site-packages (from scikit-learn) (1.15.2)\n",
      "Requirement already satisfied: joblib>=1.2.0 in c:\\users\\nitro\\appdata\\local\\programs\\python\\python310\\lib\\site-packages (from scikit-learn) (1.5.0)\n",
      "Requirement already satisfied: threadpoolctl>=3.1.0 in c:\\users\\nitro\\appdata\\local\\programs\\python\\python310\\lib\\site-packages (from scikit-learn) (3.6.0)\n",
      "Note: you may need to restart the kernel to use updated packages.\n"
     ]
    }
   ],
   "source": [
    "pip install --upgrade scikit-learn\n"
   ]
  },
  {
   "cell_type": "code",
   "execution_count": 69,
   "id": "824bca03",
   "metadata": {},
   "outputs": [
    {
     "name": "stdout",
     "output_type": "stream",
     "text": [
      "RMSE: 1.3093306598617522\n",
      "R² Score: 0.07474515196732534\n"
     ]
    }
   ],
   "source": [
    "from sklearn.metrics import mean_squared_error, r2_score\n",
    "\n",
    "y_pred = model.predict(X_test)\n",
    "print('RMSE:', mean_squared_error(y_test, y_pred)**0.5) #since **0.5 can help also on unupdated scikit-learn\n",
    "print('R² Score:', r2_score(y_test, y_pred))\n"
   ]
  },
  {
   "cell_type": "code",
   "execution_count": 70,
   "id": "70772ee3",
   "metadata": {},
   "outputs": [
    {
     "name": "stdout",
     "output_type": "stream",
     "text": [
      "{'max_depth': 10, 'n_estimators': 100}\n"
     ]
    }
   ],
   "source": [
    "from sklearn.model_selection import GridSearchCV\n",
    "\n",
    "param_grid = {\n",
    "    'n_estimators': [50, 100],\n",
    "    'max_depth': [None, 10, 20]\n",
    "}\n",
    "grid_search = GridSearchCV(RandomForestRegressor(), param_grid, cv=3)\n",
    "grid_search.fit(X_train, y_train)\n",
    "print(grid_search.best_params_)\n"
   ]
  },
  {
   "cell_type": "code",
   "execution_count": 71,
   "id": "03fa072f",
   "metadata": {},
   "outputs": [
    {
     "data": {
      "image/png": "[encoded data removed]",
      "text/plain": [
       "<Figure size 640x480 with 1 Axes>"
      ]
     },
     "metadata": {},
     "output_type": "display_data"
    }
   ],
   "source": [
    "import matplotlib.pyplot as plt\n",
    "\n",
    "importances = model.feature_importances_\n",
    "features_importance = pd.Series(importances, index=X.columns)\n",
    "features_importance.nlargest(10).plot(kind='barh')\n",
    "plt.title('Feature Importance')\n",
    "plt.show()\n"
   ]
  }
 ],
 "metadata": {
  "kernelspec": {
   "display_name": "Python 3",
   "language": "python",
   "name": "python3"
  },
  "language_info": {
   "codemirror_mode": {
    "name": "ipython",
    "version": 3
   },
   "file_extension": ".py",
   "mimetype": "text/x-python",
   "name": "python",
   "nbconvert_exporter": "python",
   "pygments_lexer": "ipython3",
   "version": "3.10.11"
  }
 },
 "nbformat": 4,
 "nbformat_minor": 5
}
